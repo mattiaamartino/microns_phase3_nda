{
 "cells": [
  {
   "cell_type": "markdown",
   "metadata": {},
   "source": [
    "# Fetching Pre and Post synaptic Neuron Location"
   ]
  },
  {
   "cell_type": "markdown",
   "metadata": {},
   "source": [
    "## Libraries"
   ]
  },
  {
   "cell_type": "code",
   "execution_count": 1,
   "metadata": {},
   "outputs": [],
   "source": [
    "# ! pip install standard-transform\n",
    "# ! pip install --upgrade caveclient"
   ]
  },
  {
   "cell_type": "code",
   "execution_count": 2,
   "metadata": {},
   "outputs": [
    {
     "name": "stdout",
     "output_type": "stream",
     "text": [
      "Connecting microns@db.datajoint.com:3306\n"
     ]
    },
    {
     "name": "stderr",
     "output_type": "stream",
     "text": [
      "Could not create the ~log table\n",
      "Could not access table `microns_phase3_nda`.`~log`\n"
     ]
    }
   ],
   "source": [
    "import numpy as np\n",
    "import pandas as pd\n",
    "from caveclient import CAVEclient\n",
    "from microns_phase3 import nda\n",
    "from standard_transform import minnie_transform_vx"
   ]
  },
  {
   "cell_type": "markdown",
   "metadata": {},
   "source": [
    "## Preparation"
   ]
  },
  {
   "cell_type": "markdown",
   "metadata": {},
   "source": [
    "Function that transforms the voxel coorindate into a depth coordinate (function given to us by the authors of the Microns Project)"
   ]
  },
  {
   "cell_type": "code",
   "execution_count": 3,
   "metadata": {},
   "outputs": [],
   "source": [
    "t_form_v = minnie_transform_vx()"
   ]
  },
  {
   "cell_type": "markdown",
   "metadata": {},
   "source": [
    "### Querying the data from CAVEclient"
   ]
  },
  {
   "cell_type": "code",
   "execution_count": 4,
   "metadata": {},
   "outputs": [],
   "source": [
    "client = CAVEclient()"
   ]
  },
  {
   "cell_type": "code",
   "execution_count": 5,
   "metadata": {},
   "outputs": [],
   "source": [
    "# client.auth.save_token(\"64ea0271652fd86dc7fb6376cd9d52b9\")"
   ]
  },
  {
   "cell_type": "markdown",
   "metadata": {},
   "source": [
    "We will use the latest version of the minnie65 dataset, i.e. 661"
   ]
  },
  {
   "cell_type": "code",
   "execution_count": 6,
   "metadata": {},
   "outputs": [],
   "source": [
    "client = CAVEclient('minnie65_public_v661')"
   ]
  },
  {
   "cell_type": "code",
   "execution_count": 7,
   "metadata": {},
   "outputs": [
    {
     "data": {
      "text/plain": [
       "['baylor_gnn_cell_type_fine_model_v2',\n",
       " 'nucleus_alternative_points',\n",
       " 'connectivity_groups_v507',\n",
       " 'proofreading_status_public_release',\n",
       " 'allen_column_mtypes_v1',\n",
       " 'allen_v1_column_types_slanted_ref',\n",
       " 'aibs_column_nonneuronal_ref',\n",
       " 'nucleus_ref_neuron_svm',\n",
       " 'aibs_soma_nuc_exc_mtype_preds_v117',\n",
       " 'baylor_log_reg_cell_type_coarse_v1',\n",
       " 'apl_functional_coreg_forward_v5',\n",
       " 'nucleus_detection_v0',\n",
       " 'aibs_soma_nuc_metamodel_preds_v117']"
      ]
     },
     "execution_count": 7,
     "metadata": {},
     "output_type": "execute_result"
    }
   ],
   "source": [
    "client.materialize.get_tables()"
   ]
  },
  {
   "cell_type": "markdown",
   "metadata": {},
   "source": [
    "These are all the available tables, but we are interested only in the *apl_functional_coreg_forward_v5*, that is the one containing the information about the proofread neurons"
   ]
  },
  {
   "cell_type": "code",
   "execution_count": 35,
   "metadata": {},
   "outputs": [
    {
     "data": {
      "text/html": [
       "<div>\n",
       "<style scoped>\n",
       "    .dataframe tbody tr th:only-of-type {\n",
       "        vertical-align: middle;\n",
       "    }\n",
       "\n",
       "    .dataframe tbody tr th {\n",
       "        vertical-align: top;\n",
       "    }\n",
       "\n",
       "    .dataframe thead th {\n",
       "        text-align: right;\n",
       "    }\n",
       "</style>\n",
       "<table border=\"1\" class=\"dataframe\">\n",
       "  <thead>\n",
       "    <tr style=\"text-align: right;\">\n",
       "      <th></th>\n",
       "      <th>id</th>\n",
       "      <th>created</th>\n",
       "      <th>superceded_id</th>\n",
       "      <th>valid</th>\n",
       "      <th>classification_system</th>\n",
       "      <th>cell_type</th>\n",
       "      <th>pt_supervoxel_id</th>\n",
       "      <th>pt_root_id</th>\n",
       "      <th>pt_position</th>\n",
       "    </tr>\n",
       "  </thead>\n",
       "  <tbody>\n",
       "    <tr>\n",
       "      <th>0</th>\n",
       "      <td>1</td>\n",
       "      <td>2022-12-16 00:55:27.003407+00:00</td>\n",
       "      <td>NaN</td>\n",
       "      <td>t</td>\n",
       "      <td>connectivity_group</td>\n",
       "      <td>19</td>\n",
       "      <td>88470829612207965</td>\n",
       "      <td>864691135511632080</td>\n",
       "      <td>[172192, 189648, 21784]</td>\n",
       "    </tr>\n",
       "    <tr>\n",
       "      <th>1</th>\n",
       "      <td>2</td>\n",
       "      <td>2022-12-16 00:55:27.004309+00:00</td>\n",
       "      <td>NaN</td>\n",
       "      <td>t</td>\n",
       "      <td>connectivity_group</td>\n",
       "      <td>12</td>\n",
       "      <td>89880747250804048</td>\n",
       "      <td>864691136723962621</td>\n",
       "      <td>[182384, 208608, 22961]</td>\n",
       "    </tr>\n",
       "    <tr>\n",
       "      <th>2</th>\n",
       "      <td>3</td>\n",
       "      <td>2022-12-16 00:55:27.005162+00:00</td>\n",
       "      <td>NaN</td>\n",
       "      <td>t</td>\n",
       "      <td>connectivity_group</td>\n",
       "      <td>4</td>\n",
       "      <td>91137763852205616</td>\n",
       "      <td>864691136371491976</td>\n",
       "      <td>[191712, 136928, 22487]</td>\n",
       "    </tr>\n",
       "    <tr>\n",
       "      <th>3</th>\n",
       "      <td>4</td>\n",
       "      <td>2022-12-16 00:55:27.006024+00:00</td>\n",
       "      <td>NaN</td>\n",
       "      <td>t</td>\n",
       "      <td>connectivity_group</td>\n",
       "      <td>6</td>\n",
       "      <td>90079140245935801</td>\n",
       "      <td>864691135777733216</td>\n",
       "      <td>[184208, 114224, 21914]</td>\n",
       "    </tr>\n",
       "    <tr>\n",
       "      <th>4</th>\n",
       "      <td>5</td>\n",
       "      <td>2022-12-16 00:55:27.006859+00:00</td>\n",
       "      <td>NaN</td>\n",
       "      <td>t</td>\n",
       "      <td>connectivity_group</td>\n",
       "      <td>2</td>\n",
       "      <td>89589376669051726</td>\n",
       "      <td>864691135490940135</td>\n",
       "      <td>[180752, 135200, 22612]</td>\n",
       "    </tr>\n",
       "  </tbody>\n",
       "</table>\n",
       "</div>"
      ],
      "text/plain": [
       "   id                          created  superceded_id valid  \\\n",
       "0   1 2022-12-16 00:55:27.003407+00:00            NaN     t   \n",
       "1   2 2022-12-16 00:55:27.004309+00:00            NaN     t   \n",
       "2   3 2022-12-16 00:55:27.005162+00:00            NaN     t   \n",
       "3   4 2022-12-16 00:55:27.006024+00:00            NaN     t   \n",
       "4   5 2022-12-16 00:55:27.006859+00:00            NaN     t   \n",
       "\n",
       "  classification_system  cell_type   pt_supervoxel_id          pt_root_id  \\\n",
       "0    connectivity_group         19  88470829612207965  864691135511632080   \n",
       "1    connectivity_group         12  89880747250804048  864691136723962621   \n",
       "2    connectivity_group          4  91137763852205616  864691136371491976   \n",
       "3    connectivity_group          6  90079140245935801  864691135777733216   \n",
       "4    connectivity_group          2  89589376669051726  864691135490940135   \n",
       "\n",
       "               pt_position  \n",
       "0  [172192, 189648, 21784]  \n",
       "1  [182384, 208608, 22961]  \n",
       "2  [191712, 136928, 22487]  \n",
       "3  [184208, 114224, 21914]  \n",
       "4  [180752, 135200, 22612]  "
      ]
     },
     "execution_count": 35,
     "metadata": {},
     "output_type": "execute_result"
    }
   ],
   "source": [
    "temp.head()"
   ]
  },
  {
   "cell_type": "code",
   "execution_count": 10,
   "metadata": {},
   "outputs": [],
   "source": [
    "df = client.materialize.query_table('apl_functional_coreg_forward_v5')"
   ]
  },
  {
   "cell_type": "markdown",
   "metadata": {},
   "source": [
    "We start by setting as the index he ID associated to the root of the synapse"
   ]
  },
  {
   "cell_type": "code",
   "execution_count": 11,
   "metadata": {},
   "outputs": [],
   "source": [
    "df = df.set_index('pt_root_id')"
   ]
  },
  {
   "cell_type": "code",
   "execution_count": 12,
   "metadata": {},
   "outputs": [
    {
     "data": {
      "text/html": [
       "<div>\n",
       "<style scoped>\n",
       "    .dataframe tbody tr th:only-of-type {\n",
       "        vertical-align: middle;\n",
       "    }\n",
       "\n",
       "    .dataframe tbody tr th {\n",
       "        vertical-align: top;\n",
       "    }\n",
       "\n",
       "    .dataframe thead th {\n",
       "        text-align: right;\n",
       "    }\n",
       "</style>\n",
       "<table border=\"1\" class=\"dataframe\">\n",
       "  <thead>\n",
       "    <tr style=\"text-align: right;\">\n",
       "      <th></th>\n",
       "      <th>id_ref</th>\n",
       "      <th>created_ref</th>\n",
       "      <th>valid_ref</th>\n",
       "      <th>volume</th>\n",
       "      <th>pt_supervoxel_id</th>\n",
       "      <th>id</th>\n",
       "      <th>created</th>\n",
       "      <th>valid</th>\n",
       "      <th>target_id</th>\n",
       "      <th>session</th>\n",
       "      <th>scan_idx</th>\n",
       "      <th>unit_id</th>\n",
       "      <th>field</th>\n",
       "      <th>residual</th>\n",
       "      <th>score</th>\n",
       "      <th>pt_position</th>\n",
       "      <th>bb_start_position</th>\n",
       "      <th>bb_end_position</th>\n",
       "    </tr>\n",
       "    <tr>\n",
       "      <th>pt_root_id</th>\n",
       "      <th></th>\n",
       "      <th></th>\n",
       "      <th></th>\n",
       "      <th></th>\n",
       "      <th></th>\n",
       "      <th></th>\n",
       "      <th></th>\n",
       "      <th></th>\n",
       "      <th></th>\n",
       "      <th></th>\n",
       "      <th></th>\n",
       "      <th></th>\n",
       "      <th></th>\n",
       "      <th></th>\n",
       "      <th></th>\n",
       "      <th></th>\n",
       "      <th></th>\n",
       "      <th></th>\n",
       "    </tr>\n",
       "  </thead>\n",
       "  <tbody>\n",
       "    <tr>\n",
       "      <th>864691135568539372</th>\n",
       "      <td>255686</td>\n",
       "      <td>2020-09-28 22:40:42.632533+00:00</td>\n",
       "      <td>t</td>\n",
       "      <td>297.846047</td>\n",
       "      <td>88954888800920543</td>\n",
       "      <td>67007</td>\n",
       "      <td>2023-04-06 15:05:50.491194+00:00</td>\n",
       "      <td>t</td>\n",
       "      <td>255686</td>\n",
       "      <td>9</td>\n",
       "      <td>6</td>\n",
       "      <td>1913</td>\n",
       "      <td>2</td>\n",
       "      <td>8.941486</td>\n",
       "      <td>4.206369</td>\n",
       "      <td>[175760, 126480, 15504]</td>\n",
       "      <td>[nan, nan, nan]</td>\n",
       "      <td>[nan, nan, nan]</td>\n",
       "    </tr>\n",
       "    <tr>\n",
       "      <th>864691135568539372</th>\n",
       "      <td>255686</td>\n",
       "      <td>2020-09-28 22:40:42.632533+00:00</td>\n",
       "      <td>t</td>\n",
       "      <td>297.846047</td>\n",
       "      <td>88954888800920543</td>\n",
       "      <td>65810</td>\n",
       "      <td>2023-04-06 15:05:49.502144+00:00</td>\n",
       "      <td>t</td>\n",
       "      <td>255686</td>\n",
       "      <td>9</td>\n",
       "      <td>4</td>\n",
       "      <td>7548</td>\n",
       "      <td>6</td>\n",
       "      <td>9.380808</td>\n",
       "      <td>-5.165012</td>\n",
       "      <td>[175760, 126480, 15504]</td>\n",
       "      <td>[nan, nan, nan]</td>\n",
       "      <td>[nan, nan, nan]</td>\n",
       "    </tr>\n",
       "    <tr>\n",
       "      <th>864691135568539372</th>\n",
       "      <td>255686</td>\n",
       "      <td>2020-09-28 22:40:42.632533+00:00</td>\n",
       "      <td>t</td>\n",
       "      <td>297.846047</td>\n",
       "      <td>88954888800920543</td>\n",
       "      <td>54982</td>\n",
       "      <td>2023-04-06 15:05:15.938520+00:00</td>\n",
       "      <td>t</td>\n",
       "      <td>255686</td>\n",
       "      <td>8</td>\n",
       "      <td>7</td>\n",
       "      <td>4778</td>\n",
       "      <td>4</td>\n",
       "      <td>3.763804</td>\n",
       "      <td>5.341737</td>\n",
       "      <td>[175760, 126480, 15504]</td>\n",
       "      <td>[nan, nan, nan]</td>\n",
       "      <td>[nan, nan, nan]</td>\n",
       "    </tr>\n",
       "    <tr>\n",
       "      <th>864691135568539372</th>\n",
       "      <td>255686</td>\n",
       "      <td>2020-09-28 22:40:42.632533+00:00</td>\n",
       "      <td>t</td>\n",
       "      <td>297.846047</td>\n",
       "      <td>88954888800920543</td>\n",
       "      <td>46412</td>\n",
       "      <td>2023-04-06 15:04:43.197444+00:00</td>\n",
       "      <td>t</td>\n",
       "      <td>255686</td>\n",
       "      <td>7</td>\n",
       "      <td>5</td>\n",
       "      <td>1946</td>\n",
       "      <td>2</td>\n",
       "      <td>4.071072</td>\n",
       "      <td>3.306988</td>\n",
       "      <td>[175760, 126480, 15504]</td>\n",
       "      <td>[nan, nan, nan]</td>\n",
       "      <td>[nan, nan, nan]</td>\n",
       "    </tr>\n",
       "    <tr>\n",
       "      <th>864691135568539372</th>\n",
       "      <td>255686</td>\n",
       "      <td>2020-09-28 22:40:42.632533+00:00</td>\n",
       "      <td>t</td>\n",
       "      <td>297.846047</td>\n",
       "      <td>88954888800920543</td>\n",
       "      <td>11823</td>\n",
       "      <td>2023-04-06 15:03:01.038836+00:00</td>\n",
       "      <td>t</td>\n",
       "      <td>255686</td>\n",
       "      <td>5</td>\n",
       "      <td>3</td>\n",
       "      <td>1994</td>\n",
       "      <td>2</td>\n",
       "      <td>5.419972</td>\n",
       "      <td>6.644126</td>\n",
       "      <td>[175760, 126480, 15504]</td>\n",
       "      <td>[nan, nan, nan]</td>\n",
       "      <td>[nan, nan, nan]</td>\n",
       "    </tr>\n",
       "  </tbody>\n",
       "</table>\n",
       "</div>"
      ],
      "text/plain": [
       "                    id_ref                      created_ref valid_ref  \\\n",
       "pt_root_id                                                              \n",
       "864691135568539372  255686 2020-09-28 22:40:42.632533+00:00         t   \n",
       "864691135568539372  255686 2020-09-28 22:40:42.632533+00:00         t   \n",
       "864691135568539372  255686 2020-09-28 22:40:42.632533+00:00         t   \n",
       "864691135568539372  255686 2020-09-28 22:40:42.632533+00:00         t   \n",
       "864691135568539372  255686 2020-09-28 22:40:42.632533+00:00         t   \n",
       "\n",
       "                        volume   pt_supervoxel_id     id  \\\n",
       "pt_root_id                                                 \n",
       "864691135568539372  297.846047  88954888800920543  67007   \n",
       "864691135568539372  297.846047  88954888800920543  65810   \n",
       "864691135568539372  297.846047  88954888800920543  54982   \n",
       "864691135568539372  297.846047  88954888800920543  46412   \n",
       "864691135568539372  297.846047  88954888800920543  11823   \n",
       "\n",
       "                                            created valid  target_id  session  \\\n",
       "pt_root_id                                                                      \n",
       "864691135568539372 2023-04-06 15:05:50.491194+00:00     t     255686        9   \n",
       "864691135568539372 2023-04-06 15:05:49.502144+00:00     t     255686        9   \n",
       "864691135568539372 2023-04-06 15:05:15.938520+00:00     t     255686        8   \n",
       "864691135568539372 2023-04-06 15:04:43.197444+00:00     t     255686        7   \n",
       "864691135568539372 2023-04-06 15:03:01.038836+00:00     t     255686        5   \n",
       "\n",
       "                    scan_idx  unit_id  field  residual     score  \\\n",
       "pt_root_id                                                         \n",
       "864691135568539372         6     1913      2  8.941486  4.206369   \n",
       "864691135568539372         4     7548      6  9.380808 -5.165012   \n",
       "864691135568539372         7     4778      4  3.763804  5.341737   \n",
       "864691135568539372         5     1946      2  4.071072  3.306988   \n",
       "864691135568539372         3     1994      2  5.419972  6.644126   \n",
       "\n",
       "                                pt_position bb_start_position  bb_end_position  \n",
       "pt_root_id                                                                      \n",
       "864691135568539372  [175760, 126480, 15504]   [nan, nan, nan]  [nan, nan, nan]  \n",
       "864691135568539372  [175760, 126480, 15504]   [nan, nan, nan]  [nan, nan, nan]  \n",
       "864691135568539372  [175760, 126480, 15504]   [nan, nan, nan]  [nan, nan, nan]  \n",
       "864691135568539372  [175760, 126480, 15504]   [nan, nan, nan]  [nan, nan, nan]  \n",
       "864691135568539372  [175760, 126480, 15504]   [nan, nan, nan]  [nan, nan, nan]  "
      ]
     },
     "execution_count": 12,
     "metadata": {},
     "output_type": "execute_result"
    }
   ],
   "source": [
    "df.head()"
   ]
  },
  {
   "cell_type": "code",
   "execution_count": 13,
   "metadata": {},
   "outputs": [
    {
     "data": {
      "text/plain": [
       "(68873, 18)"
      ]
     },
     "execution_count": 13,
     "metadata": {},
     "output_type": "execute_result"
    }
   ],
   "source": [
    "df.shape"
   ]
  },
  {
   "cell_type": "code",
   "execution_count": 14,
   "metadata": {},
   "outputs": [
    {
     "data": {
      "text/plain": [
       "(13, 3873)"
      ]
     },
     "execution_count": 14,
     "metadata": {},
     "output_type": "execute_result"
    }
   ],
   "source": [
    "df.shape[0]//5000, df.shape[0]%5000"
   ]
  },
  {
   "cell_type": "code",
   "execution_count": 15,
   "metadata": {},
   "outputs": [],
   "source": [
    "unit_keys_1 = df.iloc[:5000, :][['session', 'scan_idx', 'unit_id']].to_dict(orient='records')\n",
    "# unit_keys_2 = df.iloc[5000:10000, ]"
   ]
  },
  {
   "cell_type": "code",
   "execution_count": 27,
   "metadata": {},
   "outputs": [
    {
     "name": "stderr",
     "output_type": "stream",
     "text": [
      "/usr/local/lib/python3.9/site-packages/datajoint/connection.py:219: UserWarning: MySQL server has gone away. Reconnecting to the server.\n",
      "  warnings.warn(\"MySQL server has gone away. Reconnecting to the server.\")\n"
     ]
    },
    {
     "name": "stdout",
     "output_type": "stream",
     "text": [
      "0\n",
      "1\n",
      "2\n",
      "3\n",
      "4\n",
      "5\n",
      "6\n",
      "7\n",
      "8\n",
      "9\n",
      "10\n",
      "11\n",
      "12\n"
     ]
    }
   ],
   "source": [
    "area_membership = []\n",
    "for i in range(13):\n",
    "    unit_keys = df.iloc[i*5000:i*5000+5000, :][['session', 'scan_idx', 'unit_id']].to_dict(orient='records')\n",
    "    temp = (nda.AreaMembership & unit_keys).fetch('brain_area')\n",
    "    area_membership = np.concatenate((area_membership, temp), axis=0)\n",
    "    print('Step' + i + 'completed!')\n",
    "unit_keys = df.iloc[65000: 68873, :][['session', 'scan_idx', 'unit_id']].to_dict(orient='records')\n",
    "temp = (nda.AreaMembership & unit_keys).fetch('brain_area')\n",
    "area_membership = np.concatenate((area_membership, temp), axis=0)"
   ]
  },
  {
   "cell_type": "code",
   "execution_count": 32,
   "metadata": {},
   "outputs": [
    {
     "data": {
      "text/html": [
       "<div>\n",
       "<style scoped>\n",
       "    .dataframe tbody tr th:only-of-type {\n",
       "        vertical-align: middle;\n",
       "    }\n",
       "\n",
       "    .dataframe tbody tr th {\n",
       "        vertical-align: top;\n",
       "    }\n",
       "\n",
       "    .dataframe thead th {\n",
       "        text-align: right;\n",
       "    }\n",
       "</style>\n",
       "<table border=\"1\" class=\"dataframe\">\n",
       "  <thead>\n",
       "    <tr style=\"text-align: right;\">\n",
       "      <th></th>\n",
       "      <th>id_ref</th>\n",
       "      <th>created_ref</th>\n",
       "      <th>valid_ref</th>\n",
       "      <th>volume</th>\n",
       "      <th>pt_supervoxel_id</th>\n",
       "      <th>id</th>\n",
       "      <th>created</th>\n",
       "      <th>valid</th>\n",
       "      <th>target_id</th>\n",
       "      <th>session</th>\n",
       "      <th>scan_idx</th>\n",
       "      <th>unit_id</th>\n",
       "      <th>field</th>\n",
       "      <th>residual</th>\n",
       "      <th>score</th>\n",
       "      <th>pt_position</th>\n",
       "      <th>bb_start_position</th>\n",
       "      <th>bb_end_position</th>\n",
       "      <th>Area Membership</th>\n",
       "    </tr>\n",
       "    <tr>\n",
       "      <th>pt_root_id</th>\n",
       "      <th></th>\n",
       "      <th></th>\n",
       "      <th></th>\n",
       "      <th></th>\n",
       "      <th></th>\n",
       "      <th></th>\n",
       "      <th></th>\n",
       "      <th></th>\n",
       "      <th></th>\n",
       "      <th></th>\n",
       "      <th></th>\n",
       "      <th></th>\n",
       "      <th></th>\n",
       "      <th></th>\n",
       "      <th></th>\n",
       "      <th></th>\n",
       "      <th></th>\n",
       "      <th></th>\n",
       "      <th></th>\n",
       "    </tr>\n",
       "  </thead>\n",
       "  <tbody>\n",
       "    <tr>\n",
       "      <th>864691135568539372</th>\n",
       "      <td>255686</td>\n",
       "      <td>2020-09-28 22:40:42.632533+00:00</td>\n",
       "      <td>t</td>\n",
       "      <td>297.846047</td>\n",
       "      <td>88954888800920543</td>\n",
       "      <td>67007</td>\n",
       "      <td>2023-04-06 15:05:50.491194+00:00</td>\n",
       "      <td>t</td>\n",
       "      <td>255686</td>\n",
       "      <td>9</td>\n",
       "      <td>6</td>\n",
       "      <td>1913</td>\n",
       "      <td>2</td>\n",
       "      <td>8.941486</td>\n",
       "      <td>4.206369</td>\n",
       "      <td>[175760, 126480, 15504]</td>\n",
       "      <td>[nan, nan, nan]</td>\n",
       "      <td>[nan, nan, nan]</td>\n",
       "      <td>V1</td>\n",
       "    </tr>\n",
       "    <tr>\n",
       "      <th>864691135568539372</th>\n",
       "      <td>255686</td>\n",
       "      <td>2020-09-28 22:40:42.632533+00:00</td>\n",
       "      <td>t</td>\n",
       "      <td>297.846047</td>\n",
       "      <td>88954888800920543</td>\n",
       "      <td>65810</td>\n",
       "      <td>2023-04-06 15:05:49.502144+00:00</td>\n",
       "      <td>t</td>\n",
       "      <td>255686</td>\n",
       "      <td>9</td>\n",
       "      <td>4</td>\n",
       "      <td>7548</td>\n",
       "      <td>6</td>\n",
       "      <td>9.380808</td>\n",
       "      <td>-5.165012</td>\n",
       "      <td>[175760, 126480, 15504]</td>\n",
       "      <td>[nan, nan, nan]</td>\n",
       "      <td>[nan, nan, nan]</td>\n",
       "      <td>V1</td>\n",
       "    </tr>\n",
       "    <tr>\n",
       "      <th>864691135568539372</th>\n",
       "      <td>255686</td>\n",
       "      <td>2020-09-28 22:40:42.632533+00:00</td>\n",
       "      <td>t</td>\n",
       "      <td>297.846047</td>\n",
       "      <td>88954888800920543</td>\n",
       "      <td>54982</td>\n",
       "      <td>2023-04-06 15:05:15.938520+00:00</td>\n",
       "      <td>t</td>\n",
       "      <td>255686</td>\n",
       "      <td>8</td>\n",
       "      <td>7</td>\n",
       "      <td>4778</td>\n",
       "      <td>4</td>\n",
       "      <td>3.763804</td>\n",
       "      <td>5.341737</td>\n",
       "      <td>[175760, 126480, 15504]</td>\n",
       "      <td>[nan, nan, nan]</td>\n",
       "      <td>[nan, nan, nan]</td>\n",
       "      <td>V1</td>\n",
       "    </tr>\n",
       "    <tr>\n",
       "      <th>864691135568539372</th>\n",
       "      <td>255686</td>\n",
       "      <td>2020-09-28 22:40:42.632533+00:00</td>\n",
       "      <td>t</td>\n",
       "      <td>297.846047</td>\n",
       "      <td>88954888800920543</td>\n",
       "      <td>46412</td>\n",
       "      <td>2023-04-06 15:04:43.197444+00:00</td>\n",
       "      <td>t</td>\n",
       "      <td>255686</td>\n",
       "      <td>7</td>\n",
       "      <td>5</td>\n",
       "      <td>1946</td>\n",
       "      <td>2</td>\n",
       "      <td>4.071072</td>\n",
       "      <td>3.306988</td>\n",
       "      <td>[175760, 126480, 15504]</td>\n",
       "      <td>[nan, nan, nan]</td>\n",
       "      <td>[nan, nan, nan]</td>\n",
       "      <td>V1</td>\n",
       "    </tr>\n",
       "    <tr>\n",
       "      <th>864691135568539372</th>\n",
       "      <td>255686</td>\n",
       "      <td>2020-09-28 22:40:42.632533+00:00</td>\n",
       "      <td>t</td>\n",
       "      <td>297.846047</td>\n",
       "      <td>88954888800920543</td>\n",
       "      <td>11823</td>\n",
       "      <td>2023-04-06 15:03:01.038836+00:00</td>\n",
       "      <td>t</td>\n",
       "      <td>255686</td>\n",
       "      <td>5</td>\n",
       "      <td>3</td>\n",
       "      <td>1994</td>\n",
       "      <td>2</td>\n",
       "      <td>5.419972</td>\n",
       "      <td>6.644126</td>\n",
       "      <td>[175760, 126480, 15504]</td>\n",
       "      <td>[nan, nan, nan]</td>\n",
       "      <td>[nan, nan, nan]</td>\n",
       "      <td>V1</td>\n",
       "    </tr>\n",
       "  </tbody>\n",
       "</table>\n",
       "</div>"
      ],
      "text/plain": [
       "                    id_ref                      created_ref valid_ref  \\\n",
       "pt_root_id                                                              \n",
       "864691135568539372  255686 2020-09-28 22:40:42.632533+00:00         t   \n",
       "864691135568539372  255686 2020-09-28 22:40:42.632533+00:00         t   \n",
       "864691135568539372  255686 2020-09-28 22:40:42.632533+00:00         t   \n",
       "864691135568539372  255686 2020-09-28 22:40:42.632533+00:00         t   \n",
       "864691135568539372  255686 2020-09-28 22:40:42.632533+00:00         t   \n",
       "\n",
       "                        volume   pt_supervoxel_id     id  \\\n",
       "pt_root_id                                                 \n",
       "864691135568539372  297.846047  88954888800920543  67007   \n",
       "864691135568539372  297.846047  88954888800920543  65810   \n",
       "864691135568539372  297.846047  88954888800920543  54982   \n",
       "864691135568539372  297.846047  88954888800920543  46412   \n",
       "864691135568539372  297.846047  88954888800920543  11823   \n",
       "\n",
       "                                            created valid  target_id  session  \\\n",
       "pt_root_id                                                                      \n",
       "864691135568539372 2023-04-06 15:05:50.491194+00:00     t     255686        9   \n",
       "864691135568539372 2023-04-06 15:05:49.502144+00:00     t     255686        9   \n",
       "864691135568539372 2023-04-06 15:05:15.938520+00:00     t     255686        8   \n",
       "864691135568539372 2023-04-06 15:04:43.197444+00:00     t     255686        7   \n",
       "864691135568539372 2023-04-06 15:03:01.038836+00:00     t     255686        5   \n",
       "\n",
       "                    scan_idx  unit_id  field  residual     score  \\\n",
       "pt_root_id                                                         \n",
       "864691135568539372         6     1913      2  8.941486  4.206369   \n",
       "864691135568539372         4     7548      6  9.380808 -5.165012   \n",
       "864691135568539372         7     4778      4  3.763804  5.341737   \n",
       "864691135568539372         5     1946      2  4.071072  3.306988   \n",
       "864691135568539372         3     1994      2  5.419972  6.644126   \n",
       "\n",
       "                                pt_position bb_start_position  \\\n",
       "pt_root_id                                                      \n",
       "864691135568539372  [175760, 126480, 15504]   [nan, nan, nan]   \n",
       "864691135568539372  [175760, 126480, 15504]   [nan, nan, nan]   \n",
       "864691135568539372  [175760, 126480, 15504]   [nan, nan, nan]   \n",
       "864691135568539372  [175760, 126480, 15504]   [nan, nan, nan]   \n",
       "864691135568539372  [175760, 126480, 15504]   [nan, nan, nan]   \n",
       "\n",
       "                    bb_end_position Area Membership  \n",
       "pt_root_id                                           \n",
       "864691135568539372  [nan, nan, nan]              V1  \n",
       "864691135568539372  [nan, nan, nan]              V1  \n",
       "864691135568539372  [nan, nan, nan]              V1  \n",
       "864691135568539372  [nan, nan, nan]              V1  \n",
       "864691135568539372  [nan, nan, nan]              V1  "
      ]
     },
     "execution_count": 32,
     "metadata": {},
     "output_type": "execute_result"
    }
   ],
   "source": [
    "df['Area Membership'] = area_membership\n",
    "df.head()"
   ]
  },
  {
   "cell_type": "code",
   "execution_count": 33,
   "metadata": {},
   "outputs": [
    {
     "ename": "HTTPError",
     "evalue": "500 Server Error: 404 Not Found: analysis table synapses_pni_2 not found for version 661 in datastack minnie65_public_v661 for url: https://minnie.microns-daf.com/materialize/api/v3/datastack/minnie65_public_v661/version/661/table/synapses_pni_2/query?return_pyarrow=True&arrow_format=True&split_positions=True content:b'{\"code\": 500, \"message\": \"404 Not Found: analysis table synapses_pni_2 not found for version 661 in datastack minnie65_public_v661\", \"traceback\": [\"Traceback (most recent call last):\\\\n\", \"  File \\\\\"/usr/local/lib/python3.7/site-packages/flask/app.py\\\\\", line 1516, in full_dispatch_request\\\\n    rv = self.dispatch_request()\\\\n\", \"  File \\\\\"/usr/local/lib/python3.7/site-packages/flask/app.py\\\\\", line 1502, in dispatch_request\\\\n    return self.ensure_sync(self.view_functions[rule.endpoint])(**req.view_args)\\\\n\", \"  File \\\\\"/usr/local/lib/python3.7/site-packages/flask_restx/api.py\\\\\", line 403, in wrapper\\\\n    resp = resource(*args, **kwargs)\\\\n\", \"  File \\\\\"/usr/local/lib/python3.7/site-packages/flask/views.py\\\\\", line 84, in view\\\\n    return current_app.ensure_sync(self.dispatch_request)(*args, **kwargs)\\\\n\", \"  File \\\\\"/usr/local/lib/python3.7/site-packages/flask_restx/resource.py\\\\\", line 49, in dispatch_request\\\\n    resp = meth(*args, **kwargs)\\\\n\", \"  File \\\\\"./materializationengine/blueprints/reset_auth.py\\\\\", line 12, in decorated_function\\\\n    return f(*args, **kwargs)\\\\n\", \"  File \\\\\"/usr/local/lib/python3.7/site-packages/middle_auth_client/decorators.py\\\\\", line 265, in decorated_function\\\\n    return f(*args, **kwargs)\\\\n\", \"  File \\\\\"/usr/local/lib/python3.7/site-packages/middle_auth_client/decorators.py\\\\\", line 396, in decorated_function\\\\n    return f(*args, **kwargs)\\\\n\", \"  File \\\\\"/usr/local/lib/python3.7/site-packages/flask_limiter/extension.py\\\\\", line 1186, in __inner\\\\n    R, flask.current_app.ensure_sync(cast(Callable[P, R], obj))(*a, **k)\\\\n\", \"  File \\\\\"./materializationengine/blueprints/client/datastack.py\\\\\", line 70, in wrapper\\\\n    return f(*args, **kwargs)\\\\n\", \"  File \\\\\"/usr/local/lib/python3.7/site-packages/flask_accepts/decorators/decorators.py\\\\\", line 206, in inner\\\\n    return func(*args, **kwargs)\\\\n\", \"  File \\\\\"./materializationengine/blueprints/client/api2.py\\\\\", line 884, in post\\\\n    convert_desired_resolution=True,\\\\n\", \"  File \\\\\"./materializationengine/blueprints/client/common.py\\\\\", line 197, in handle_simple_query\\\\n    validate_table_args([table_name], target_datastack, target_version)\\\\n\", \"  File \\\\\"./materializationengine/blueprints/client/common.py\\\\\", line 183, in validate_table_args\\\\n    f\\\\\"analysis table {table} not found for version {version} in datastack {datastack_name}\\\\\",\\\\n\", \"  File \\\\\"/usr/local/lib/python3.7/site-packages/werkzeug/exceptions.py\\\\\", line 940, in abort\\\\n    _aborter(status, *args, **kwargs)\\\\n\", \"  File \\\\\"/usr/local/lib/python3.7/site-packages/werkzeug/exceptions.py\\\\\", line 923, in __call__\\\\n    raise self.mapping[code](*args, **kwargs)\\\\n\", \"werkzeug.exceptions.NotFound: 404 Not Found: analysis table synapses_pni_2 not found for version 661 in datastack minnie65_public_v661\\\\n\"]}\\n'",
     "output_type": "error",
     "traceback": [
      "\u001b[0;31m---------------------------------------------------------------------------\u001b[0m",
      "\u001b[0;31mHTTPError\u001b[0m                                 Traceback (most recent call last)",
      "\u001b[1;32m/workspaces/microns_phase3_nda/personal_notebooks/synapse_data_fetcher_v661.ipynb Cell 26\u001b[0m line \u001b[0;36m1\n\u001b[0;32m----> <a href='vscode-notebook-cell://codespaces%2Bmusical-bassoon-v4pvwwxxv4q36g77/workspaces/microns_phase3_nda/personal_notebooks/synapse_data_fetcher_v661.ipynb#X43sdnNjb2RlLXJlbW90ZQ%3D%3D?line=0'>1</a>\u001b[0m input_dfs \u001b[39m=\u001b[39m [client\u001b[39m.\u001b[39;49mmaterialize\u001b[39m.\u001b[39;49msynapse_query(post_ids\u001b[39m=\u001b[39;49m\u001b[39m864691135568539372\u001b[39;49m),\n\u001b[1;32m      <a href='vscode-notebook-cell://codespaces%2Bmusical-bassoon-v4pvwwxxv4q36g77/workspaces/microns_phase3_nda/personal_notebooks/synapse_data_fetcher_v661.ipynb#X43sdnNjb2RlLXJlbW90ZQ%3D%3D?line=1'>2</a>\u001b[0m              client\u001b[39m.\u001b[39mmaterialize\u001b[39m.\u001b[39msynapse_query(post_ids\u001b[39m=\u001b[39m\u001b[39m864691135568539372\u001b[39m)]\n\u001b[1;32m      <a href='vscode-notebook-cell://codespaces%2Bmusical-bassoon-v4pvwwxxv4q36g77/workspaces/microns_phase3_nda/personal_notebooks/synapse_data_fetcher_v661.ipynb#X43sdnNjb2RlLXJlbW90ZQ%3D%3D?line=2'>3</a>\u001b[0m input_dfs\n",
      "File \u001b[0;32m~/.local/lib/python3.9/site-packages/caveclient/materializationengine.py:1664\u001b[0m, in \u001b[0;36mMaterializatonClientV2.synapse_query\u001b[0;34m(self, pre_ids, post_ids, bounding_box, bounding_box_column, timestamp, remove_autapses, include_zeros, limit, offset, split_positions, desired_resolution, materialization_version, synapse_table, datastack_name, metadata)\u001b[0m\n\u001b[1;32m   1661\u001b[0m \u001b[39mif\u001b[39;00m bounding_box \u001b[39mis\u001b[39;00m \u001b[39mnot\u001b[39;00m \u001b[39mNone\u001b[39;00m:\n\u001b[1;32m   1662\u001b[0m     filter_spatial_dict \u001b[39m=\u001b[39m {bounding_box_column: bounding_box}\n\u001b[0;32m-> 1664\u001b[0m df \u001b[39m=\u001b[39m \u001b[39mself\u001b[39;49m\u001b[39m.\u001b[39;49mquery_table(\n\u001b[1;32m   1665\u001b[0m     synapse_table,\n\u001b[1;32m   1666\u001b[0m     filter_in_dict\u001b[39m=\u001b[39;49mfilter_in_dict,\n\u001b[1;32m   1667\u001b[0m     filter_out_dict\u001b[39m=\u001b[39;49mfilter_out_dict,\n\u001b[1;32m   1668\u001b[0m     filter_equal_dict\u001b[39m=\u001b[39;49mfilter_equal_dict,\n\u001b[1;32m   1669\u001b[0m     filter_spatial_dict\u001b[39m=\u001b[39;49mfilter_spatial_dict,\n\u001b[1;32m   1670\u001b[0m     offset\u001b[39m=\u001b[39;49moffset,\n\u001b[1;32m   1671\u001b[0m     limit\u001b[39m=\u001b[39;49mlimit,\n\u001b[1;32m   1672\u001b[0m     split_positions\u001b[39m=\u001b[39;49msplit_positions,\n\u001b[1;32m   1673\u001b[0m     desired_resolution\u001b[39m=\u001b[39;49mdesired_resolution,\n\u001b[1;32m   1674\u001b[0m     materialization_version\u001b[39m=\u001b[39;49mmaterialization_version,\n\u001b[1;32m   1675\u001b[0m     timestamp\u001b[39m=\u001b[39;49mtimestamp,\n\u001b[1;32m   1676\u001b[0m     datastack_name\u001b[39m=\u001b[39;49mdatastack_name,\n\u001b[1;32m   1677\u001b[0m     metadata\u001b[39m=\u001b[39;49mmetadata,\n\u001b[1;32m   1678\u001b[0m     merge_reference\u001b[39m=\u001b[39;49m\u001b[39mFalse\u001b[39;49;00m,\n\u001b[1;32m   1679\u001b[0m )\n\u001b[1;32m   1681\u001b[0m \u001b[39mif\u001b[39;00m metadata:\n\u001b[1;32m   1682\u001b[0m     df\u001b[39m.\u001b[39mattrs[\u001b[39m\"\u001b[39m\u001b[39mremove_autapses\u001b[39m\u001b[39m\"\u001b[39m] \u001b[39m=\u001b[39m remove_autapses\n",
      "File \u001b[0;32m~/.local/lib/python3.9/site-packages/caveclient/materializationengine.py:742\u001b[0m, in \u001b[0;36mMaterializatonClientV2.query_table\u001b[0;34m(self, table, filter_in_dict, filter_out_dict, filter_equal_dict, filter_spatial_dict, filter_regex_dict, select_columns, offset, limit, datastack_name, return_df, split_positions, materialization_version, timestamp, metadata, merge_reference, desired_resolution, get_counts, random_sample)\u001b[0m\n\u001b[1;32m    733\u001b[0m headers \u001b[39m=\u001b[39m {\u001b[39m\"\u001b[39m\u001b[39mContent-Type\u001b[39m\u001b[39m\"\u001b[39m: \u001b[39m\"\u001b[39m\u001b[39mapplication/json\u001b[39m\u001b[39m\"\u001b[39m, \u001b[39m\"\u001b[39m\u001b[39mAccept-Encoding\u001b[39m\u001b[39m\"\u001b[39m: encoding}\n\u001b[1;32m    735\u001b[0m response \u001b[39m=\u001b[39m \u001b[39mself\u001b[39m\u001b[39m.\u001b[39msession\u001b[39m.\u001b[39mpost(\n\u001b[1;32m    736\u001b[0m     url,\n\u001b[1;32m    737\u001b[0m     data\u001b[39m=\u001b[39mjson\u001b[39m.\u001b[39mdumps(data, \u001b[39mcls\u001b[39m\u001b[39m=\u001b[39mBaseEncoder),\n\u001b[0;32m   (...)\u001b[0m\n\u001b[1;32m    740\u001b[0m     stream\u001b[39m=\u001b[39m\u001b[39m~\u001b[39mreturn_df,\n\u001b[1;32m    741\u001b[0m )\n\u001b[0;32m--> 742\u001b[0m \u001b[39mself\u001b[39;49m\u001b[39m.\u001b[39;49mraise_for_status(response)\n\u001b[1;32m    743\u001b[0m \u001b[39mif\u001b[39;00m return_df:\n\u001b[1;32m    744\u001b[0m     \u001b[39mwith\u001b[39;00m warnings\u001b[39m.\u001b[39mcatch_warnings():\n",
      "File \u001b[0;32m~/.local/lib/python3.9/site-packages/caveclient/base.py:226\u001b[0m, in \u001b[0;36mClientBase.raise_for_status\u001b[0;34m(r, log_warning)\u001b[0m\n\u001b[1;32m    222\u001b[0m \u001b[39m@staticmethod\u001b[39m\n\u001b[1;32m    223\u001b[0m \u001b[39mdef\u001b[39;00m \u001b[39mraise_for_status\u001b[39m(r, log_warning\u001b[39m=\u001b[39m\u001b[39mTrue\u001b[39;00m):\n\u001b[1;32m    224\u001b[0m \u001b[39m    \u001b[39m\u001b[39m\"\"\"Raises :class:`HTTPError`, if one occurred.\"\"\"\u001b[39;00m\n\u001b[0;32m--> 226\u001b[0m     _raise_for_status(r, log_warning\u001b[39m=\u001b[39;49mlog_warning)\n",
      "File \u001b[0;32m~/.local/lib/python3.9/site-packages/caveclient/base.py:79\u001b[0m, in \u001b[0;36m_raise_for_status\u001b[0;34m(r, log_warning)\u001b[0m\n\u001b[1;32m     71\u001b[0m     http_error_msg \u001b[39m=\u001b[39m \u001b[39m\"\u001b[39m\u001b[39m%s\u001b[39;00m\u001b[39m Server Error: \u001b[39m\u001b[39m%s\u001b[39;00m\u001b[39m for url: \u001b[39m\u001b[39m%s\u001b[39;00m\u001b[39m content:\u001b[39m\u001b[39m%s\u001b[39;00m\u001b[39m\"\u001b[39m \u001b[39m%\u001b[39m (\n\u001b[1;32m     72\u001b[0m         r\u001b[39m.\u001b[39mstatus_code,\n\u001b[1;32m     73\u001b[0m         reason,\n\u001b[1;32m     74\u001b[0m         r\u001b[39m.\u001b[39murl,\n\u001b[1;32m     75\u001b[0m         r\u001b[39m.\u001b[39mcontent,\n\u001b[1;32m     76\u001b[0m     )\n\u001b[1;32m     78\u001b[0m \u001b[39mif\u001b[39;00m http_error_msg:\n\u001b[0;32m---> 79\u001b[0m     \u001b[39mraise\u001b[39;00m requests\u001b[39m.\u001b[39mHTTPError(http_error_msg, response\u001b[39m=\u001b[39mr)\n\u001b[1;32m     80\u001b[0m \u001b[39mif\u001b[39;00m log_warning:\n\u001b[1;32m     81\u001b[0m     warning \u001b[39m=\u001b[39m r\u001b[39m.\u001b[39mheaders\u001b[39m.\u001b[39mget(\u001b[39m\"\u001b[39m\u001b[39mWarning\u001b[39m\u001b[39m\"\u001b[39m)\n",
      "\u001b[0;31mHTTPError\u001b[0m: 500 Server Error: 404 Not Found: analysis table synapses_pni_2 not found for version 661 in datastack minnie65_public_v661 for url: https://minnie.microns-daf.com/materialize/api/v3/datastack/minnie65_public_v661/version/661/table/synapses_pni_2/query?return_pyarrow=True&arrow_format=True&split_positions=True content:b'{\"code\": 500, \"message\": \"404 Not Found: analysis table synapses_pni_2 not found for version 661 in datastack minnie65_public_v661\", \"traceback\": [\"Traceback (most recent call last):\\\\n\", \"  File \\\\\"/usr/local/lib/python3.7/site-packages/flask/app.py\\\\\", line 1516, in full_dispatch_request\\\\n    rv = self.dispatch_request()\\\\n\", \"  File \\\\\"/usr/local/lib/python3.7/site-packages/flask/app.py\\\\\", line 1502, in dispatch_request\\\\n    return self.ensure_sync(self.view_functions[rule.endpoint])(**req.view_args)\\\\n\", \"  File \\\\\"/usr/local/lib/python3.7/site-packages/flask_restx/api.py\\\\\", line 403, in wrapper\\\\n    resp = resource(*args, **kwargs)\\\\n\", \"  File \\\\\"/usr/local/lib/python3.7/site-packages/flask/views.py\\\\\", line 84, in view\\\\n    return current_app.ensure_sync(self.dispatch_request)(*args, **kwargs)\\\\n\", \"  File \\\\\"/usr/local/lib/python3.7/site-packages/flask_restx/resource.py\\\\\", line 49, in dispatch_request\\\\n    resp = meth(*args, **kwargs)\\\\n\", \"  File \\\\\"./materializationengine/blueprints/reset_auth.py\\\\\", line 12, in decorated_function\\\\n    return f(*args, **kwargs)\\\\n\", \"  File \\\\\"/usr/local/lib/python3.7/site-packages/middle_auth_client/decorators.py\\\\\", line 265, in decorated_function\\\\n    return f(*args, **kwargs)\\\\n\", \"  File \\\\\"/usr/local/lib/python3.7/site-packages/middle_auth_client/decorators.py\\\\\", line 396, in decorated_function\\\\n    return f(*args, **kwargs)\\\\n\", \"  File \\\\\"/usr/local/lib/python3.7/site-packages/flask_limiter/extension.py\\\\\", line 1186, in __inner\\\\n    R, flask.current_app.ensure_sync(cast(Callable[P, R], obj))(*a, **k)\\\\n\", \"  File \\\\\"./materializationengine/blueprints/client/datastack.py\\\\\", line 70, in wrapper\\\\n    return f(*args, **kwargs)\\\\n\", \"  File \\\\\"/usr/local/lib/python3.7/site-packages/flask_accepts/decorators/decorators.py\\\\\", line 206, in inner\\\\n    return func(*args, **kwargs)\\\\n\", \"  File \\\\\"./materializationengine/blueprints/client/api2.py\\\\\", line 884, in post\\\\n    convert_desired_resolution=True,\\\\n\", \"  File \\\\\"./materializationengine/blueprints/client/common.py\\\\\", line 197, in handle_simple_query\\\\n    validate_table_args([table_name], target_datastack, target_version)\\\\n\", \"  File \\\\\"./materializationengine/blueprints/client/common.py\\\\\", line 183, in validate_table_args\\\\n    f\\\\\"analysis table {table} not found for version {version} in datastack {datastack_name}\\\\\",\\\\n\", \"  File \\\\\"/usr/local/lib/python3.7/site-packages/werkzeug/exceptions.py\\\\\", line 940, in abort\\\\n    _aborter(status, *args, **kwargs)\\\\n\", \"  File \\\\\"/usr/local/lib/python3.7/site-packages/werkzeug/exceptions.py\\\\\", line 923, in __call__\\\\n    raise self.mapping[code](*args, **kwargs)\\\\n\", \"werkzeug.exceptions.NotFound: 404 Not Found: analysis table synapses_pni_2 not found for version 661 in datastack minnie65_public_v661\\\\n\"]}\\n'"
     ]
    }
   ],
   "source": [
    "input_dfs = [client.materialize.synapse_query(post_ids=864691135568539372),\n",
    "             client.materialize.synapse_query(post_ids=864691135568539372)]\n",
    "input_dfs\n"
   ]
  }
 ],
 "metadata": {
  "kernelspec": {
   "display_name": "Python 3",
   "language": "python",
   "name": "python3"
  },
  "language_info": {
   "codemirror_mode": {
    "name": "ipython",
    "version": 3
   },
   "file_extension": ".py",
   "mimetype": "text/x-python",
   "name": "python",
   "nbconvert_exporter": "python",
   "pygments_lexer": "ipython3",
   "version": "3.9.17"
  }
 },
 "nbformat": 4,
 "nbformat_minor": 2
}
