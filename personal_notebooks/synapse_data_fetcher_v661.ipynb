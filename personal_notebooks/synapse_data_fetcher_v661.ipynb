{
 "cells": [
  {
   "cell_type": "markdown",
   "metadata": {},
   "source": [
    "# Fetching Pre and Post synaptic Neuron Location"
   ]
  },
  {
   "cell_type": "markdown",
   "metadata": {},
   "source": [
    "## Libraries"
   ]
  },
  {
   "cell_type": "code",
   "execution_count": 1,
   "metadata": {},
   "outputs": [
    {
     "name": "stdout",
     "output_type": "stream",
     "text": [
      "Defaulting to user installation because normal site-packages is not writeable\n",
      "Collecting standard-transform\n",
      "  Downloading standard-transform-1.4.0.tar.gz (27 kB)\n",
      "  Preparing metadata (setup.py) ... \u001b[?25ldone\n",
      "\u001b[?25hRequirement already satisfied: scipy in /home/vscode/.local/lib/python3.9/site-packages (from standard-transform) (1.10.1)\n",
      "Requirement already satisfied: numpy in /home/vscode/.local/lib/python3.9/site-packages (from standard-transform) (1.24.3)\n",
      "Requirement already satisfied: pandas in /home/vscode/.local/lib/python3.9/site-packages (from standard-transform) (2.0.2)\n",
      "Requirement already satisfied: python-dateutil>=2.8.2 in /usr/local/lib/python3.9/site-packages (from pandas->standard-transform) (2.8.2)\n",
      "Requirement already satisfied: tzdata>=2022.1 in /usr/local/lib/python3.9/site-packages (from pandas->standard-transform) (2023.3)\n",
      "Requirement already satisfied: pytz>=2020.1 in /usr/local/lib/python3.9/site-packages (from pandas->standard-transform) (2023.3)\n",
      "Requirement already satisfied: six>=1.5 in /usr/local/lib/python3.9/site-packages (from python-dateutil>=2.8.2->pandas->standard-transform) (1.16.0)\n",
      "Building wheels for collected packages: standard-transform\n",
      "  Building wheel for standard-transform (setup.py) ... \u001b[?25ldone\n",
      "\u001b[?25h  Created wheel for standard-transform: filename=standard_transform-1.4.0-py3-none-any.whl size=22356 sha256=11d0360b083583c68c5c82045f06bd9d122f92a87f60ef7d42491bf41d306a60\n",
      "  Stored in directory: /home/vscode/.cache/pip/wheels/ad/3f/3f/2d6f4450cc3c31eb60e2dc6c4a24648a2e9563b610b26c9b67\n",
      "Successfully built standard-transform\n",
      "Installing collected packages: standard-transform\n",
      "Successfully installed standard-transform-1.4.0\n",
      "\n",
      "\u001b[1m[\u001b[0m\u001b[34;49mnotice\u001b[0m\u001b[1;39;49m]\u001b[0m\u001b[39;49m A new release of pip is available: \u001b[0m\u001b[31;49m23.0.1\u001b[0m\u001b[39;49m -> \u001b[0m\u001b[32;49m23.3.1\u001b[0m\n",
      "\u001b[1m[\u001b[0m\u001b[34;49mnotice\u001b[0m\u001b[1;39;49m]\u001b[0m\u001b[39;49m To update, run: \u001b[0m\u001b[32;49mpip install --upgrade pip\u001b[0m\n",
      "Defaulting to user installation because normal site-packages is not writeable\n",
      "Requirement already satisfied: caveclient in /usr/local/lib/python3.9/site-packages (5.7.0)\n",
      "Collecting caveclient\n",
      "  Downloading caveclient-5.13.1.tar.gz (65 kB)\n",
      "\u001b[2K     \u001b[90m━━━━━━━━━━━━━━━━━━━━━━━━━━━━━━━━━━━━━━━━\u001b[0m \u001b[32m65.3/65.3 kB\u001b[0m \u001b[31m2.0 MB/s\u001b[0m eta \u001b[36m0:00:00\u001b[0m\n",
      "\u001b[?25h  Preparing metadata (setup.py) ... \u001b[?25ldone\n",
      "\u001b[?25hRequirement already satisfied: numpy in /home/vscode/.local/lib/python3.9/site-packages (from caveclient) (1.24.3)\n",
      "Requirement already satisfied: pyarrow<12,>=3 in /usr/local/lib/python3.9/site-packages (from caveclient) (11.0.0)\n",
      "Requirement already satisfied: requests in /usr/local/lib/python3.9/site-packages (from caveclient) (2.31.0)\n",
      "Requirement already satisfied: urllib3 in /usr/local/lib/python3.9/site-packages (from caveclient) (2.0.3)\n",
      "Requirement already satisfied: pandas in /home/vscode/.local/lib/python3.9/site-packages (from caveclient) (2.0.2)\n",
      "Requirement already satisfied: cachetools>=4.2.1 in /usr/local/lib/python3.9/site-packages (from caveclient) (5.3.1)\n",
      "Requirement already satisfied: ipython in /usr/local/lib/python3.9/site-packages (from caveclient) (8.14.0)\n",
      "Requirement already satisfied: networkx in /usr/local/lib/python3.9/site-packages (from caveclient) (3.1)\n",
      "Requirement already satisfied: jsonschema in /usr/local/lib/python3.9/site-packages (from caveclient) (4.18.0)\n",
      "Requirement already satisfied: attrs>=21.3.0 in /usr/local/lib/python3.9/site-packages (from caveclient) (23.1.0)\n",
      "Requirement already satisfied: traitlets>=5 in /usr/local/lib/python3.9/site-packages (from ipython->caveclient) (5.9.0)\n",
      "Requirement already satisfied: jedi>=0.16 in /usr/local/lib/python3.9/site-packages (from ipython->caveclient) (0.18.2)\n",
      "Requirement already satisfied: matplotlib-inline in /usr/local/lib/python3.9/site-packages (from ipython->caveclient) (0.1.6)\n",
      "Requirement already satisfied: backcall in /usr/local/lib/python3.9/site-packages (from ipython->caveclient) (0.2.0)\n",
      "Requirement already satisfied: stack-data in /usr/local/lib/python3.9/site-packages (from ipython->caveclient) (0.6.2)\n",
      "Requirement already satisfied: pickleshare in /usr/local/lib/python3.9/site-packages (from ipython->caveclient) (0.7.5)\n",
      "Requirement already satisfied: decorator in /usr/local/lib/python3.9/site-packages (from ipython->caveclient) (5.1.1)\n",
      "Requirement already satisfied: pygments>=2.4.0 in /usr/local/lib/python3.9/site-packages (from ipython->caveclient) (2.15.1)\n",
      "Requirement already satisfied: typing-extensions in /usr/local/lib/python3.9/site-packages (from ipython->caveclient) (4.7.1)\n",
      "Requirement already satisfied: prompt-toolkit!=3.0.37,<3.1.0,>=3.0.30 in /usr/local/lib/python3.9/site-packages (from ipython->caveclient) (3.0.39)\n",
      "Requirement already satisfied: pexpect>4.3 in /usr/local/lib/python3.9/site-packages (from ipython->caveclient) (4.8.0)\n",
      "Requirement already satisfied: jsonschema-specifications>=2023.03.6 in /usr/local/lib/python3.9/site-packages (from jsonschema->caveclient) (2023.6.1)\n",
      "Requirement already satisfied: referencing>=0.28.4 in /usr/local/lib/python3.9/site-packages (from jsonschema->caveclient) (0.29.1)\n",
      "Requirement already satisfied: rpds-py>=0.7.1 in /usr/local/lib/python3.9/site-packages (from jsonschema->caveclient) (0.8.8)\n",
      "Requirement already satisfied: python-dateutil>=2.8.2 in /usr/local/lib/python3.9/site-packages (from pandas->caveclient) (2.8.2)\n",
      "Requirement already satisfied: tzdata>=2022.1 in /usr/local/lib/python3.9/site-packages (from pandas->caveclient) (2023.3)\n",
      "Requirement already satisfied: pytz>=2020.1 in /usr/local/lib/python3.9/site-packages (from pandas->caveclient) (2023.3)\n",
      "Requirement already satisfied: charset-normalizer<4,>=2 in /usr/local/lib/python3.9/site-packages (from requests->caveclient) (3.2.0)\n",
      "Requirement already satisfied: idna<4,>=2.5 in /usr/local/lib/python3.9/site-packages (from requests->caveclient) (3.4)\n",
      "Requirement already satisfied: certifi>=2017.4.17 in /usr/local/lib/python3.9/site-packages (from requests->caveclient) (2023.5.7)\n",
      "Requirement already satisfied: parso<0.9.0,>=0.8.0 in /usr/local/lib/python3.9/site-packages (from jedi>=0.16->ipython->caveclient) (0.8.3)\n",
      "Requirement already satisfied: ptyprocess>=0.5 in /usr/local/lib/python3.9/site-packages (from pexpect>4.3->ipython->caveclient) (0.7.0)\n",
      "Requirement already satisfied: wcwidth in /usr/local/lib/python3.9/site-packages (from prompt-toolkit!=3.0.37,<3.1.0,>=3.0.30->ipython->caveclient) (0.2.6)\n",
      "Requirement already satisfied: six>=1.5 in /usr/local/lib/python3.9/site-packages (from python-dateutil>=2.8.2->pandas->caveclient) (1.16.0)\n",
      "Requirement already satisfied: pure-eval in /usr/local/lib/python3.9/site-packages (from stack-data->ipython->caveclient) (0.2.2)\n",
      "Requirement already satisfied: asttokens>=2.1.0 in /usr/local/lib/python3.9/site-packages (from stack-data->ipython->caveclient) (2.2.1)\n",
      "Requirement already satisfied: executing>=1.2.0 in /usr/local/lib/python3.9/site-packages (from stack-data->ipython->caveclient) (1.2.0)\n",
      "Building wheels for collected packages: caveclient\n",
      "  Building wheel for caveclient (setup.py) ... \u001b[?25ldone\n",
      "\u001b[?25h  Created wheel for caveclient: filename=caveclient-5.13.1-py3-none-any.whl size=73839 sha256=1bd5cb758572f38429c107b928f010348142e7cf3ade834e71b3dd989f9a8349\n",
      "  Stored in directory: /home/vscode/.cache/pip/wheels/43/fe/e9/cb5337e8fc6c865378718cbe15ef54569ab6b9fce329f33849\n",
      "Successfully built caveclient\n",
      "Installing collected packages: caveclient\n",
      "\u001b[31mERROR: pip's dependency resolver does not currently take into account all the packages that are installed. This behaviour is the source of the following dependency conflicts.\n",
      "microns-phase3 0.8.0 requires caveclient==5.7.0, but you have caveclient 5.13.1 which is incompatible.\u001b[0m\u001b[31m\n",
      "\u001b[0mSuccessfully installed caveclient-5.13.1\n",
      "\n",
      "\u001b[1m[\u001b[0m\u001b[34;49mnotice\u001b[0m\u001b[1;39;49m]\u001b[0m\u001b[39;49m A new release of pip is available: \u001b[0m\u001b[31;49m23.0.1\u001b[0m\u001b[39;49m -> \u001b[0m\u001b[32;49m23.3.1\u001b[0m\n",
      "\u001b[1m[\u001b[0m\u001b[34;49mnotice\u001b[0m\u001b[1;39;49m]\u001b[0m\u001b[39;49m To update, run: \u001b[0m\u001b[32;49mpip install --upgrade pip\u001b[0m\n"
     ]
    }
   ],
   "source": [
    "! pip install standard-transform\n",
    "! pip install --upgrade caveclient"
   ]
  },
  {
   "cell_type": "code",
   "execution_count": 2,
   "metadata": {},
   "outputs": [
    {
     "name": "stdout",
     "output_type": "stream",
     "text": [
      "Connecting microns@db.datajoint.com:3306\n"
     ]
    },
    {
     "name": "stderr",
     "output_type": "stream",
     "text": [
      "Could not create the ~log table\n",
      "Could not access table `microns_phase3_nda`.`~log`\n"
     ]
    }
   ],
   "source": [
    "import numpy as np\n",
    "import pandas as pd\n",
    "from caveclient import CAVEclient\n",
    "from microns_phase3 import nda\n",
    "from standard_transform import minnie_transform_vx"
   ]
  },
  {
   "cell_type": "markdown",
   "metadata": {},
   "source": [
    "## Preparation"
   ]
  },
  {
   "cell_type": "markdown",
   "metadata": {},
   "source": [
    "Function that transforms the voxel coorindate into a depth coordinate (function given to us by the authors of the Microns Project)"
   ]
  },
  {
   "cell_type": "code",
   "execution_count": 3,
   "metadata": {},
   "outputs": [],
   "source": [
    "tform_vx = minnie_transform_vx()"
   ]
  },
  {
   "cell_type": "markdown",
   "metadata": {},
   "source": [
    "### Querying the data from CAVEclient"
   ]
  },
  {
   "cell_type": "code",
   "execution_count": 4,
   "metadata": {},
   "outputs": [],
   "source": [
    "client = CAVEclient()"
   ]
  },
  {
   "cell_type": "code",
   "execution_count": 5,
   "metadata": {},
   "outputs": [],
   "source": [
    "client.auth.save_token(\"64ea0271652fd86dc7fb6376cd9d52b9\")"
   ]
  },
  {
   "cell_type": "markdown",
   "metadata": {},
   "source": [
    "We will be using the latest public release of the dataset, i.e. version 661"
   ]
  },
  {
   "cell_type": "code",
   "execution_count": 6,
   "metadata": {},
   "outputs": [],
   "source": [
    "client = CAVEclient('minnie65_public')"
   ]
  },
  {
   "cell_type": "code",
   "execution_count": 7,
   "metadata": {},
   "outputs": [],
   "source": [
    "client.materialize.version = 661"
   ]
  },
  {
   "cell_type": "code",
   "execution_count": 8,
   "metadata": {},
   "outputs": [
    {
     "data": {
      "text/plain": [
       "['synapses_pni_2',\n",
       " 'baylor_gnn_cell_type_fine_model_v2',\n",
       " 'nucleus_alternative_points',\n",
       " 'connectivity_groups_v507',\n",
       " 'proofreading_status_public_release',\n",
       " 'allen_column_mtypes_v1',\n",
       " 'allen_v1_column_types_slanted_ref',\n",
       " 'aibs_column_nonneuronal_ref',\n",
       " 'nucleus_ref_neuron_svm',\n",
       " 'aibs_soma_nuc_exc_mtype_preds_v117',\n",
       " 'baylor_log_reg_cell_type_coarse_v1',\n",
       " 'apl_functional_coreg_forward_v5',\n",
       " 'nucleus_detection_v0',\n",
       " 'aibs_soma_nuc_metamodel_preds_v117',\n",
       " 'coregistration_manual_v3']"
      ]
     },
     "execution_count": 8,
     "metadata": {},
     "output_type": "execute_result"
    }
   ],
   "source": [
    "client.materialize.get_tables()"
   ]
  },
  {
   "cell_type": "markdown",
   "metadata": {},
   "source": [
    "These are all the available tables, but we are interested in the *coregistration_manual_v3*, that is the one containing the information about the manually proofread neurons and in the *synapses_pni_2*, which contains all the traced synapses."
   ]
  },
  {
   "cell_type": "code",
   "execution_count": 9,
   "metadata": {},
   "outputs": [],
   "source": [
    "df = client.materialize.query_table('coregistration_manual_v3')"
   ]
  },
  {
   "cell_type": "markdown",
   "metadata": {},
   "source": [
    "We start by setting as the index he ID associated to the root of the synapse"
   ]
  },
  {
   "cell_type": "code",
   "execution_count": 10,
   "metadata": {},
   "outputs": [],
   "source": [
    "df = df.set_index('pt_root_id')"
   ]
  },
  {
   "cell_type": "code",
   "execution_count": 11,
   "metadata": {},
   "outputs": [
    {
     "data": {
      "text/html": [
       "<div>\n",
       "<style scoped>\n",
       "    .dataframe tbody tr th:only-of-type {\n",
       "        vertical-align: middle;\n",
       "    }\n",
       "\n",
       "    .dataframe tbody tr th {\n",
       "        vertical-align: top;\n",
       "    }\n",
       "\n",
       "    .dataframe thead th {\n",
       "        text-align: right;\n",
       "    }\n",
       "</style>\n",
       "<table border=\"1\" class=\"dataframe\">\n",
       "  <thead>\n",
       "    <tr style=\"text-align: right;\">\n",
       "      <th></th>\n",
       "      <th>id_ref</th>\n",
       "      <th>created_ref</th>\n",
       "      <th>valid_ref</th>\n",
       "      <th>volume</th>\n",
       "      <th>pt_supervoxel_id</th>\n",
       "      <th>id</th>\n",
       "      <th>created</th>\n",
       "      <th>valid</th>\n",
       "      <th>target_id</th>\n",
       "      <th>session</th>\n",
       "      <th>scan_idx</th>\n",
       "      <th>unit_id</th>\n",
       "      <th>field</th>\n",
       "      <th>residual</th>\n",
       "      <th>score</th>\n",
       "      <th>pt_position</th>\n",
       "      <th>bb_start_position</th>\n",
       "      <th>bb_end_position</th>\n",
       "    </tr>\n",
       "    <tr>\n",
       "      <th>pt_root_id</th>\n",
       "      <th></th>\n",
       "      <th></th>\n",
       "      <th></th>\n",
       "      <th></th>\n",
       "      <th></th>\n",
       "      <th></th>\n",
       "      <th></th>\n",
       "      <th></th>\n",
       "      <th></th>\n",
       "      <th></th>\n",
       "      <th></th>\n",
       "      <th></th>\n",
       "      <th></th>\n",
       "      <th></th>\n",
       "      <th></th>\n",
       "      <th></th>\n",
       "      <th></th>\n",
       "      <th></th>\n",
       "    </tr>\n",
       "  </thead>\n",
       "  <tbody>\n",
       "    <tr>\n",
       "      <th>864691135738685297</th>\n",
       "      <td>582276</td>\n",
       "      <td>2020-09-28 22:41:42.536121+00:00</td>\n",
       "      <td>t</td>\n",
       "      <td>274.291589</td>\n",
       "      <td>111332012547320963</td>\n",
       "      <td>13434</td>\n",
       "      <td>2023-04-05 22:39:53.474202+00:00</td>\n",
       "      <td>t</td>\n",
       "      <td>582276</td>\n",
       "      <td>7</td>\n",
       "      <td>5</td>\n",
       "      <td>4909</td>\n",
       "      <td>4</td>\n",
       "      <td>6.10722</td>\n",
       "      <td>9.568690</td>\n",
       "      <td>[338720, 125232, 19589]</td>\n",
       "      <td>[nan, nan, nan]</td>\n",
       "      <td>[nan, nan, nan]</td>\n",
       "    </tr>\n",
       "    <tr>\n",
       "      <th>864691135614842827</th>\n",
       "      <td>194144</td>\n",
       "      <td>2020-09-28 22:42:01.511773+00:00</td>\n",
       "      <td>t</td>\n",
       "      <td>213.307228</td>\n",
       "      <td>83542405709639148</td>\n",
       "      <td>3045</td>\n",
       "      <td>2023-04-05 22:39:03.110911+00:00</td>\n",
       "      <td>t</td>\n",
       "      <td>194144</td>\n",
       "      <td>7</td>\n",
       "      <td>4</td>\n",
       "      <td>9575</td>\n",
       "      <td>6</td>\n",
       "      <td>8.55708</td>\n",
       "      <td>-0.714900</td>\n",
       "      <td>[136400, 170640, 17951]</td>\n",
       "      <td>[nan, nan, nan]</td>\n",
       "      <td>[nan, nan, nan]</td>\n",
       "    </tr>\n",
       "    <tr>\n",
       "      <th>864691135502985397</th>\n",
       "      <td>293318</td>\n",
       "      <td>2020-09-28 22:45:23.572432+00:00</td>\n",
       "      <td>t</td>\n",
       "      <td>430.108180</td>\n",
       "      <td>90783515419343652</td>\n",
       "      <td>1474</td>\n",
       "      <td>2023-04-05 22:36:19.477499+00:00</td>\n",
       "      <td>t</td>\n",
       "      <td>293318</td>\n",
       "      <td>9</td>\n",
       "      <td>4</td>\n",
       "      <td>8066</td>\n",
       "      <td>6</td>\n",
       "      <td>5.63758</td>\n",
       "      <td>8.915025</td>\n",
       "      <td>[189472, 119296, 26037]</td>\n",
       "      <td>[nan, nan, nan]</td>\n",
       "      <td>[nan, nan, nan]</td>\n",
       "    </tr>\n",
       "    <tr>\n",
       "      <th>864691135387371905</th>\n",
       "      <td>332833</td>\n",
       "      <td>2020-09-28 22:44:41.864456+00:00</td>\n",
       "      <td>t</td>\n",
       "      <td>274.418729</td>\n",
       "      <td>93535317407139914</td>\n",
       "      <td>7915</td>\n",
       "      <td>2023-04-05 22:39:15.451639+00:00</td>\n",
       "      <td>t</td>\n",
       "      <td>332833</td>\n",
       "      <td>6</td>\n",
       "      <td>7</td>\n",
       "      <td>6413</td>\n",
       "      <td>6</td>\n",
       "      <td>5.27806</td>\n",
       "      <td>7.808064</td>\n",
       "      <td>[209328, 174304, 20004]</td>\n",
       "      <td>[nan, nan, nan]</td>\n",
       "      <td>[nan, nan, nan]</td>\n",
       "    </tr>\n",
       "    <tr>\n",
       "      <th>864691135661410544</th>\n",
       "      <td>295460</td>\n",
       "      <td>2020-09-28 22:41:24.368712+00:00</td>\n",
       "      <td>t</td>\n",
       "      <td>208.616653</td>\n",
       "      <td>90225718084406516</td>\n",
       "      <td>11589</td>\n",
       "      <td>2023-04-05 22:39:47.420305+00:00</td>\n",
       "      <td>t</td>\n",
       "      <td>295460</td>\n",
       "      <td>9</td>\n",
       "      <td>3</td>\n",
       "      <td>7748</td>\n",
       "      <td>6</td>\n",
       "      <td>5.20837</td>\n",
       "      <td>2.999543</td>\n",
       "      <td>[185088, 157776, 15691]</td>\n",
       "      <td>[nan, nan, nan]</td>\n",
       "      <td>[nan, nan, nan]</td>\n",
       "    </tr>\n",
       "  </tbody>\n",
       "</table>\n",
       "</div>"
      ],
      "text/plain": [
       "                    id_ref                      created_ref valid_ref  \\\n",
       "pt_root_id                                                              \n",
       "864691135738685297  582276 2020-09-28 22:41:42.536121+00:00         t   \n",
       "864691135614842827  194144 2020-09-28 22:42:01.511773+00:00         t   \n",
       "864691135502985397  293318 2020-09-28 22:45:23.572432+00:00         t   \n",
       "864691135387371905  332833 2020-09-28 22:44:41.864456+00:00         t   \n",
       "864691135661410544  295460 2020-09-28 22:41:24.368712+00:00         t   \n",
       "\n",
       "                        volume    pt_supervoxel_id     id  \\\n",
       "pt_root_id                                                  \n",
       "864691135738685297  274.291589  111332012547320963  13434   \n",
       "864691135614842827  213.307228   83542405709639148   3045   \n",
       "864691135502985397  430.108180   90783515419343652   1474   \n",
       "864691135387371905  274.418729   93535317407139914   7915   \n",
       "864691135661410544  208.616653   90225718084406516  11589   \n",
       "\n",
       "                                            created valid  target_id  session  \\\n",
       "pt_root_id                                                                      \n",
       "864691135738685297 2023-04-05 22:39:53.474202+00:00     t     582276        7   \n",
       "864691135614842827 2023-04-05 22:39:03.110911+00:00     t     194144        7   \n",
       "864691135502985397 2023-04-05 22:36:19.477499+00:00     t     293318        9   \n",
       "864691135387371905 2023-04-05 22:39:15.451639+00:00     t     332833        6   \n",
       "864691135661410544 2023-04-05 22:39:47.420305+00:00     t     295460        9   \n",
       "\n",
       "                    scan_idx  unit_id  field  residual     score  \\\n",
       "pt_root_id                                                         \n",
       "864691135738685297         5     4909      4   6.10722  9.568690   \n",
       "864691135614842827         4     9575      6   8.55708 -0.714900   \n",
       "864691135502985397         4     8066      6   5.63758  8.915025   \n",
       "864691135387371905         7     6413      6   5.27806  7.808064   \n",
       "864691135661410544         3     7748      6   5.20837  2.999543   \n",
       "\n",
       "                                pt_position bb_start_position  bb_end_position  \n",
       "pt_root_id                                                                      \n",
       "864691135738685297  [338720, 125232, 19589]   [nan, nan, nan]  [nan, nan, nan]  \n",
       "864691135614842827  [136400, 170640, 17951]   [nan, nan, nan]  [nan, nan, nan]  \n",
       "864691135502985397  [189472, 119296, 26037]   [nan, nan, nan]  [nan, nan, nan]  \n",
       "864691135387371905  [209328, 174304, 20004]   [nan, nan, nan]  [nan, nan, nan]  \n",
       "864691135661410544  [185088, 157776, 15691]   [nan, nan, nan]  [nan, nan, nan]  "
      ]
     },
     "execution_count": 11,
     "metadata": {},
     "output_type": "execute_result"
    }
   ],
   "source": [
    "df.head()"
   ]
  },
  {
   "cell_type": "code",
   "execution_count": 12,
   "metadata": {},
   "outputs": [
    {
     "data": {
      "text/plain": [
       "(13925, 18)"
      ]
     },
     "execution_count": 12,
     "metadata": {},
     "output_type": "execute_result"
    }
   ],
   "source": [
    "df.shape"
   ]
  },
  {
   "cell_type": "code",
   "execution_count": 13,
   "metadata": {},
   "outputs": [],
   "source": [
    "unit_keys_1 = df.iloc[:5000, :][['session', 'scan_idx', 'unit_id']].to_dict(orient='records')\n",
    "unit_keys_2 = df.iloc[5000:10000, :][['session', 'scan_idx', 'unit_id']].to_dict(orient='records')\n",
    "unit_keys_3 = df.iloc[10000:13925, :][['session', 'scan_idx', 'unit_id']].to_dict(orient='records')"
   ]
  },
  {
   "cell_type": "code",
   "execution_count": 14,
   "metadata": {},
   "outputs": [
    {
     "name": "stdout",
     "output_type": "stream",
     "text": [
      "1/3 Completed!\n",
      "2/3 Completed!\n",
      "3/3 Completed!\n"
     ]
    }
   ],
   "source": [
    "temp_1 = (nda.AreaMembership & unit_keys_1).fetch('brain_area')\n",
    "print('1/3 Completed!')\n",
    "temp_2 = (nda.AreaMembership & unit_keys_2).fetch('brain_area')\n",
    "print('2/3 Completed!')\n",
    "temp_3 = (nda.AreaMembership & unit_keys_3).fetch('brain_area')\n",
    "print('3/3 Completed!')\n",
    "area_membership = np.concatenate((temp_1, temp_2, temp_3), axis=0)\n",
    "assert len(area_membership) == df.shape[0]"
   ]
  },
  {
   "cell_type": "code",
   "execution_count": 15,
   "metadata": {},
   "outputs": [
    {
     "data": {
      "text/html": [
       "<div>\n",
       "<style scoped>\n",
       "    .dataframe tbody tr th:only-of-type {\n",
       "        vertical-align: middle;\n",
       "    }\n",
       "\n",
       "    .dataframe tbody tr th {\n",
       "        vertical-align: top;\n",
       "    }\n",
       "\n",
       "    .dataframe thead th {\n",
       "        text-align: right;\n",
       "    }\n",
       "</style>\n",
       "<table border=\"1\" class=\"dataframe\">\n",
       "  <thead>\n",
       "    <tr style=\"text-align: right;\">\n",
       "      <th></th>\n",
       "      <th>id_ref</th>\n",
       "      <th>created_ref</th>\n",
       "      <th>valid_ref</th>\n",
       "      <th>volume</th>\n",
       "      <th>pt_supervoxel_id</th>\n",
       "      <th>id</th>\n",
       "      <th>created</th>\n",
       "      <th>valid</th>\n",
       "      <th>target_id</th>\n",
       "      <th>session</th>\n",
       "      <th>scan_idx</th>\n",
       "      <th>unit_id</th>\n",
       "      <th>field</th>\n",
       "      <th>residual</th>\n",
       "      <th>score</th>\n",
       "      <th>pt_position</th>\n",
       "      <th>bb_start_position</th>\n",
       "      <th>bb_end_position</th>\n",
       "      <th>Area Membership</th>\n",
       "    </tr>\n",
       "    <tr>\n",
       "      <th>pt_root_id</th>\n",
       "      <th></th>\n",
       "      <th></th>\n",
       "      <th></th>\n",
       "      <th></th>\n",
       "      <th></th>\n",
       "      <th></th>\n",
       "      <th></th>\n",
       "      <th></th>\n",
       "      <th></th>\n",
       "      <th></th>\n",
       "      <th></th>\n",
       "      <th></th>\n",
       "      <th></th>\n",
       "      <th></th>\n",
       "      <th></th>\n",
       "      <th></th>\n",
       "      <th></th>\n",
       "      <th></th>\n",
       "      <th></th>\n",
       "    </tr>\n",
       "  </thead>\n",
       "  <tbody>\n",
       "    <tr>\n",
       "      <th>864691135738685297</th>\n",
       "      <td>582276</td>\n",
       "      <td>2020-09-28 22:41:42.536121+00:00</td>\n",
       "      <td>t</td>\n",
       "      <td>274.291589</td>\n",
       "      <td>111332012547320963</td>\n",
       "      <td>13434</td>\n",
       "      <td>2023-04-05 22:39:53.474202+00:00</td>\n",
       "      <td>t</td>\n",
       "      <td>582276</td>\n",
       "      <td>7</td>\n",
       "      <td>5</td>\n",
       "      <td>4909</td>\n",
       "      <td>4</td>\n",
       "      <td>6.10722</td>\n",
       "      <td>9.568690</td>\n",
       "      <td>[338720, 125232, 19589]</td>\n",
       "      <td>[nan, nan, nan]</td>\n",
       "      <td>[nan, nan, nan]</td>\n",
       "      <td>V1</td>\n",
       "    </tr>\n",
       "    <tr>\n",
       "      <th>864691135614842827</th>\n",
       "      <td>194144</td>\n",
       "      <td>2020-09-28 22:42:01.511773+00:00</td>\n",
       "      <td>t</td>\n",
       "      <td>213.307228</td>\n",
       "      <td>83542405709639148</td>\n",
       "      <td>3045</td>\n",
       "      <td>2023-04-05 22:39:03.110911+00:00</td>\n",
       "      <td>t</td>\n",
       "      <td>194144</td>\n",
       "      <td>7</td>\n",
       "      <td>4</td>\n",
       "      <td>9575</td>\n",
       "      <td>6</td>\n",
       "      <td>8.55708</td>\n",
       "      <td>-0.714900</td>\n",
       "      <td>[136400, 170640, 17951]</td>\n",
       "      <td>[nan, nan, nan]</td>\n",
       "      <td>[nan, nan, nan]</td>\n",
       "      <td>V1</td>\n",
       "    </tr>\n",
       "    <tr>\n",
       "      <th>864691135502985397</th>\n",
       "      <td>293318</td>\n",
       "      <td>2020-09-28 22:45:23.572432+00:00</td>\n",
       "      <td>t</td>\n",
       "      <td>430.108180</td>\n",
       "      <td>90783515419343652</td>\n",
       "      <td>1474</td>\n",
       "      <td>2023-04-05 22:36:19.477499+00:00</td>\n",
       "      <td>t</td>\n",
       "      <td>293318</td>\n",
       "      <td>9</td>\n",
       "      <td>4</td>\n",
       "      <td>8066</td>\n",
       "      <td>6</td>\n",
       "      <td>5.63758</td>\n",
       "      <td>8.915025</td>\n",
       "      <td>[189472, 119296, 26037]</td>\n",
       "      <td>[nan, nan, nan]</td>\n",
       "      <td>[nan, nan, nan]</td>\n",
       "      <td>V1</td>\n",
       "    </tr>\n",
       "    <tr>\n",
       "      <th>864691135387371905</th>\n",
       "      <td>332833</td>\n",
       "      <td>2020-09-28 22:44:41.864456+00:00</td>\n",
       "      <td>t</td>\n",
       "      <td>274.418729</td>\n",
       "      <td>93535317407139914</td>\n",
       "      <td>7915</td>\n",
       "      <td>2023-04-05 22:39:15.451639+00:00</td>\n",
       "      <td>t</td>\n",
       "      <td>332833</td>\n",
       "      <td>6</td>\n",
       "      <td>7</td>\n",
       "      <td>6413</td>\n",
       "      <td>6</td>\n",
       "      <td>5.27806</td>\n",
       "      <td>7.808064</td>\n",
       "      <td>[209328, 174304, 20004]</td>\n",
       "      <td>[nan, nan, nan]</td>\n",
       "      <td>[nan, nan, nan]</td>\n",
       "      <td>V1</td>\n",
       "    </tr>\n",
       "    <tr>\n",
       "      <th>864691135661410544</th>\n",
       "      <td>295460</td>\n",
       "      <td>2020-09-28 22:41:24.368712+00:00</td>\n",
       "      <td>t</td>\n",
       "      <td>208.616653</td>\n",
       "      <td>90225718084406516</td>\n",
       "      <td>11589</td>\n",
       "      <td>2023-04-05 22:39:47.420305+00:00</td>\n",
       "      <td>t</td>\n",
       "      <td>295460</td>\n",
       "      <td>9</td>\n",
       "      <td>3</td>\n",
       "      <td>7748</td>\n",
       "      <td>6</td>\n",
       "      <td>5.20837</td>\n",
       "      <td>2.999543</td>\n",
       "      <td>[185088, 157776, 15691]</td>\n",
       "      <td>[nan, nan, nan]</td>\n",
       "      <td>[nan, nan, nan]</td>\n",
       "      <td>V1</td>\n",
       "    </tr>\n",
       "  </tbody>\n",
       "</table>\n",
       "</div>"
      ],
      "text/plain": [
       "                    id_ref                      created_ref valid_ref  \\\n",
       "pt_root_id                                                              \n",
       "864691135738685297  582276 2020-09-28 22:41:42.536121+00:00         t   \n",
       "864691135614842827  194144 2020-09-28 22:42:01.511773+00:00         t   \n",
       "864691135502985397  293318 2020-09-28 22:45:23.572432+00:00         t   \n",
       "864691135387371905  332833 2020-09-28 22:44:41.864456+00:00         t   \n",
       "864691135661410544  295460 2020-09-28 22:41:24.368712+00:00         t   \n",
       "\n",
       "                        volume    pt_supervoxel_id     id  \\\n",
       "pt_root_id                                                  \n",
       "864691135738685297  274.291589  111332012547320963  13434   \n",
       "864691135614842827  213.307228   83542405709639148   3045   \n",
       "864691135502985397  430.108180   90783515419343652   1474   \n",
       "864691135387371905  274.418729   93535317407139914   7915   \n",
       "864691135661410544  208.616653   90225718084406516  11589   \n",
       "\n",
       "                                            created valid  target_id  session  \\\n",
       "pt_root_id                                                                      \n",
       "864691135738685297 2023-04-05 22:39:53.474202+00:00     t     582276        7   \n",
       "864691135614842827 2023-04-05 22:39:03.110911+00:00     t     194144        7   \n",
       "864691135502985397 2023-04-05 22:36:19.477499+00:00     t     293318        9   \n",
       "864691135387371905 2023-04-05 22:39:15.451639+00:00     t     332833        6   \n",
       "864691135661410544 2023-04-05 22:39:47.420305+00:00     t     295460        9   \n",
       "\n",
       "                    scan_idx  unit_id  field  residual     score  \\\n",
       "pt_root_id                                                         \n",
       "864691135738685297         5     4909      4   6.10722  9.568690   \n",
       "864691135614842827         4     9575      6   8.55708 -0.714900   \n",
       "864691135502985397         4     8066      6   5.63758  8.915025   \n",
       "864691135387371905         7     6413      6   5.27806  7.808064   \n",
       "864691135661410544         3     7748      6   5.20837  2.999543   \n",
       "\n",
       "                                pt_position bb_start_position  \\\n",
       "pt_root_id                                                      \n",
       "864691135738685297  [338720, 125232, 19589]   [nan, nan, nan]   \n",
       "864691135614842827  [136400, 170640, 17951]   [nan, nan, nan]   \n",
       "864691135502985397  [189472, 119296, 26037]   [nan, nan, nan]   \n",
       "864691135387371905  [209328, 174304, 20004]   [nan, nan, nan]   \n",
       "864691135661410544  [185088, 157776, 15691]   [nan, nan, nan]   \n",
       "\n",
       "                    bb_end_position Area Membership  \n",
       "pt_root_id                                           \n",
       "864691135738685297  [nan, nan, nan]              V1  \n",
       "864691135614842827  [nan, nan, nan]              V1  \n",
       "864691135502985397  [nan, nan, nan]              V1  \n",
       "864691135387371905  [nan, nan, nan]              V1  \n",
       "864691135661410544  [nan, nan, nan]              V1  "
      ]
     },
     "execution_count": 15,
     "metadata": {},
     "output_type": "execute_result"
    }
   ],
   "source": [
    "df['Area Membership'] = area_membership\n",
    "df.head()"
   ]
  },
  {
   "cell_type": "code",
   "execution_count": 16,
   "metadata": {},
   "outputs": [
    {
     "data": {
      "text/plain": [
       "13925"
      ]
     },
     "execution_count": 16,
     "metadata": {},
     "output_type": "execute_result"
    }
   ],
   "source": [
    "root_ids = df.index.tolist()\n",
    "len(root_ids)"
   ]
  },
  {
   "cell_type": "code",
   "execution_count": 17,
   "metadata": {},
   "outputs": [],
   "source": [
    "subset_ids = root_ids[7000:8000]"
   ]
  },
  {
   "cell_type": "code",
   "execution_count": 18,
   "metadata": {},
   "outputs": [],
   "source": [
    "input_values = []\n",
    "output_values = []\n",
    "v_area = []\n",
    "\n",
    "for i in subset_ids:\n",
    "    input_df = client.materialize.synapse_query(post_ids=i)\n",
    "    \n",
    "    input_df.rename(columns = {'pre_pt_root_id':'pt_root_id'}, inplace = True) \n",
    "   \n",
    "    df_matched = pd.merge(input_df,df,on='pt_root_id',how='inner')\n",
    "    if df_matched.empty:\n",
    "        continue\n",
    "        \n",
    "    #This is the correct depth value that is retrieved by a special function created by the MICrONS team    \n",
    "    input_vertices_list = tform_vx.apply(df_matched['pt_position'])\n",
    "    graph_x_stack = np.vstack(input_vertices_list)\n",
    "    graph_x_values = graph_x_stack[:,1]\n",
    "\n",
    "    output_vertices = tform_vx.apply(df.at[i,'pt_position'])\n",
    "    graph_y_value = output_vertices[1]\n",
    "    if type(graph_y_value) != np.float64:\n",
    "        continue\n",
    "    \n",
    "    num_points = len(graph_x_values)\n",
    "    input_values.extend(graph_x_values)\n",
    "    output_values.extend([graph_y_value]*num_points)\n",
    "    v_area.extend(df_matched['Area Membership'])"
   ]
  },
  {
   "cell_type": "code",
   "execution_count": 19,
   "metadata": {},
   "outputs": [
    {
     "data": {
      "text/html": [
       "<div>\n",
       "<style scoped>\n",
       "    .dataframe tbody tr th:only-of-type {\n",
       "        vertical-align: middle;\n",
       "    }\n",
       "\n",
       "    .dataframe tbody tr th {\n",
       "        vertical-align: top;\n",
       "    }\n",
       "\n",
       "    .dataframe thead th {\n",
       "        text-align: right;\n",
       "    }\n",
       "</style>\n",
       "<table border=\"1\" class=\"dataframe\">\n",
       "  <thead>\n",
       "    <tr style=\"text-align: right;\">\n",
       "      <th></th>\n",
       "      <th>Inputh Depth</th>\n",
       "      <th>Output Depth</th>\n",
       "      <th>Area Membership</th>\n",
       "    </tr>\n",
       "  </thead>\n",
       "  <tbody>\n",
       "    <tr>\n",
       "      <th>0</th>\n",
       "      <td>181.079174</td>\n",
       "      <td>222.435788</td>\n",
       "      <td>V1</td>\n",
       "    </tr>\n",
       "    <tr>\n",
       "      <th>1</th>\n",
       "      <td>261.101160</td>\n",
       "      <td>222.435788</td>\n",
       "      <td>RL</td>\n",
       "    </tr>\n",
       "    <tr>\n",
       "      <th>2</th>\n",
       "      <td>350.274572</td>\n",
       "      <td>222.435788</td>\n",
       "      <td>V1</td>\n",
       "    </tr>\n",
       "    <tr>\n",
       "      <th>3</th>\n",
       "      <td>350.274572</td>\n",
       "      <td>222.435788</td>\n",
       "      <td>V1</td>\n",
       "    </tr>\n",
       "    <tr>\n",
       "      <th>4</th>\n",
       "      <td>350.274572</td>\n",
       "      <td>222.435788</td>\n",
       "      <td>V1</td>\n",
       "    </tr>\n",
       "  </tbody>\n",
       "</table>\n",
       "</div>"
      ],
      "text/plain": [
       "   Inputh Depth  Output Depth Area Membership\n",
       "0    181.079174    222.435788              V1\n",
       "1    261.101160    222.435788              RL\n",
       "2    350.274572    222.435788              V1\n",
       "3    350.274572    222.435788              V1\n",
       "4    350.274572    222.435788              V1"
      ]
     },
     "execution_count": 19,
     "metadata": {},
     "output_type": "execute_result"
    }
   ],
   "source": [
    "df_export = pd.DataFrame(list(zip(input_values, output_values, v_area)), columns=['Inputh Depth', 'Output Depth', 'Area Membership'])\n",
    "df_export.head()"
   ]
  },
  {
   "cell_type": "code",
   "execution_count": 20,
   "metadata": {},
   "outputs": [],
   "source": [
    "df_export.to_csv('graph_values_8.csv')"
   ]
  }
 ],
 "metadata": {
  "kernelspec": {
   "display_name": "Python 3",
   "language": "python",
   "name": "python3"
  },
  "language_info": {
   "codemirror_mode": {
    "name": "ipython",
    "version": 3
   },
   "file_extension": ".py",
   "mimetype": "text/x-python",
   "name": "python",
   "nbconvert_exporter": "python",
   "pygments_lexer": "ipython3",
   "version": "3.9.17"
  }
 },
 "nbformat": 4,
 "nbformat_minor": 2
}
