{
 "cells": [
  {
   "cell_type": "markdown",
   "metadata": {},
   "source": [
    "# Fetching Pre and Post synaptic Neuron Location"
   ]
  },
  {
   "cell_type": "markdown",
   "metadata": {},
   "source": [
    "## Libraries"
   ]
  },
  {
   "cell_type": "code",
   "execution_count": 1,
   "metadata": {},
   "outputs": [],
   "source": [
    "# ! pip install standard-transform\n",
    "# ! pip install --upgrade caveclient"
   ]
  },
  {
   "cell_type": "code",
   "execution_count": 2,
   "metadata": {},
   "outputs": [
    {
     "name": "stdout",
     "output_type": "stream",
     "text": [
      "Connecting microns@db.datajoint.com:3306\n"
     ]
    },
    {
     "name": "stderr",
     "output_type": "stream",
     "text": [
      "Could not create the ~log table\n",
      "Could not access table `microns_phase3_nda`.`~log`\n"
     ]
    }
   ],
   "source": [
    "import numpy as np\n",
    "import pandas as pd\n",
    "from caveclient import CAVEclient\n",
    "from microns_phase3 import nda\n",
    "from standard_transform import minnie_transform_vx"
   ]
  },
  {
   "cell_type": "markdown",
   "metadata": {},
   "source": [
    "## Preparation"
   ]
  },
  {
   "cell_type": "markdown",
   "metadata": {},
   "source": [
    "Function that transforms the voxel coorindate into a depth coordinate (function given to us by the authors of the Microns Project)"
   ]
  },
  {
   "cell_type": "code",
   "execution_count": 3,
   "metadata": {},
   "outputs": [],
   "source": [
    "t_form_v = minnie_transform_vx()"
   ]
  },
  {
   "cell_type": "markdown",
   "metadata": {},
   "source": [
    "### Querying the data from CAVEclient"
   ]
  },
  {
   "cell_type": "code",
   "execution_count": 4,
   "metadata": {},
   "outputs": [],
   "source": [
    "client = CAVEclient()"
   ]
  },
  {
   "cell_type": "code",
   "execution_count": 5,
   "metadata": {},
   "outputs": [],
   "source": [
    "# client.auth.save_token(\"64ea0271652fd86dc7fb6376cd9d52b9\")"
   ]
  },
  {
   "cell_type": "markdown",
   "metadata": {},
   "source": [
    "We will use the latest version of the minnie65 dataset, i.e. 661"
   ]
  },
  {
   "cell_type": "code",
   "execution_count": 6,
   "metadata": {},
   "outputs": [],
   "source": [
    "client = CAVEclient('minnie65_public_v661')"
   ]
  },
  {
   "cell_type": "code",
   "execution_count": 7,
   "metadata": {},
   "outputs": [
    {
     "data": {
      "text/plain": [
       "['baylor_gnn_cell_type_fine_model_v2',\n",
       " 'nucleus_alternative_points',\n",
       " 'connectivity_groups_v507',\n",
       " 'proofreading_status_public_release',\n",
       " 'allen_column_mtypes_v1',\n",
       " 'allen_v1_column_types_slanted_ref',\n",
       " 'aibs_column_nonneuronal_ref',\n",
       " 'nucleus_ref_neuron_svm',\n",
       " 'aibs_soma_nuc_exc_mtype_preds_v117',\n",
       " 'baylor_log_reg_cell_type_coarse_v1',\n",
       " 'apl_functional_coreg_forward_v5',\n",
       " 'nucleus_detection_v0',\n",
       " 'aibs_soma_nuc_metamodel_preds_v117']"
      ]
     },
     "execution_count": 7,
     "metadata": {},
     "output_type": "execute_result"
    }
   ],
   "source": [
    "client.materialize.get_tables()"
   ]
  },
  {
   "cell_type": "markdown",
   "metadata": {},
   "source": [
    "These are all the available tables, but we are interested only in the *apl_functional_coreg_forward_v5*, that is the one containing the information about the proofread neurons"
   ]
  },
  {
   "cell_type": "code",
   "execution_count": 34,
   "metadata": {},
   "outputs": [],
   "source": [
    "temp = client.materialize.query_table('aibs_column_nonneuronal_ref')"
   ]
  },
  {
   "cell_type": "code",
   "execution_count": 35,
   "metadata": {},
   "outputs": [
    {
     "data": {
      "text/html": [
       "<div>\n",
       "<style scoped>\n",
       "    .dataframe tbody tr th:only-of-type {\n",
       "        vertical-align: middle;\n",
       "    }\n",
       "\n",
       "    .dataframe tbody tr th {\n",
       "        vertical-align: top;\n",
       "    }\n",
       "\n",
       "    .dataframe thead th {\n",
       "        text-align: right;\n",
       "    }\n",
       "</style>\n",
       "<table border=\"1\" class=\"dataframe\">\n",
       "  <thead>\n",
       "    <tr style=\"text-align: right;\">\n",
       "      <th></th>\n",
       "      <th>id_ref</th>\n",
       "      <th>created_ref</th>\n",
       "      <th>valid_ref</th>\n",
       "      <th>volume</th>\n",
       "      <th>pt_supervoxel_id</th>\n",
       "      <th>pt_root_id</th>\n",
       "      <th>id</th>\n",
       "      <th>created</th>\n",
       "      <th>valid</th>\n",
       "      <th>target_id</th>\n",
       "      <th>classification_system</th>\n",
       "      <th>cell_type</th>\n",
       "      <th>pt_position</th>\n",
       "      <th>bb_start_position</th>\n",
       "      <th>bb_end_position</th>\n",
       "    </tr>\n",
       "  </thead>\n",
       "  <tbody>\n",
       "    <tr>\n",
       "      <th>0</th>\n",
       "      <td>269398</td>\n",
       "      <td>2020-09-28 22:41:16.766778+00:00</td>\n",
       "      <td>t</td>\n",
       "      <td>26.438205</td>\n",
       "      <td>88262953194999153</td>\n",
       "      <td>864691135203453161</td>\n",
       "      <td>1</td>\n",
       "      <td>2023-03-18 14:17:23.967558+00:00</td>\n",
       "      <td>t</td>\n",
       "      <td>269398</td>\n",
       "      <td>aibs_coarse_nonneuronal</td>\n",
       "      <td>pericyte</td>\n",
       "      <td>[170832, 213904, 21702]</td>\n",
       "      <td>[nan, nan, nan]</td>\n",
       "      <td>[nan, nan, nan]</td>\n",
       "    </tr>\n",
       "    <tr>\n",
       "      <th>1</th>\n",
       "      <td>301005</td>\n",
       "      <td>2020-09-28 22:41:57.863484+00:00</td>\n",
       "      <td>t</td>\n",
       "      <td>28.584673</td>\n",
       "      <td>91004241640527552</td>\n",
       "      <td>864691135382650586</td>\n",
       "      <td>2</td>\n",
       "      <td>2023-03-18 14:17:23.968298+00:00</td>\n",
       "      <td>t</td>\n",
       "      <td>301005</td>\n",
       "      <td>aibs_coarse_nonneuronal</td>\n",
       "      <td>pericyte</td>\n",
       "      <td>[190864, 191024, 20463]</td>\n",
       "      <td>[nan, nan, nan]</td>\n",
       "      <td>[nan, nan, nan]</td>\n",
       "    </tr>\n",
       "    <tr>\n",
       "      <th>2</th>\n",
       "      <td>262944</td>\n",
       "      <td>2020-09-28 22:40:54.872330+00:00</td>\n",
       "      <td>t</td>\n",
       "      <td>30.349230</td>\n",
       "      <td>89031649328771167</td>\n",
       "      <td>864691134947909116</td>\n",
       "      <td>3</td>\n",
       "      <td>2023-03-18 14:17:23.968970+00:00</td>\n",
       "      <td>t</td>\n",
       "      <td>262944</td>\n",
       "      <td>aibs_coarse_nonneuronal</td>\n",
       "      <td>pericyte</td>\n",
       "      <td>[176224, 173952, 22095]</td>\n",
       "      <td>[nan, nan, nan]</td>\n",
       "      <td>[nan, nan, nan]</td>\n",
       "    </tr>\n",
       "    <tr>\n",
       "      <th>3</th>\n",
       "      <td>267014</td>\n",
       "      <td>2020-09-28 22:42:01.613059+00:00</td>\n",
       "      <td>t</td>\n",
       "      <td>31.845253</td>\n",
       "      <td>88261303793472938</td>\n",
       "      <td>864691132771104287</td>\n",
       "      <td>4</td>\n",
       "      <td>2023-03-18 14:17:23.969646+00:00</td>\n",
       "      <td>t</td>\n",
       "      <td>267014</td>\n",
       "      <td>aibs_coarse_nonneuronal</td>\n",
       "      <td>pericyte</td>\n",
       "      <td>[170752, 201632, 20808]</td>\n",
       "      <td>[nan, nan, nan]</td>\n",
       "      <td>[nan, nan, nan]</td>\n",
       "    </tr>\n",
       "    <tr>\n",
       "      <th>4</th>\n",
       "      <td>256677</td>\n",
       "      <td>2020-09-28 22:40:42.643378+00:00</td>\n",
       "      <td>t</td>\n",
       "      <td>35.175465</td>\n",
       "      <td>89517770907257607</td>\n",
       "      <td>864691136436419998</td>\n",
       "      <td>5</td>\n",
       "      <td>2023-03-18 14:17:23.970312+00:00</td>\n",
       "      <td>t</td>\n",
       "      <td>256677</td>\n",
       "      <td>aibs_coarse_nonneuronal</td>\n",
       "      <td>pericyte</td>\n",
       "      <td>[179776, 125648, 22141]</td>\n",
       "      <td>[nan, nan, nan]</td>\n",
       "      <td>[nan, nan, nan]</td>\n",
       "    </tr>\n",
       "  </tbody>\n",
       "</table>\n",
       "</div>"
      ],
      "text/plain": [
       "   id_ref                      created_ref valid_ref     volume  \\\n",
       "0  269398 2020-09-28 22:41:16.766778+00:00         t  26.438205   \n",
       "1  301005 2020-09-28 22:41:57.863484+00:00         t  28.584673   \n",
       "2  262944 2020-09-28 22:40:54.872330+00:00         t  30.349230   \n",
       "3  267014 2020-09-28 22:42:01.613059+00:00         t  31.845253   \n",
       "4  256677 2020-09-28 22:40:42.643378+00:00         t  35.175465   \n",
       "\n",
       "    pt_supervoxel_id          pt_root_id  id                          created  \\\n",
       "0  88262953194999153  864691135203453161   1 2023-03-18 14:17:23.967558+00:00   \n",
       "1  91004241640527552  864691135382650586   2 2023-03-18 14:17:23.968298+00:00   \n",
       "2  89031649328771167  864691134947909116   3 2023-03-18 14:17:23.968970+00:00   \n",
       "3  88261303793472938  864691132771104287   4 2023-03-18 14:17:23.969646+00:00   \n",
       "4  89517770907257607  864691136436419998   5 2023-03-18 14:17:23.970312+00:00   \n",
       "\n",
       "  valid  target_id    classification_system cell_type  \\\n",
       "0     t     269398  aibs_coarse_nonneuronal  pericyte   \n",
       "1     t     301005  aibs_coarse_nonneuronal  pericyte   \n",
       "2     t     262944  aibs_coarse_nonneuronal  pericyte   \n",
       "3     t     267014  aibs_coarse_nonneuronal  pericyte   \n",
       "4     t     256677  aibs_coarse_nonneuronal  pericyte   \n",
       "\n",
       "               pt_position bb_start_position  bb_end_position  \n",
       "0  [170832, 213904, 21702]   [nan, nan, nan]  [nan, nan, nan]  \n",
       "1  [190864, 191024, 20463]   [nan, nan, nan]  [nan, nan, nan]  \n",
       "2  [176224, 173952, 22095]   [nan, nan, nan]  [nan, nan, nan]  \n",
       "3  [170752, 201632, 20808]   [nan, nan, nan]  [nan, nan, nan]  \n",
       "4  [179776, 125648, 22141]   [nan, nan, nan]  [nan, nan, nan]  "
      ]
     },
     "execution_count": 35,
     "metadata": {},
     "output_type": "execute_result"
    }
   ],
   "source": [
    "temp.head()"
   ]
  },
  {
   "cell_type": "code",
   "execution_count": 9,
   "metadata": {},
   "outputs": [],
   "source": [
    "df = client.materialize.query_table('apl_functional_coreg_forward_v5')"
   ]
  },
  {
   "cell_type": "markdown",
   "metadata": {},
   "source": [
    "We start by setting as the index he ID associated to the root of the synapse"
   ]
  },
  {
   "cell_type": "code",
   "execution_count": 13,
   "metadata": {},
   "outputs": [],
   "source": [
    "df = df.set_index('pt_root_id')"
   ]
  },
  {
   "cell_type": "code",
   "execution_count": 14,
   "metadata": {},
   "outputs": [
    {
     "data": {
      "text/html": [
       "<div>\n",
       "<style scoped>\n",
       "    .dataframe tbody tr th:only-of-type {\n",
       "        vertical-align: middle;\n",
       "    }\n",
       "\n",
       "    .dataframe tbody tr th {\n",
       "        vertical-align: top;\n",
       "    }\n",
       "\n",
       "    .dataframe thead th {\n",
       "        text-align: right;\n",
       "    }\n",
       "</style>\n",
       "<table border=\"1\" class=\"dataframe\">\n",
       "  <thead>\n",
       "    <tr style=\"text-align: right;\">\n",
       "      <th></th>\n",
       "      <th>id_ref</th>\n",
       "      <th>created_ref</th>\n",
       "      <th>valid_ref</th>\n",
       "      <th>volume</th>\n",
       "      <th>pt_supervoxel_id</th>\n",
       "      <th>id</th>\n",
       "      <th>created</th>\n",
       "      <th>valid</th>\n",
       "      <th>target_id</th>\n",
       "      <th>session</th>\n",
       "      <th>scan_idx</th>\n",
       "      <th>unit_id</th>\n",
       "      <th>field</th>\n",
       "      <th>residual</th>\n",
       "      <th>score</th>\n",
       "      <th>pt_position</th>\n",
       "      <th>bb_start_position</th>\n",
       "      <th>bb_end_position</th>\n",
       "    </tr>\n",
       "    <tr>\n",
       "      <th>pt_root_id</th>\n",
       "      <th></th>\n",
       "      <th></th>\n",
       "      <th></th>\n",
       "      <th></th>\n",
       "      <th></th>\n",
       "      <th></th>\n",
       "      <th></th>\n",
       "      <th></th>\n",
       "      <th></th>\n",
       "      <th></th>\n",
       "      <th></th>\n",
       "      <th></th>\n",
       "      <th></th>\n",
       "      <th></th>\n",
       "      <th></th>\n",
       "      <th></th>\n",
       "      <th></th>\n",
       "      <th></th>\n",
       "    </tr>\n",
       "  </thead>\n",
       "  <tbody>\n",
       "    <tr>\n",
       "      <th>864691135568539372</th>\n",
       "      <td>255686</td>\n",
       "      <td>2020-09-28 22:40:42.632533+00:00</td>\n",
       "      <td>t</td>\n",
       "      <td>297.846047</td>\n",
       "      <td>88954888800920543</td>\n",
       "      <td>67007</td>\n",
       "      <td>2023-04-06 15:05:50.491194+00:00</td>\n",
       "      <td>t</td>\n",
       "      <td>255686</td>\n",
       "      <td>9</td>\n",
       "      <td>6</td>\n",
       "      <td>1913</td>\n",
       "      <td>2</td>\n",
       "      <td>8.941486</td>\n",
       "      <td>4.206369</td>\n",
       "      <td>[175760, 126480, 15504]</td>\n",
       "      <td>[nan, nan, nan]</td>\n",
       "      <td>[nan, nan, nan]</td>\n",
       "    </tr>\n",
       "    <tr>\n",
       "      <th>864691135568539372</th>\n",
       "      <td>255686</td>\n",
       "      <td>2020-09-28 22:40:42.632533+00:00</td>\n",
       "      <td>t</td>\n",
       "      <td>297.846047</td>\n",
       "      <td>88954888800920543</td>\n",
       "      <td>65810</td>\n",
       "      <td>2023-04-06 15:05:49.502144+00:00</td>\n",
       "      <td>t</td>\n",
       "      <td>255686</td>\n",
       "      <td>9</td>\n",
       "      <td>4</td>\n",
       "      <td>7548</td>\n",
       "      <td>6</td>\n",
       "      <td>9.380808</td>\n",
       "      <td>-5.165012</td>\n",
       "      <td>[175760, 126480, 15504]</td>\n",
       "      <td>[nan, nan, nan]</td>\n",
       "      <td>[nan, nan, nan]</td>\n",
       "    </tr>\n",
       "    <tr>\n",
       "      <th>864691135568539372</th>\n",
       "      <td>255686</td>\n",
       "      <td>2020-09-28 22:40:42.632533+00:00</td>\n",
       "      <td>t</td>\n",
       "      <td>297.846047</td>\n",
       "      <td>88954888800920543</td>\n",
       "      <td>54982</td>\n",
       "      <td>2023-04-06 15:05:15.938520+00:00</td>\n",
       "      <td>t</td>\n",
       "      <td>255686</td>\n",
       "      <td>8</td>\n",
       "      <td>7</td>\n",
       "      <td>4778</td>\n",
       "      <td>4</td>\n",
       "      <td>3.763804</td>\n",
       "      <td>5.341737</td>\n",
       "      <td>[175760, 126480, 15504]</td>\n",
       "      <td>[nan, nan, nan]</td>\n",
       "      <td>[nan, nan, nan]</td>\n",
       "    </tr>\n",
       "    <tr>\n",
       "      <th>864691135568539372</th>\n",
       "      <td>255686</td>\n",
       "      <td>2020-09-28 22:40:42.632533+00:00</td>\n",
       "      <td>t</td>\n",
       "      <td>297.846047</td>\n",
       "      <td>88954888800920543</td>\n",
       "      <td>46412</td>\n",
       "      <td>2023-04-06 15:04:43.197444+00:00</td>\n",
       "      <td>t</td>\n",
       "      <td>255686</td>\n",
       "      <td>7</td>\n",
       "      <td>5</td>\n",
       "      <td>1946</td>\n",
       "      <td>2</td>\n",
       "      <td>4.071072</td>\n",
       "      <td>3.306988</td>\n",
       "      <td>[175760, 126480, 15504]</td>\n",
       "      <td>[nan, nan, nan]</td>\n",
       "      <td>[nan, nan, nan]</td>\n",
       "    </tr>\n",
       "    <tr>\n",
       "      <th>864691135568539372</th>\n",
       "      <td>255686</td>\n",
       "      <td>2020-09-28 22:40:42.632533+00:00</td>\n",
       "      <td>t</td>\n",
       "      <td>297.846047</td>\n",
       "      <td>88954888800920543</td>\n",
       "      <td>11823</td>\n",
       "      <td>2023-04-06 15:03:01.038836+00:00</td>\n",
       "      <td>t</td>\n",
       "      <td>255686</td>\n",
       "      <td>5</td>\n",
       "      <td>3</td>\n",
       "      <td>1994</td>\n",
       "      <td>2</td>\n",
       "      <td>5.419972</td>\n",
       "      <td>6.644126</td>\n",
       "      <td>[175760, 126480, 15504]</td>\n",
       "      <td>[nan, nan, nan]</td>\n",
       "      <td>[nan, nan, nan]</td>\n",
       "    </tr>\n",
       "  </tbody>\n",
       "</table>\n",
       "</div>"
      ],
      "text/plain": [
       "                    id_ref                      created_ref valid_ref  \\\n",
       "pt_root_id                                                              \n",
       "864691135568539372  255686 2020-09-28 22:40:42.632533+00:00         t   \n",
       "864691135568539372  255686 2020-09-28 22:40:42.632533+00:00         t   \n",
       "864691135568539372  255686 2020-09-28 22:40:42.632533+00:00         t   \n",
       "864691135568539372  255686 2020-09-28 22:40:42.632533+00:00         t   \n",
       "864691135568539372  255686 2020-09-28 22:40:42.632533+00:00         t   \n",
       "\n",
       "                        volume   pt_supervoxel_id     id  \\\n",
       "pt_root_id                                                 \n",
       "864691135568539372  297.846047  88954888800920543  67007   \n",
       "864691135568539372  297.846047  88954888800920543  65810   \n",
       "864691135568539372  297.846047  88954888800920543  54982   \n",
       "864691135568539372  297.846047  88954888800920543  46412   \n",
       "864691135568539372  297.846047  88954888800920543  11823   \n",
       "\n",
       "                                            created valid  target_id  session  \\\n",
       "pt_root_id                                                                      \n",
       "864691135568539372 2023-04-06 15:05:50.491194+00:00     t     255686        9   \n",
       "864691135568539372 2023-04-06 15:05:49.502144+00:00     t     255686        9   \n",
       "864691135568539372 2023-04-06 15:05:15.938520+00:00     t     255686        8   \n",
       "864691135568539372 2023-04-06 15:04:43.197444+00:00     t     255686        7   \n",
       "864691135568539372 2023-04-06 15:03:01.038836+00:00     t     255686        5   \n",
       "\n",
       "                    scan_idx  unit_id  field  residual     score  \\\n",
       "pt_root_id                                                         \n",
       "864691135568539372         6     1913      2  8.941486  4.206369   \n",
       "864691135568539372         4     7548      6  9.380808 -5.165012   \n",
       "864691135568539372         7     4778      4  3.763804  5.341737   \n",
       "864691135568539372         5     1946      2  4.071072  3.306988   \n",
       "864691135568539372         3     1994      2  5.419972  6.644126   \n",
       "\n",
       "                                pt_position bb_start_position  bb_end_position  \n",
       "pt_root_id                                                                      \n",
       "864691135568539372  [175760, 126480, 15504]   [nan, nan, nan]  [nan, nan, nan]  \n",
       "864691135568539372  [175760, 126480, 15504]   [nan, nan, nan]  [nan, nan, nan]  \n",
       "864691135568539372  [175760, 126480, 15504]   [nan, nan, nan]  [nan, nan, nan]  \n",
       "864691135568539372  [175760, 126480, 15504]   [nan, nan, nan]  [nan, nan, nan]  \n",
       "864691135568539372  [175760, 126480, 15504]   [nan, nan, nan]  [nan, nan, nan]  "
      ]
     },
     "execution_count": 14,
     "metadata": {},
     "output_type": "execute_result"
    }
   ],
   "source": [
    "df.head()"
   ]
  },
  {
   "cell_type": "code",
   "execution_count": null,
   "metadata": {},
   "outputs": [],
   "source": [
    "df.shape"
   ]
  },
  {
   "cell_type": "code",
   "execution_count": null,
   "metadata": {},
   "outputs": [],
   "source": [
    "prop = df.shape[0]//4"
   ]
  },
  {
   "cell_type": "code",
   "execution_count": null,
   "metadata": {},
   "outputs": [],
   "source": [
    "unit_keys_14 = df.iloc[:prop, :][['session', 'scan_idx', 'unit_id']].to_dict(orient='records')\n",
    "unit_keys_14"
   ]
  },
  {
   "cell_type": "code",
   "execution_count": null,
   "metadata": {},
   "outputs": [],
   "source": [
    "area_membership = (nda.AreaMembership & unit_keys_14).fetch('brain_area')"
   ]
  }
 ],
 "metadata": {
  "kernelspec": {
   "display_name": "Python 3",
   "language": "python",
   "name": "python3"
  },
  "language_info": {
   "codemirror_mode": {
    "name": "ipython",
    "version": 3
   },
   "file_extension": ".py",
   "mimetype": "text/x-python",
   "name": "python",
   "nbconvert_exporter": "python",
   "pygments_lexer": "ipython3",
   "version": "3.9.17"
  }
 },
 "nbformat": 4,
 "nbformat_minor": 2
}
