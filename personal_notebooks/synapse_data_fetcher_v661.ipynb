{
 "cells": [
  {
   "cell_type": "markdown",
   "metadata": {},
   "source": [
    "# Fetching Pre and Post synaptic Neuron Location"
   ]
  },
  {
   "cell_type": "markdown",
   "metadata": {},
   "source": [
    "## Libraries"
   ]
  },
  {
   "cell_type": "code",
   "execution_count": 1,
   "metadata": {},
   "outputs": [
    {
     "name": "stdout",
     "output_type": "stream",
     "text": [
      "Defaulting to user installation because normal site-packages is not writeable\n",
      "Collecting standard-transform\n",
      "  Downloading standard-transform-1.4.0.tar.gz (27 kB)\n",
      "  Preparing metadata (setup.py) ... \u001b[?25ldone\n",
      "\u001b[?25hRequirement already satisfied: scipy in /home/vscode/.local/lib/python3.9/site-packages (from standard-transform) (1.10.1)\n",
      "Requirement already satisfied: numpy in /home/vscode/.local/lib/python3.9/site-packages (from standard-transform) (1.24.3)\n",
      "Requirement already satisfied: pandas in /home/vscode/.local/lib/python3.9/site-packages (from standard-transform) (2.0.2)\n",
      "Requirement already satisfied: pytz>=2020.1 in /usr/local/lib/python3.9/site-packages (from pandas->standard-transform) (2023.3)\n",
      "Requirement already satisfied: tzdata>=2022.1 in /usr/local/lib/python3.9/site-packages (from pandas->standard-transform) (2023.3)\n",
      "Requirement already satisfied: python-dateutil>=2.8.2 in /usr/local/lib/python3.9/site-packages (from pandas->standard-transform) (2.8.2)\n",
      "Requirement already satisfied: six>=1.5 in /usr/local/lib/python3.9/site-packages (from python-dateutil>=2.8.2->pandas->standard-transform) (1.16.0)\n",
      "Building wheels for collected packages: standard-transform\n",
      "  Building wheel for standard-transform (setup.py) ... \u001b[?25ldone\n",
      "\u001b[?25h  Created wheel for standard-transform: filename=standard_transform-1.4.0-py3-none-any.whl size=22356 sha256=2a168c27c0e5126a86ef33878748015b943ffb1e687a1ef6682f96c13b17f690\n",
      "  Stored in directory: /home/vscode/.cache/pip/wheels/ad/3f/3f/2d6f4450cc3c31eb60e2dc6c4a24648a2e9563b610b26c9b67\n",
      "Successfully built standard-transform\n",
      "Installing collected packages: standard-transform\n",
      "Successfully installed standard-transform-1.4.0\n",
      "\n",
      "\u001b[1m[\u001b[0m\u001b[34;49mnotice\u001b[0m\u001b[1;39;49m]\u001b[0m\u001b[39;49m A new release of pip is available: \u001b[0m\u001b[31;49m23.0.1\u001b[0m\u001b[39;49m -> \u001b[0m\u001b[32;49m24.0\u001b[0m\n",
      "\u001b[1m[\u001b[0m\u001b[34;49mnotice\u001b[0m\u001b[1;39;49m]\u001b[0m\u001b[39;49m To update, run: \u001b[0m\u001b[32;49mpip install --upgrade pip\u001b[0m\n",
      "Defaulting to user installation because normal site-packages is not writeable\n",
      "Requirement already satisfied: caveclient in /usr/local/lib/python3.9/site-packages (5.7.0)\n",
      "Collecting caveclient\n",
      "  Downloading caveclient-5.18.0.tar.gz (72 kB)\n",
      "\u001b[2K     \u001b[90m━━━━━━━━━━━━━━━━━━━━━━━━━━━━━━━━━━━━━━━━\u001b[0m \u001b[32m72.2/72.2 kB\u001b[0m \u001b[31m3.1 MB/s\u001b[0m eta \u001b[36m0:00:00\u001b[0m\n",
      "\u001b[?25h  Preparing metadata (setup.py) ... \u001b[?25ldone\n",
      "\u001b[?25hRequirement already satisfied: numpy in /home/vscode/.local/lib/python3.9/site-packages (from caveclient) (1.24.3)\n",
      "Requirement already satisfied: pyarrow<12,>=3 in /usr/local/lib/python3.9/site-packages (from caveclient) (11.0.0)\n",
      "Requirement already satisfied: requests in /usr/local/lib/python3.9/site-packages (from caveclient) (2.31.0)\n",
      "Requirement already satisfied: urllib3 in /usr/local/lib/python3.9/site-packages (from caveclient) (2.0.3)\n",
      "Requirement already satisfied: pandas in /home/vscode/.local/lib/python3.9/site-packages (from caveclient) (2.0.2)\n",
      "Requirement already satisfied: cachetools>=4.2.1 in /usr/local/lib/python3.9/site-packages (from caveclient) (5.3.1)\n",
      "Requirement already satisfied: ipython in /usr/local/lib/python3.9/site-packages (from caveclient) (8.14.0)\n",
      "Requirement already satisfied: networkx in /usr/local/lib/python3.9/site-packages (from caveclient) (3.1)\n",
      "Requirement already satisfied: jsonschema in /usr/local/lib/python3.9/site-packages (from caveclient) (4.18.0)\n",
      "Requirement already satisfied: attrs>=21.3.0 in /usr/local/lib/python3.9/site-packages (from caveclient) (23.1.0)\n",
      "Requirement already satisfied: traitlets>=5 in /usr/local/lib/python3.9/site-packages (from ipython->caveclient) (5.9.0)\n",
      "Requirement already satisfied: pickleshare in /usr/local/lib/python3.9/site-packages (from ipython->caveclient) (0.7.5)\n",
      "Requirement already satisfied: pygments>=2.4.0 in /usr/local/lib/python3.9/site-packages (from ipython->caveclient) (2.15.1)\n",
      "Requirement already satisfied: jedi>=0.16 in /usr/local/lib/python3.9/site-packages (from ipython->caveclient) (0.18.2)\n",
      "Requirement already satisfied: typing-extensions in /usr/local/lib/python3.9/site-packages (from ipython->caveclient) (4.7.1)\n",
      "Requirement already satisfied: stack-data in /usr/local/lib/python3.9/site-packages (from ipython->caveclient) (0.6.2)\n",
      "Requirement already satisfied: backcall in /usr/local/lib/python3.9/site-packages (from ipython->caveclient) (0.2.0)\n",
      "Requirement already satisfied: matplotlib-inline in /usr/local/lib/python3.9/site-packages (from ipython->caveclient) (0.1.6)\n",
      "Requirement already satisfied: pexpect>4.3 in /usr/local/lib/python3.9/site-packages (from ipython->caveclient) (4.8.0)\n",
      "Requirement already satisfied: prompt-toolkit!=3.0.37,<3.1.0,>=3.0.30 in /usr/local/lib/python3.9/site-packages (from ipython->caveclient) (3.0.39)\n",
      "Requirement already satisfied: decorator in /usr/local/lib/python3.9/site-packages (from ipython->caveclient) (5.1.1)\n",
      "Requirement already satisfied: rpds-py>=0.7.1 in /usr/local/lib/python3.9/site-packages (from jsonschema->caveclient) (0.8.8)\n",
      "Requirement already satisfied: jsonschema-specifications>=2023.03.6 in /usr/local/lib/python3.9/site-packages (from jsonschema->caveclient) (2023.6.1)\n",
      "Requirement already satisfied: referencing>=0.28.4 in /usr/local/lib/python3.9/site-packages (from jsonschema->caveclient) (0.29.1)\n",
      "Requirement already satisfied: pytz>=2020.1 in /usr/local/lib/python3.9/site-packages (from pandas->caveclient) (2023.3)\n",
      "Requirement already satisfied: python-dateutil>=2.8.2 in /usr/local/lib/python3.9/site-packages (from pandas->caveclient) (2.8.2)\n",
      "Requirement already satisfied: tzdata>=2022.1 in /usr/local/lib/python3.9/site-packages (from pandas->caveclient) (2023.3)\n",
      "Requirement already satisfied: certifi>=2017.4.17 in /usr/local/lib/python3.9/site-packages (from requests->caveclient) (2023.5.7)\n",
      "Requirement already satisfied: idna<4,>=2.5 in /usr/local/lib/python3.9/site-packages (from requests->caveclient) (3.4)\n",
      "Requirement already satisfied: charset-normalizer<4,>=2 in /usr/local/lib/python3.9/site-packages (from requests->caveclient) (3.2.0)\n",
      "Requirement already satisfied: parso<0.9.0,>=0.8.0 in /usr/local/lib/python3.9/site-packages (from jedi>=0.16->ipython->caveclient) (0.8.3)\n",
      "Requirement already satisfied: ptyprocess>=0.5 in /usr/local/lib/python3.9/site-packages (from pexpect>4.3->ipython->caveclient) (0.7.0)\n",
      "Requirement already satisfied: wcwidth in /usr/local/lib/python3.9/site-packages (from prompt-toolkit!=3.0.37,<3.1.0,>=3.0.30->ipython->caveclient) (0.2.6)\n",
      "Requirement already satisfied: six>=1.5 in /usr/local/lib/python3.9/site-packages (from python-dateutil>=2.8.2->pandas->caveclient) (1.16.0)\n",
      "Requirement already satisfied: asttokens>=2.1.0 in /usr/local/lib/python3.9/site-packages (from stack-data->ipython->caveclient) (2.2.1)\n",
      "Requirement already satisfied: pure-eval in /usr/local/lib/python3.9/site-packages (from stack-data->ipython->caveclient) (0.2.2)\n",
      "Requirement already satisfied: executing>=1.2.0 in /usr/local/lib/python3.9/site-packages (from stack-data->ipython->caveclient) (1.2.0)\n",
      "Building wheels for collected packages: caveclient\n",
      "  Building wheel for caveclient (setup.py) ... \u001b[?25ldone\n",
      "\u001b[?25h  Created wheel for caveclient: filename=caveclient-5.18.0-py3-none-any.whl size=81660 sha256=3aa744568b7b4a512aa26d4ab6a135d30c60e6fd748e23a58996f670c495dabf\n",
      "  Stored in directory: /home/vscode/.cache/pip/wheels/b1/da/12/7630dcf441a30bc0f85738349304782e2007fb596e4313ea93\n",
      "Successfully built caveclient\n",
      "Installing collected packages: caveclient\n",
      "\u001b[31mERROR: pip's dependency resolver does not currently take into account all the packages that are installed. This behaviour is the source of the following dependency conflicts.\n",
      "microns-phase3 0.8.0 requires caveclient==5.7.0, but you have caveclient 5.18.0 which is incompatible.\u001b[0m\u001b[31m\n",
      "\u001b[0mSuccessfully installed caveclient-5.18.0\n",
      "\n",
      "\u001b[1m[\u001b[0m\u001b[34;49mnotice\u001b[0m\u001b[1;39;49m]\u001b[0m\u001b[39;49m A new release of pip is available: \u001b[0m\u001b[31;49m23.0.1\u001b[0m\u001b[39;49m -> \u001b[0m\u001b[32;49m24.0\u001b[0m\n",
      "\u001b[1m[\u001b[0m\u001b[34;49mnotice\u001b[0m\u001b[1;39;49m]\u001b[0m\u001b[39;49m To update, run: \u001b[0m\u001b[32;49mpip install --upgrade pip\u001b[0m\n",
      "Defaulting to user installation because normal site-packages is not writeable\n",
      "Requirement already satisfied: tqdm in /usr/local/lib/python3.9/site-packages (4.65.0)\n",
      "\n",
      "\u001b[1m[\u001b[0m\u001b[34;49mnotice\u001b[0m\u001b[1;39;49m]\u001b[0m\u001b[39;49m A new release of pip is available: \u001b[0m\u001b[31;49m23.0.1\u001b[0m\u001b[39;49m -> \u001b[0m\u001b[32;49m24.0\u001b[0m\n",
      "\u001b[1m[\u001b[0m\u001b[34;49mnotice\u001b[0m\u001b[1;39;49m]\u001b[0m\u001b[39;49m To update, run: \u001b[0m\u001b[32;49mpip install --upgrade pip\u001b[0m\n"
     ]
    }
   ],
   "source": [
    "! pip install standard-transform\n",
    "! pip install --upgrade caveclient\n",
    "! pip install tqdm"
   ]
  },
  {
   "cell_type": "code",
   "execution_count": 1,
   "metadata": {},
   "outputs": [
    {
     "name": "stdout",
     "output_type": "stream",
     "text": [
      "Connecting microns@db.datajoint.com:3306\n"
     ]
    },
    {
     "name": "stderr",
     "output_type": "stream",
     "text": [
      "Could not create the ~log table\n",
      "Could not access table `microns_phase3_nda`.`~log`\n"
     ]
    }
   ],
   "source": [
    "import numpy as np\n",
    "import pandas as pd\n",
    "from caveclient import CAVEclient\n",
    "from microns_phase3 import nda\n",
    "from standard_transform import minnie_transform_vx\n",
    "from tqdm.notebook import tqdm_notebook"
   ]
  },
  {
   "cell_type": "markdown",
   "metadata": {},
   "source": [
    "## Preparation"
   ]
  },
  {
   "cell_type": "markdown",
   "metadata": {},
   "source": [
    "Function that transforms the voxel coorindate into a depth coordinate (function given to us by the authors of the Microns Project)"
   ]
  },
  {
   "cell_type": "code",
   "execution_count": 3,
   "metadata": {},
   "outputs": [],
   "source": [
    "tform_vx = minnie_transform_vx()"
   ]
  },
  {
   "cell_type": "markdown",
   "metadata": {},
   "source": [
    "### Querying the data from CAVEclient"
   ]
  },
  {
   "cell_type": "code",
   "execution_count": 4,
   "metadata": {},
   "outputs": [],
   "source": [
    "client = CAVEclient()"
   ]
  },
  {
   "cell_type": "code",
   "execution_count": 5,
   "metadata": {},
   "outputs": [],
   "source": [
    "client.auth.save_token(\"64ea0271652fd86dc7fb6376cd9d52b9\")"
   ]
  },
  {
   "cell_type": "markdown",
   "metadata": {},
   "source": [
    "We will be using the latest public release of the dataset, i.e. version 661"
   ]
  },
  {
   "cell_type": "code",
   "execution_count": 2,
   "metadata": {},
   "outputs": [],
   "source": [
    "client = CAVEclient('minnie65_public')"
   ]
  },
  {
   "cell_type": "code",
   "execution_count": 3,
   "metadata": {},
   "outputs": [],
   "source": [
    "client.materialize.version = 661"
   ]
  },
  {
   "cell_type": "code",
   "execution_count": 8,
   "metadata": {},
   "outputs": [
    {
     "data": {
      "text/plain": [
       "['synapses_pni_2',\n",
       " 'baylor_gnn_cell_type_fine_model_v2',\n",
       " 'nucleus_alternative_points',\n",
       " 'connectivity_groups_v507',\n",
       " 'proofreading_status_public_release',\n",
       " 'allen_column_mtypes_v1',\n",
       " 'allen_v1_column_types_slanted_ref',\n",
       " 'aibs_column_nonneuronal_ref',\n",
       " 'nucleus_ref_neuron_svm',\n",
       " 'aibs_soma_nuc_exc_mtype_preds_v117',\n",
       " 'baylor_log_reg_cell_type_coarse_v1',\n",
       " 'apl_functional_coreg_forward_v5',\n",
       " 'nucleus_detection_v0',\n",
       " 'aibs_soma_nuc_metamodel_preds_v117',\n",
       " 'coregistration_manual_v3']"
      ]
     },
     "execution_count": 8,
     "metadata": {},
     "output_type": "execute_result"
    }
   ],
   "source": [
    "client.materialize.get_tables()"
   ]
  },
  {
   "cell_type": "code",
   "execution_count": 9,
   "metadata": {},
   "outputs": [],
   "source": [
    "tables = client.materialize.get_tables()"
   ]
  },
  {
   "cell_type": "code",
   "execution_count": 9,
   "metadata": {},
   "outputs": [
    {
     "name": "stderr",
     "output_type": "stream",
     "text": [
      "Table Owner Notice on nucleus_ref_neuron_svm: Please cite https://doi.org/10.1101/2022.07.20.499976 when using this table.\n"
     ]
    }
   ],
   "source": [
    "tables_dfs = []\n",
    "for i in range(1, len(tables)):\n",
    "    tables_dfs.append(client.materialize.query_table(tables[i]))"
   ]
  },
  {
   "cell_type": "code",
   "execution_count": 10,
   "metadata": {},
   "outputs": [],
   "source": [
    "df = pd.concat(tables_dfs)\n",
    "df.drop_duplicates(subset='pt_root_id', inplace=True)\n",
    "# df.set_index('pt_root_id', inplace=True)"
   ]
  },
  {
   "cell_type": "code",
   "execution_count": 11,
   "metadata": {},
   "outputs": [
    {
     "data": {
      "text/html": [
       "<div>\n",
       "<style scoped>\n",
       "    .dataframe tbody tr th:only-of-type {\n",
       "        vertical-align: middle;\n",
       "    }\n",
       "\n",
       "    .dataframe tbody tr th {\n",
       "        vertical-align: top;\n",
       "    }\n",
       "\n",
       "    .dataframe thead th {\n",
       "        text-align: right;\n",
       "    }\n",
       "</style>\n",
       "<table border=\"1\" class=\"dataframe\">\n",
       "  <thead>\n",
       "    <tr style=\"text-align: right;\">\n",
       "      <th></th>\n",
       "      <th>id_ref</th>\n",
       "      <th>created_ref</th>\n",
       "      <th>valid_ref</th>\n",
       "      <th>volume</th>\n",
       "      <th>pt_supervoxel_id</th>\n",
       "      <th>pt_root_id</th>\n",
       "      <th>id</th>\n",
       "      <th>created</th>\n",
       "      <th>valid</th>\n",
       "      <th>target_id</th>\n",
       "      <th>...</th>\n",
       "      <th>superceded_id</th>\n",
       "      <th>valid_id</th>\n",
       "      <th>status_dendrite</th>\n",
       "      <th>status_axon</th>\n",
       "      <th>session</th>\n",
       "      <th>scan_idx</th>\n",
       "      <th>unit_id</th>\n",
       "      <th>field</th>\n",
       "      <th>residual</th>\n",
       "      <th>score</th>\n",
       "    </tr>\n",
       "  </thead>\n",
       "  <tbody>\n",
       "    <tr>\n",
       "      <th>0</th>\n",
       "      <td>18023.0</td>\n",
       "      <td>2020-09-28 22:43:00.306675+00:00</td>\n",
       "      <td>t</td>\n",
       "      <td>264.791327</td>\n",
       "      <td>75934266147628505</td>\n",
       "      <td>864691135207734905</td>\n",
       "      <td>4490</td>\n",
       "      <td>2022-12-16 22:26:46.784878+00:00</td>\n",
       "      <td>t</td>\n",
       "      <td>18023.0</td>\n",
       "      <td>...</td>\n",
       "      <td>NaN</td>\n",
       "      <td>NaN</td>\n",
       "      <td>NaN</td>\n",
       "      <td>NaN</td>\n",
       "      <td>NaN</td>\n",
       "      <td>NaN</td>\n",
       "      <td>NaN</td>\n",
       "      <td>NaN</td>\n",
       "      <td>NaN</td>\n",
       "      <td>NaN</td>\n",
       "    </tr>\n",
       "    <tr>\n",
       "      <th>1</th>\n",
       "      <td>18312.0</td>\n",
       "      <td>2020-09-28 22:44:09.407821+00:00</td>\n",
       "      <td>t</td>\n",
       "      <td>221.584753</td>\n",
       "      <td>75441272688753483</td>\n",
       "      <td>864691135758479438</td>\n",
       "      <td>28785</td>\n",
       "      <td>2022-12-16 22:28:23.869072+00:00</td>\n",
       "      <td>t</td>\n",
       "      <td>18312.0</td>\n",
       "      <td>...</td>\n",
       "      <td>NaN</td>\n",
       "      <td>NaN</td>\n",
       "      <td>NaN</td>\n",
       "      <td>NaN</td>\n",
       "      <td>NaN</td>\n",
       "      <td>NaN</td>\n",
       "      <td>NaN</td>\n",
       "      <td>NaN</td>\n",
       "      <td>NaN</td>\n",
       "      <td>NaN</td>\n",
       "    </tr>\n",
       "    <tr>\n",
       "      <th>2</th>\n",
       "      <td>255686.0</td>\n",
       "      <td>2020-09-28 22:40:42.632533+00:00</td>\n",
       "      <td>t</td>\n",
       "      <td>297.846047</td>\n",
       "      <td>88954888800920543</td>\n",
       "      <td>864691135568539372</td>\n",
       "      <td>2439</td>\n",
       "      <td>2022-12-16 22:26:45.373463+00:00</td>\n",
       "      <td>t</td>\n",
       "      <td>255686.0</td>\n",
       "      <td>...</td>\n",
       "      <td>NaN</td>\n",
       "      <td>NaN</td>\n",
       "      <td>NaN</td>\n",
       "      <td>NaN</td>\n",
       "      <td>NaN</td>\n",
       "      <td>NaN</td>\n",
       "      <td>NaN</td>\n",
       "      <td>NaN</td>\n",
       "      <td>NaN</td>\n",
       "      <td>NaN</td>\n",
       "    </tr>\n",
       "    <tr>\n",
       "      <th>3</th>\n",
       "      <td>204945.0</td>\n",
       "      <td>2020-09-28 22:44:25.115874+00:00</td>\n",
       "      <td>t</td>\n",
       "      <td>250.471875</td>\n",
       "      <td>84466820245155764</td>\n",
       "      <td>864691135208560505</td>\n",
       "      <td>31608</td>\n",
       "      <td>2022-12-16 22:28:25.882301+00:00</td>\n",
       "      <td>t</td>\n",
       "      <td>204945.0</td>\n",
       "      <td>...</td>\n",
       "      <td>NaN</td>\n",
       "      <td>NaN</td>\n",
       "      <td>NaN</td>\n",
       "      <td>NaN</td>\n",
       "      <td>NaN</td>\n",
       "      <td>NaN</td>\n",
       "      <td>NaN</td>\n",
       "      <td>NaN</td>\n",
       "      <td>NaN</td>\n",
       "      <td>NaN</td>\n",
       "    </tr>\n",
       "    <tr>\n",
       "      <th>4</th>\n",
       "      <td>20997.0</td>\n",
       "      <td>2020-09-28 22:44:49.318428+00:00</td>\n",
       "      <td>t</td>\n",
       "      <td>285.783163</td>\n",
       "      <td>75161652802404739</td>\n",
       "      <td>864691136085125484</td>\n",
       "      <td>31231</td>\n",
       "      <td>2022-12-16 22:28:25.616224+00:00</td>\n",
       "      <td>t</td>\n",
       "      <td>20997.0</td>\n",
       "      <td>...</td>\n",
       "      <td>NaN</td>\n",
       "      <td>NaN</td>\n",
       "      <td>NaN</td>\n",
       "      <td>NaN</td>\n",
       "      <td>NaN</td>\n",
       "      <td>NaN</td>\n",
       "      <td>NaN</td>\n",
       "      <td>NaN</td>\n",
       "      <td>NaN</td>\n",
       "      <td>NaN</td>\n",
       "    </tr>\n",
       "  </tbody>\n",
       "</table>\n",
       "<p>5 rows × 28 columns</p>\n",
       "</div>"
      ],
      "text/plain": [
       "     id_ref                      created_ref valid_ref      volume  \\\n",
       "0   18023.0 2020-09-28 22:43:00.306675+00:00         t  264.791327   \n",
       "1   18312.0 2020-09-28 22:44:09.407821+00:00         t  221.584753   \n",
       "2  255686.0 2020-09-28 22:40:42.632533+00:00         t  297.846047   \n",
       "3  204945.0 2020-09-28 22:44:25.115874+00:00         t  250.471875   \n",
       "4   20997.0 2020-09-28 22:44:49.318428+00:00         t  285.783163   \n",
       "\n",
       "    pt_supervoxel_id          pt_root_id     id  \\\n",
       "0  75934266147628505  864691135207734905   4490   \n",
       "1  75441272688753483  864691135758479438  28785   \n",
       "2  88954888800920543  864691135568539372   2439   \n",
       "3  84466820245155764  864691135208560505  31608   \n",
       "4  75161652802404739  864691136085125484  31231   \n",
       "\n",
       "                           created valid  target_id  ... superceded_id  \\\n",
       "0 2022-12-16 22:26:46.784878+00:00     t    18023.0  ...           NaN   \n",
       "1 2022-12-16 22:28:23.869072+00:00     t    18312.0  ...           NaN   \n",
       "2 2022-12-16 22:26:45.373463+00:00     t   255686.0  ...           NaN   \n",
       "3 2022-12-16 22:28:25.882301+00:00     t   204945.0  ...           NaN   \n",
       "4 2022-12-16 22:28:25.616224+00:00     t    20997.0  ...           NaN   \n",
       "\n",
       "  valid_id status_dendrite status_axon session  scan_idx  unit_id field  \\\n",
       "0      NaN             NaN         NaN     NaN       NaN      NaN   NaN   \n",
       "1      NaN             NaN         NaN     NaN       NaN      NaN   NaN   \n",
       "2      NaN             NaN         NaN     NaN       NaN      NaN   NaN   \n",
       "3      NaN             NaN         NaN     NaN       NaN      NaN   NaN   \n",
       "4      NaN             NaN         NaN     NaN       NaN      NaN   NaN   \n",
       "\n",
       "   residual  score  \n",
       "0       NaN    NaN  \n",
       "1       NaN    NaN  \n",
       "2       NaN    NaN  \n",
       "3       NaN    NaN  \n",
       "4       NaN    NaN  \n",
       "\n",
       "[5 rows x 28 columns]"
      ]
     },
     "execution_count": 11,
     "metadata": {},
     "output_type": "execute_result"
    }
   ],
   "source": [
    "df.head()"
   ]
  },
  {
   "cell_type": "code",
   "execution_count": 12,
   "metadata": {},
   "outputs": [],
   "source": [
    "root_idxs = list(df.index)"
   ]
  },
  {
   "cell_type": "markdown",
   "metadata": {},
   "source": [
    "These are all the available tables, but we are interested in the *coregistration_manual_v3*, that is the one containing the information about the manually proofread neurons and in the *synapses_pni_2*, which contains all the traced synapses."
   ]
  },
  {
   "cell_type": "code",
   "execution_count": 4,
   "metadata": {},
   "outputs": [],
   "source": [
    "df = client.materialize.query_table('coregistration_manual_v3')"
   ]
  },
  {
   "cell_type": "code",
   "execution_count": 11,
   "metadata": {},
   "outputs": [
    {
     "data": {
      "text/html": [
       "<div>\n",
       "<style scoped>\n",
       "    .dataframe tbody tr th:only-of-type {\n",
       "        vertical-align: middle;\n",
       "    }\n",
       "\n",
       "    .dataframe tbody tr th {\n",
       "        vertical-align: top;\n",
       "    }\n",
       "\n",
       "    .dataframe thead th {\n",
       "        text-align: right;\n",
       "    }\n",
       "</style>\n",
       "<table border=\"1\" class=\"dataframe\">\n",
       "  <thead>\n",
       "    <tr style=\"text-align: right;\">\n",
       "      <th></th>\n",
       "      <th>id_ref</th>\n",
       "      <th>created_ref</th>\n",
       "      <th>valid_ref</th>\n",
       "      <th>volume</th>\n",
       "      <th>pt_supervoxel_id</th>\n",
       "      <th>pt_root_id</th>\n",
       "      <th>id</th>\n",
       "      <th>created</th>\n",
       "      <th>valid</th>\n",
       "      <th>target_id</th>\n",
       "      <th>session</th>\n",
       "      <th>scan_idx</th>\n",
       "      <th>unit_id</th>\n",
       "      <th>field</th>\n",
       "      <th>residual</th>\n",
       "      <th>score</th>\n",
       "      <th>pt_position</th>\n",
       "      <th>bb_start_position</th>\n",
       "      <th>bb_end_position</th>\n",
       "    </tr>\n",
       "  </thead>\n",
       "  <tbody>\n",
       "    <tr>\n",
       "      <th>8013</th>\n",
       "      <td>425900</td>\n",
       "      <td>2020-09-28 22:45:17.471883+00:00</td>\n",
       "      <td>t</td>\n",
       "      <td>359.609139</td>\n",
       "      <td>99936193001094277</td>\n",
       "      <td>864691135697891349</td>\n",
       "      <td>575</td>\n",
       "      <td>2023-04-05 22:38:09.698548+00:00</td>\n",
       "      <td>t</td>\n",
       "      <td>425900</td>\n",
       "      <td>9</td>\n",
       "      <td>3</td>\n",
       "      <td>5464</td>\n",
       "      <td>4</td>\n",
       "      <td>0.523058</td>\n",
       "      <td>12.0251</td>\n",
       "      <td>[255568, 154512, 19935]</td>\n",
       "      <td>[nan, nan, nan]</td>\n",
       "      <td>[nan, nan, nan]</td>\n",
       "    </tr>\n",
       "  </tbody>\n",
       "</table>\n",
       "</div>"
      ],
      "text/plain": [
       "      id_ref                      created_ref valid_ref      volume  \\\n",
       "8013  425900 2020-09-28 22:45:17.471883+00:00         t  359.609139   \n",
       "\n",
       "       pt_supervoxel_id          pt_root_id   id  \\\n",
       "8013  99936193001094277  864691135697891349  575   \n",
       "\n",
       "                              created valid  target_id  session  scan_idx  \\\n",
       "8013 2023-04-05 22:38:09.698548+00:00     t     425900        9         3   \n",
       "\n",
       "      unit_id  field  residual    score              pt_position  \\\n",
       "8013     5464      4  0.523058  12.0251  [255568, 154512, 19935]   \n",
       "\n",
       "     bb_start_position  bb_end_position  \n",
       "8013   [nan, nan, nan]  [nan, nan, nan]  "
      ]
     },
     "execution_count": 11,
     "metadata": {},
     "output_type": "execute_result"
    }
   ],
   "source": [
    "df.sample(1)"
   ]
  },
  {
   "cell_type": "markdown",
   "metadata": {},
   "source": [
    "We start by setting as the index he ID associated to the root of the synapse"
   ]
  },
  {
   "cell_type": "code",
   "execution_count": 11,
   "metadata": {},
   "outputs": [],
   "source": [
    "df = df.set_index('pt_root_id')"
   ]
  },
  {
   "cell_type": "code",
   "execution_count": 6,
   "metadata": {},
   "outputs": [
    {
     "data": {
      "text/html": [
       "<div>\n",
       "<style scoped>\n",
       "    .dataframe tbody tr th:only-of-type {\n",
       "        vertical-align: middle;\n",
       "    }\n",
       "\n",
       "    .dataframe tbody tr th {\n",
       "        vertical-align: top;\n",
       "    }\n",
       "\n",
       "    .dataframe thead th {\n",
       "        text-align: right;\n",
       "    }\n",
       "</style>\n",
       "<table border=\"1\" class=\"dataframe\">\n",
       "  <thead>\n",
       "    <tr style=\"text-align: right;\">\n",
       "      <th></th>\n",
       "      <th>id_ref</th>\n",
       "      <th>created_ref</th>\n",
       "      <th>valid_ref</th>\n",
       "      <th>volume</th>\n",
       "      <th>pt_supervoxel_id</th>\n",
       "      <th>pt_root_id</th>\n",
       "      <th>id</th>\n",
       "      <th>created</th>\n",
       "      <th>valid</th>\n",
       "      <th>target_id</th>\n",
       "      <th>session</th>\n",
       "      <th>scan_idx</th>\n",
       "      <th>unit_id</th>\n",
       "      <th>field</th>\n",
       "      <th>residual</th>\n",
       "      <th>score</th>\n",
       "      <th>pt_position</th>\n",
       "      <th>bb_start_position</th>\n",
       "      <th>bb_end_position</th>\n",
       "    </tr>\n",
       "  </thead>\n",
       "  <tbody>\n",
       "    <tr>\n",
       "      <th>0</th>\n",
       "      <td>582276</td>\n",
       "      <td>2020-09-28 22:41:42.536121+00:00</td>\n",
       "      <td>t</td>\n",
       "      <td>274.291589</td>\n",
       "      <td>111332012547320963</td>\n",
       "      <td>864691135738685297</td>\n",
       "      <td>13434</td>\n",
       "      <td>2023-04-05 22:39:53.474202+00:00</td>\n",
       "      <td>t</td>\n",
       "      <td>582276</td>\n",
       "      <td>7</td>\n",
       "      <td>5</td>\n",
       "      <td>4909</td>\n",
       "      <td>4</td>\n",
       "      <td>6.10722</td>\n",
       "      <td>9.568690</td>\n",
       "      <td>[338720, 125232, 19589]</td>\n",
       "      <td>[nan, nan, nan]</td>\n",
       "      <td>[nan, nan, nan]</td>\n",
       "    </tr>\n",
       "    <tr>\n",
       "      <th>1</th>\n",
       "      <td>194144</td>\n",
       "      <td>2020-09-28 22:42:01.511773+00:00</td>\n",
       "      <td>t</td>\n",
       "      <td>213.307228</td>\n",
       "      <td>83542405709639148</td>\n",
       "      <td>864691135614842827</td>\n",
       "      <td>3045</td>\n",
       "      <td>2023-04-05 22:39:03.110911+00:00</td>\n",
       "      <td>t</td>\n",
       "      <td>194144</td>\n",
       "      <td>7</td>\n",
       "      <td>4</td>\n",
       "      <td>9575</td>\n",
       "      <td>6</td>\n",
       "      <td>8.55708</td>\n",
       "      <td>-0.714900</td>\n",
       "      <td>[136400, 170640, 17951]</td>\n",
       "      <td>[nan, nan, nan]</td>\n",
       "      <td>[nan, nan, nan]</td>\n",
       "    </tr>\n",
       "    <tr>\n",
       "      <th>2</th>\n",
       "      <td>293318</td>\n",
       "      <td>2020-09-28 22:45:23.572432+00:00</td>\n",
       "      <td>t</td>\n",
       "      <td>430.108180</td>\n",
       "      <td>90783515419343652</td>\n",
       "      <td>864691135502985397</td>\n",
       "      <td>1474</td>\n",
       "      <td>2023-04-05 22:36:19.477499+00:00</td>\n",
       "      <td>t</td>\n",
       "      <td>293318</td>\n",
       "      <td>9</td>\n",
       "      <td>4</td>\n",
       "      <td>8066</td>\n",
       "      <td>6</td>\n",
       "      <td>5.63758</td>\n",
       "      <td>8.915025</td>\n",
       "      <td>[189472, 119296, 26037]</td>\n",
       "      <td>[nan, nan, nan]</td>\n",
       "      <td>[nan, nan, nan]</td>\n",
       "    </tr>\n",
       "    <tr>\n",
       "      <th>3</th>\n",
       "      <td>332833</td>\n",
       "      <td>2020-09-28 22:44:41.864456+00:00</td>\n",
       "      <td>t</td>\n",
       "      <td>274.418729</td>\n",
       "      <td>93535317407139914</td>\n",
       "      <td>864691135387371905</td>\n",
       "      <td>7915</td>\n",
       "      <td>2023-04-05 22:39:15.451639+00:00</td>\n",
       "      <td>t</td>\n",
       "      <td>332833</td>\n",
       "      <td>6</td>\n",
       "      <td>7</td>\n",
       "      <td>6413</td>\n",
       "      <td>6</td>\n",
       "      <td>5.27806</td>\n",
       "      <td>7.808064</td>\n",
       "      <td>[209328, 174304, 20004]</td>\n",
       "      <td>[nan, nan, nan]</td>\n",
       "      <td>[nan, nan, nan]</td>\n",
       "    </tr>\n",
       "    <tr>\n",
       "      <th>4</th>\n",
       "      <td>295460</td>\n",
       "      <td>2020-09-28 22:41:24.368712+00:00</td>\n",
       "      <td>t</td>\n",
       "      <td>208.616653</td>\n",
       "      <td>90225718084406516</td>\n",
       "      <td>864691135661410544</td>\n",
       "      <td>11589</td>\n",
       "      <td>2023-04-05 22:39:47.420305+00:00</td>\n",
       "      <td>t</td>\n",
       "      <td>295460</td>\n",
       "      <td>9</td>\n",
       "      <td>3</td>\n",
       "      <td>7748</td>\n",
       "      <td>6</td>\n",
       "      <td>5.20837</td>\n",
       "      <td>2.999543</td>\n",
       "      <td>[185088, 157776, 15691]</td>\n",
       "      <td>[nan, nan, nan]</td>\n",
       "      <td>[nan, nan, nan]</td>\n",
       "    </tr>\n",
       "  </tbody>\n",
       "</table>\n",
       "</div>"
      ],
      "text/plain": [
       "   id_ref                      created_ref valid_ref      volume  \\\n",
       "0  582276 2020-09-28 22:41:42.536121+00:00         t  274.291589   \n",
       "1  194144 2020-09-28 22:42:01.511773+00:00         t  213.307228   \n",
       "2  293318 2020-09-28 22:45:23.572432+00:00         t  430.108180   \n",
       "3  332833 2020-09-28 22:44:41.864456+00:00         t  274.418729   \n",
       "4  295460 2020-09-28 22:41:24.368712+00:00         t  208.616653   \n",
       "\n",
       "     pt_supervoxel_id          pt_root_id     id  \\\n",
       "0  111332012547320963  864691135738685297  13434   \n",
       "1   83542405709639148  864691135614842827   3045   \n",
       "2   90783515419343652  864691135502985397   1474   \n",
       "3   93535317407139914  864691135387371905   7915   \n",
       "4   90225718084406516  864691135661410544  11589   \n",
       "\n",
       "                           created valid  target_id  session  scan_idx  \\\n",
       "0 2023-04-05 22:39:53.474202+00:00     t     582276        7         5   \n",
       "1 2023-04-05 22:39:03.110911+00:00     t     194144        7         4   \n",
       "2 2023-04-05 22:36:19.477499+00:00     t     293318        9         4   \n",
       "3 2023-04-05 22:39:15.451639+00:00     t     332833        6         7   \n",
       "4 2023-04-05 22:39:47.420305+00:00     t     295460        9         3   \n",
       "\n",
       "   unit_id  field  residual     score              pt_position  \\\n",
       "0     4909      4   6.10722  9.568690  [338720, 125232, 19589]   \n",
       "1     9575      6   8.55708 -0.714900  [136400, 170640, 17951]   \n",
       "2     8066      6   5.63758  8.915025  [189472, 119296, 26037]   \n",
       "3     6413      6   5.27806  7.808064  [209328, 174304, 20004]   \n",
       "4     7748      6   5.20837  2.999543  [185088, 157776, 15691]   \n",
       "\n",
       "  bb_start_position  bb_end_position  \n",
       "0   [nan, nan, nan]  [nan, nan, nan]  \n",
       "1   [nan, nan, nan]  [nan, nan, nan]  \n",
       "2   [nan, nan, nan]  [nan, nan, nan]  \n",
       "3   [nan, nan, nan]  [nan, nan, nan]  \n",
       "4   [nan, nan, nan]  [nan, nan, nan]  "
      ]
     },
     "execution_count": 6,
     "metadata": {},
     "output_type": "execute_result"
    }
   ],
   "source": [
    "df.head()"
   ]
  },
  {
   "cell_type": "code",
   "execution_count": 5,
   "metadata": {},
   "outputs": [
    {
     "data": {
      "text/plain": [
       "(13925, 19)"
      ]
     },
     "execution_count": 5,
     "metadata": {},
     "output_type": "execute_result"
    }
   ],
   "source": [
    "df.shape"
   ]
  },
  {
   "cell_type": "code",
   "execution_count": 12,
   "metadata": {},
   "outputs": [],
   "source": [
    "unit_keys = df[['session', 'scan_idx', 'unit_id']].to_dict(orient='records')"
   ]
  },
  {
   "cell_type": "code",
   "execution_count": 7,
   "metadata": {},
   "outputs": [],
   "source": [
    "unit_keys_1 = df.iloc[:5000, :][['session', 'scan_idx', 'unit_id']].to_dict(orient='records')\n",
    "unit_keys_2 = df.iloc[5000:10000, :][['session', 'scan_idx', 'unit_id']].to_dict(orient='records')\n",
    "unit_keys_3 = df.iloc[10000:13925, :][['session', 'scan_idx', 'unit_id']].to_dict(orient='records')"
   ]
  },
  {
   "cell_type": "code",
   "execution_count": 8,
   "metadata": {},
   "outputs": [
    {
     "name": "stdout",
     "output_type": "stream",
     "text": [
      "1/3 Completed!\n",
      "2/3 Completed!\n",
      "3/3 Completed!\n"
     ]
    }
   ],
   "source": [
    "temp_1 = (nda.AreaMembership & unit_keys_1).fetch('brain_area')\n",
    "print('1/3 Completed!')\n",
    "temp_2 = (nda.AreaMembership & unit_keys_2).fetch('brain_area')\n",
    "print('2/3 Completed!')\n",
    "temp_3 = (nda.AreaMembership & unit_keys_3).fetch('brain_area')\n",
    "print('3/3 Completed!')\n",
    "area_membership = np.concatenate((temp_1, temp_2, temp_3), axis=0)\n",
    "assert len(area_membership) == df.shape[0]"
   ]
  },
  {
   "cell_type": "code",
   "execution_count": 9,
   "metadata": {},
   "outputs": [
    {
     "data": {
      "text/html": [
       "<div>\n",
       "<style scoped>\n",
       "    .dataframe tbody tr th:only-of-type {\n",
       "        vertical-align: middle;\n",
       "    }\n",
       "\n",
       "    .dataframe tbody tr th {\n",
       "        vertical-align: top;\n",
       "    }\n",
       "\n",
       "    .dataframe thead th {\n",
       "        text-align: right;\n",
       "    }\n",
       "</style>\n",
       "<table border=\"1\" class=\"dataframe\">\n",
       "  <thead>\n",
       "    <tr style=\"text-align: right;\">\n",
       "      <th></th>\n",
       "      <th>id_ref</th>\n",
       "      <th>created_ref</th>\n",
       "      <th>valid_ref</th>\n",
       "      <th>volume</th>\n",
       "      <th>pt_supervoxel_id</th>\n",
       "      <th>pt_root_id</th>\n",
       "      <th>id</th>\n",
       "      <th>created</th>\n",
       "      <th>valid</th>\n",
       "      <th>target_id</th>\n",
       "      <th>session</th>\n",
       "      <th>scan_idx</th>\n",
       "      <th>unit_id</th>\n",
       "      <th>field</th>\n",
       "      <th>residual</th>\n",
       "      <th>score</th>\n",
       "      <th>pt_position</th>\n",
       "      <th>bb_start_position</th>\n",
       "      <th>bb_end_position</th>\n",
       "      <th>Area Membership</th>\n",
       "    </tr>\n",
       "  </thead>\n",
       "  <tbody>\n",
       "    <tr>\n",
       "      <th>0</th>\n",
       "      <td>582276</td>\n",
       "      <td>2020-09-28 22:41:42.536121+00:00</td>\n",
       "      <td>t</td>\n",
       "      <td>274.291589</td>\n",
       "      <td>111332012547320963</td>\n",
       "      <td>864691135738685297</td>\n",
       "      <td>13434</td>\n",
       "      <td>2023-04-05 22:39:53.474202+00:00</td>\n",
       "      <td>t</td>\n",
       "      <td>582276</td>\n",
       "      <td>7</td>\n",
       "      <td>5</td>\n",
       "      <td>4909</td>\n",
       "      <td>4</td>\n",
       "      <td>6.10722</td>\n",
       "      <td>9.568690</td>\n",
       "      <td>[338720, 125232, 19589]</td>\n",
       "      <td>[nan, nan, nan]</td>\n",
       "      <td>[nan, nan, nan]</td>\n",
       "      <td>V1</td>\n",
       "    </tr>\n",
       "    <tr>\n",
       "      <th>1</th>\n",
       "      <td>194144</td>\n",
       "      <td>2020-09-28 22:42:01.511773+00:00</td>\n",
       "      <td>t</td>\n",
       "      <td>213.307228</td>\n",
       "      <td>83542405709639148</td>\n",
       "      <td>864691135614842827</td>\n",
       "      <td>3045</td>\n",
       "      <td>2023-04-05 22:39:03.110911+00:00</td>\n",
       "      <td>t</td>\n",
       "      <td>194144</td>\n",
       "      <td>7</td>\n",
       "      <td>4</td>\n",
       "      <td>9575</td>\n",
       "      <td>6</td>\n",
       "      <td>8.55708</td>\n",
       "      <td>-0.714900</td>\n",
       "      <td>[136400, 170640, 17951]</td>\n",
       "      <td>[nan, nan, nan]</td>\n",
       "      <td>[nan, nan, nan]</td>\n",
       "      <td>V1</td>\n",
       "    </tr>\n",
       "    <tr>\n",
       "      <th>2</th>\n",
       "      <td>293318</td>\n",
       "      <td>2020-09-28 22:45:23.572432+00:00</td>\n",
       "      <td>t</td>\n",
       "      <td>430.108180</td>\n",
       "      <td>90783515419343652</td>\n",
       "      <td>864691135502985397</td>\n",
       "      <td>1474</td>\n",
       "      <td>2023-04-05 22:36:19.477499+00:00</td>\n",
       "      <td>t</td>\n",
       "      <td>293318</td>\n",
       "      <td>9</td>\n",
       "      <td>4</td>\n",
       "      <td>8066</td>\n",
       "      <td>6</td>\n",
       "      <td>5.63758</td>\n",
       "      <td>8.915025</td>\n",
       "      <td>[189472, 119296, 26037]</td>\n",
       "      <td>[nan, nan, nan]</td>\n",
       "      <td>[nan, nan, nan]</td>\n",
       "      <td>V1</td>\n",
       "    </tr>\n",
       "    <tr>\n",
       "      <th>3</th>\n",
       "      <td>332833</td>\n",
       "      <td>2020-09-28 22:44:41.864456+00:00</td>\n",
       "      <td>t</td>\n",
       "      <td>274.418729</td>\n",
       "      <td>93535317407139914</td>\n",
       "      <td>864691135387371905</td>\n",
       "      <td>7915</td>\n",
       "      <td>2023-04-05 22:39:15.451639+00:00</td>\n",
       "      <td>t</td>\n",
       "      <td>332833</td>\n",
       "      <td>6</td>\n",
       "      <td>7</td>\n",
       "      <td>6413</td>\n",
       "      <td>6</td>\n",
       "      <td>5.27806</td>\n",
       "      <td>7.808064</td>\n",
       "      <td>[209328, 174304, 20004]</td>\n",
       "      <td>[nan, nan, nan]</td>\n",
       "      <td>[nan, nan, nan]</td>\n",
       "      <td>V1</td>\n",
       "    </tr>\n",
       "    <tr>\n",
       "      <th>4</th>\n",
       "      <td>295460</td>\n",
       "      <td>2020-09-28 22:41:24.368712+00:00</td>\n",
       "      <td>t</td>\n",
       "      <td>208.616653</td>\n",
       "      <td>90225718084406516</td>\n",
       "      <td>864691135661410544</td>\n",
       "      <td>11589</td>\n",
       "      <td>2023-04-05 22:39:47.420305+00:00</td>\n",
       "      <td>t</td>\n",
       "      <td>295460</td>\n",
       "      <td>9</td>\n",
       "      <td>3</td>\n",
       "      <td>7748</td>\n",
       "      <td>6</td>\n",
       "      <td>5.20837</td>\n",
       "      <td>2.999543</td>\n",
       "      <td>[185088, 157776, 15691]</td>\n",
       "      <td>[nan, nan, nan]</td>\n",
       "      <td>[nan, nan, nan]</td>\n",
       "      <td>V1</td>\n",
       "    </tr>\n",
       "  </tbody>\n",
       "</table>\n",
       "</div>"
      ],
      "text/plain": [
       "   id_ref                      created_ref valid_ref      volume  \\\n",
       "0  582276 2020-09-28 22:41:42.536121+00:00         t  274.291589   \n",
       "1  194144 2020-09-28 22:42:01.511773+00:00         t  213.307228   \n",
       "2  293318 2020-09-28 22:45:23.572432+00:00         t  430.108180   \n",
       "3  332833 2020-09-28 22:44:41.864456+00:00         t  274.418729   \n",
       "4  295460 2020-09-28 22:41:24.368712+00:00         t  208.616653   \n",
       "\n",
       "     pt_supervoxel_id          pt_root_id     id  \\\n",
       "0  111332012547320963  864691135738685297  13434   \n",
       "1   83542405709639148  864691135614842827   3045   \n",
       "2   90783515419343652  864691135502985397   1474   \n",
       "3   93535317407139914  864691135387371905   7915   \n",
       "4   90225718084406516  864691135661410544  11589   \n",
       "\n",
       "                           created valid  target_id  session  scan_idx  \\\n",
       "0 2023-04-05 22:39:53.474202+00:00     t     582276        7         5   \n",
       "1 2023-04-05 22:39:03.110911+00:00     t     194144        7         4   \n",
       "2 2023-04-05 22:36:19.477499+00:00     t     293318        9         4   \n",
       "3 2023-04-05 22:39:15.451639+00:00     t     332833        6         7   \n",
       "4 2023-04-05 22:39:47.420305+00:00     t     295460        9         3   \n",
       "\n",
       "   unit_id  field  residual     score              pt_position  \\\n",
       "0     4909      4   6.10722  9.568690  [338720, 125232, 19589]   \n",
       "1     9575      6   8.55708 -0.714900  [136400, 170640, 17951]   \n",
       "2     8066      6   5.63758  8.915025  [189472, 119296, 26037]   \n",
       "3     6413      6   5.27806  7.808064  [209328, 174304, 20004]   \n",
       "4     7748      6   5.20837  2.999543  [185088, 157776, 15691]   \n",
       "\n",
       "  bb_start_position  bb_end_position Area Membership  \n",
       "0   [nan, nan, nan]  [nan, nan, nan]              V1  \n",
       "1   [nan, nan, nan]  [nan, nan, nan]              V1  \n",
       "2   [nan, nan, nan]  [nan, nan, nan]              V1  \n",
       "3   [nan, nan, nan]  [nan, nan, nan]              V1  \n",
       "4   [nan, nan, nan]  [nan, nan, nan]              V1  "
      ]
     },
     "execution_count": 9,
     "metadata": {},
     "output_type": "execute_result"
    }
   ],
   "source": [
    "df['Area Membership'] = area_membership\n",
    "df.head()"
   ]
  },
  {
   "cell_type": "code",
   "execution_count": 12,
   "metadata": {},
   "outputs": [],
   "source": [
    "df[['pt_root_id', 'Area Membership']].to_csv('root_area_membership.csv', index=False)"
   ]
  },
  {
   "cell_type": "code",
   "execution_count": 14,
   "metadata": {},
   "outputs": [
    {
     "data": {
      "text/plain": [
       "13925"
      ]
     },
     "execution_count": 14,
     "metadata": {},
     "output_type": "execute_result"
    }
   ],
   "source": [
    "root_ids = df.index.tolist()\n",
    "len(root_ids)"
   ]
  },
  {
   "cell_type": "code",
   "execution_count": 16,
   "metadata": {},
   "outputs": [],
   "source": [
    "subset_ids = root_ids"
   ]
  },
  {
   "cell_type": "code",
   "execution_count": 19,
   "metadata": {},
   "outputs": [
    {
     "name": "stdout",
     "output_type": "stream",
     "text": [
      "0\n"
     ]
    },
    {
     "name": "stdout",
     "output_type": "stream",
     "text": [
      "500\n",
      "1000\n",
      "1500\n",
      "2000\n",
      "2500\n",
      "3000\n",
      "3500\n"
     ]
    }
   ],
   "source": [
    "input_values = []\n",
    "output_values = []\n",
    "v_area_root = []\n",
    "v_area_post = []\n",
    "\n",
    "for cont, i in enumerate(subset_ids):\n",
    "\n",
    "    if cont % 500 == 0:\n",
    "        print(cont)\n",
    "    \n",
    "    input_df = client.materialize.synapse_query(post_ids=i)\n",
    "    \n",
    "    input_df.rename(columns = {'pre_pt_root_id':'pt_root_id'}, inplace = True) \n",
    "\n",
    "    df_matched = pd.merge(input_df, df, on='pt_root_id', how='inner')\n",
    "    if df_matched.empty:\n",
    "        continue\n",
    "    #This is the correct depth value that is retrieved by a special function created by the MICrONS team    \n",
    "    input_vertices_list = tform_vx.apply(df_matched['pt_position'])\n",
    "    graph_x_stack = np.vstack(input_vertices_list)\n",
    "    graph_x_values = graph_x_stack[:,1]\n",
    "\n",
    "    output_vertices = tform_vx.apply(df.at[i,'pt_position'])\n",
    "    graph_y_value = output_vertices[1]\n",
    "    if type(graph_y_value) != np.float64:\n",
    "        continue\n",
    "    \n",
    "    num_points = len(graph_x_values)\n",
    "    input_values.extend(graph_x_values)\n",
    "    output_values.extend([graph_y_value]*num_points)\n",
    "    v_area_root.extend(df.loc[df_matched['pt_root_id']]['Area Membership'])\n",
    "    v_area_post.extend([df.loc[i]['Area Membership']]*num_points)\n",
    "    \n"
   ]
  },
  {
   "cell_type": "code",
   "execution_count": 24,
   "metadata": {},
   "outputs": [
    {
     "data": {
      "text/html": [
       "<div>\n",
       "<style scoped>\n",
       "    .dataframe tbody tr th:only-of-type {\n",
       "        vertical-align: middle;\n",
       "    }\n",
       "\n",
       "    .dataframe tbody tr th {\n",
       "        vertical-align: top;\n",
       "    }\n",
       "\n",
       "    .dataframe thead th {\n",
       "        text-align: right;\n",
       "    }\n",
       "</style>\n",
       "<table border=\"1\" class=\"dataframe\">\n",
       "  <thead>\n",
       "    <tr style=\"text-align: right;\">\n",
       "      <th></th>\n",
       "      <th>Input Depth</th>\n",
       "      <th>Output Depth</th>\n",
       "      <th>Area Membership Root</th>\n",
       "      <th>Area Membership Post</th>\n",
       "    </tr>\n",
       "  </thead>\n",
       "  <tbody>\n",
       "    <tr>\n",
       "      <th>0</th>\n",
       "      <td>335.410876</td>\n",
       "      <td>349.834836</td>\n",
       "      <td>RL</td>\n",
       "      <td>V1</td>\n",
       "    </tr>\n",
       "    <tr>\n",
       "      <th>1</th>\n",
       "      <td>295.587597</td>\n",
       "      <td>349.834836</td>\n",
       "      <td>V1</td>\n",
       "      <td>V1</td>\n",
       "    </tr>\n",
       "    <tr>\n",
       "      <th>2</th>\n",
       "      <td>309.880951</td>\n",
       "      <td>349.834836</td>\n",
       "      <td>RL</td>\n",
       "      <td>V1</td>\n",
       "    </tr>\n",
       "    <tr>\n",
       "      <th>3</th>\n",
       "      <td>344.816976</td>\n",
       "      <td>349.834836</td>\n",
       "      <td>V1</td>\n",
       "      <td>V1</td>\n",
       "    </tr>\n",
       "    <tr>\n",
       "      <th>4</th>\n",
       "      <td>403.543122</td>\n",
       "      <td>349.834836</td>\n",
       "      <td>RL</td>\n",
       "      <td>V1</td>\n",
       "    </tr>\n",
       "  </tbody>\n",
       "</table>\n",
       "</div>"
      ],
      "text/plain": [
       "   Input Depth  Output Depth Area Membership Root Area Membership Post\n",
       "0   335.410876    349.834836                   RL                   V1\n",
       "1   295.587597    349.834836                   V1                   V1\n",
       "2   309.880951    349.834836                   RL                   V1\n",
       "3   344.816976    349.834836                   V1                   V1\n",
       "4   403.543122    349.834836                   RL                   V1"
      ]
     },
     "execution_count": 24,
     "metadata": {},
     "output_type": "execute_result"
    }
   ],
   "source": [
    "df_export = pd.DataFrame(list(zip(input_values, output_values, v_area_root, v_area_post)), columns=['Input Depth', 'Output Depth', 'Area Membership Root', 'Area Membership Post'])\n",
    "df_export.head()"
   ]
  },
  {
   "cell_type": "code",
   "execution_count": 21,
   "metadata": {},
   "outputs": [],
   "source": [
    "df_export.to_csv('graph_values_3.csv')"
   ]
  },
  {
   "cell_type": "code",
   "execution_count": 22,
   "metadata": {},
   "outputs": [],
   "source": [
    "# df_list = [pd.read_csv(f\"/workspaces/microns_phase3_nda/personal_notebooks/graph_values_{n}.csv\") for n in range(1,17)]\n",
    "# complete_df = pd.concat(df_list, ignore_index=True)\n",
    "# complete_df.drop(['Unnamed: 0'], axis=1, inplace=True)\n",
    "# complete_df.head()"
   ]
  },
  {
   "cell_type": "code",
   "execution_count": 23,
   "metadata": {},
   "outputs": [],
   "source": [
    "# complete_df.to_csv('all_functional_synapses_with_area_membership.csv')"
   ]
  },
  {
   "cell_type": "markdown",
   "metadata": {},
   "source": [
    "## trying to extract all the synapses"
   ]
  },
  {
   "cell_type": "markdown",
   "metadata": {},
   "source": []
  }
 ],
 "metadata": {
  "kernelspec": {
   "display_name": "Python 3",
   "language": "python",
   "name": "python3"
  },
  "language_info": {
   "codemirror_mode": {
    "name": "ipython",
    "version": 3
   },
   "file_extension": ".py",
   "mimetype": "text/x-python",
   "name": "python",
   "nbconvert_exporter": "python",
   "pygments_lexer": "ipython3",
   "version": "3.9.17"
  }
 },
 "nbformat": 4,
 "nbformat_minor": 2
}
