{
 "cells": [
  {
   "cell_type": "markdown",
   "metadata": {},
   "source": [
    "# Fetching Pre and Post synaptic Neuron Location"
   ]
  },
  {
   "cell_type": "markdown",
   "metadata": {},
   "source": [
    "## Libraries"
   ]
  },
  {
   "cell_type": "code",
   "execution_count": 1,
   "metadata": {},
   "outputs": [
    {
     "name": "stdout",
     "output_type": "stream",
     "text": [
      "Defaulting to user installation because normal site-packages is not writeable\n",
      "Collecting standard-transform\n",
      "  Downloading standard-transform-1.4.0.tar.gz (27 kB)\n",
      "  Preparing metadata (setup.py) ... \u001b[?25ldone\n",
      "\u001b[?25hRequirement already satisfied: scipy in /home/vscode/.local/lib/python3.9/site-packages (from standard-transform) (1.10.1)\n",
      "Requirement already satisfied: numpy in /home/vscode/.local/lib/python3.9/site-packages (from standard-transform) (1.24.3)\n",
      "Requirement already satisfied: pandas in /home/vscode/.local/lib/python3.9/site-packages (from standard-transform) (2.0.2)\n",
      "Requirement already satisfied: tzdata>=2022.1 in /usr/local/lib/python3.9/site-packages (from pandas->standard-transform) (2023.3)\n",
      "Requirement already satisfied: python-dateutil>=2.8.2 in /usr/local/lib/python3.9/site-packages (from pandas->standard-transform) (2.8.2)\n",
      "Requirement already satisfied: pytz>=2020.1 in /usr/local/lib/python3.9/site-packages (from pandas->standard-transform) (2023.3)\n",
      "Requirement already satisfied: six>=1.5 in /usr/local/lib/python3.9/site-packages (from python-dateutil>=2.8.2->pandas->standard-transform) (1.16.0)\n",
      "Building wheels for collected packages: standard-transform\n",
      "  Building wheel for standard-transform (setup.py) ... \u001b[?25ldone\n",
      "\u001b[?25h  Created wheel for standard-transform: filename=standard_transform-1.4.0-py3-none-any.whl size=22356 sha256=96149a249ca471cdf2171b10a4c240753c10dfc4f3629e7ed69ec4a70da145c3\n",
      "  Stored in directory: /home/vscode/.cache/pip/wheels/ad/3f/3f/2d6f4450cc3c31eb60e2dc6c4a24648a2e9563b610b26c9b67\n",
      "Successfully built standard-transform\n",
      "Installing collected packages: standard-transform\n",
      "Successfully installed standard-transform-1.4.0\n",
      "\n",
      "\u001b[1m[\u001b[0m\u001b[34;49mnotice\u001b[0m\u001b[1;39;49m]\u001b[0m\u001b[39;49m A new release of pip is available: \u001b[0m\u001b[31;49m23.0.1\u001b[0m\u001b[39;49m -> \u001b[0m\u001b[32;49m23.3.1\u001b[0m\n",
      "\u001b[1m[\u001b[0m\u001b[34;49mnotice\u001b[0m\u001b[1;39;49m]\u001b[0m\u001b[39;49m To update, run: \u001b[0m\u001b[32;49mpip install --upgrade pip\u001b[0m\n",
      "Defaulting to user installation because normal site-packages is not writeable\n",
      "Requirement already satisfied: caveclient in /usr/local/lib/python3.9/site-packages (5.7.0)\n",
      "Collecting caveclient\n",
      "  Downloading caveclient-5.13.1.tar.gz (65 kB)\n",
      "\u001b[2K     \u001b[90m━━━━━━━━━━━━━━━━━━━━━━━━━━━━━━━━━━━━━━━━\u001b[0m \u001b[32m65.3/65.3 kB\u001b[0m \u001b[31m2.8 MB/s\u001b[0m eta \u001b[36m0:00:00\u001b[0m\n",
      "\u001b[?25h  Preparing metadata (setup.py) ... \u001b[?25ldone\n",
      "\u001b[?25hRequirement already satisfied: numpy in /home/vscode/.local/lib/python3.9/site-packages (from caveclient) (1.24.3)\n",
      "Requirement already satisfied: pyarrow<12,>=3 in /usr/local/lib/python3.9/site-packages (from caveclient) (11.0.0)\n",
      "Requirement already satisfied: requests in /usr/local/lib/python3.9/site-packages (from caveclient) (2.31.0)\n",
      "Requirement already satisfied: urllib3 in /usr/local/lib/python3.9/site-packages (from caveclient) (2.0.3)\n",
      "Requirement already satisfied: pandas in /home/vscode/.local/lib/python3.9/site-packages (from caveclient) (2.0.2)\n",
      "Requirement already satisfied: cachetools>=4.2.1 in /usr/local/lib/python3.9/site-packages (from caveclient) (5.3.1)\n",
      "Requirement already satisfied: ipython in /usr/local/lib/python3.9/site-packages (from caveclient) (8.14.0)\n",
      "Requirement already satisfied: networkx in /usr/local/lib/python3.9/site-packages (from caveclient) (3.1)\n",
      "Requirement already satisfied: jsonschema in /usr/local/lib/python3.9/site-packages (from caveclient) (4.18.0)\n",
      "Requirement already satisfied: attrs>=21.3.0 in /usr/local/lib/python3.9/site-packages (from caveclient) (23.1.0)\n",
      "Requirement already satisfied: pickleshare in /usr/local/lib/python3.9/site-packages (from ipython->caveclient) (0.7.5)\n",
      "Requirement already satisfied: backcall in /usr/local/lib/python3.9/site-packages (from ipython->caveclient) (0.2.0)\n",
      "Requirement already satisfied: matplotlib-inline in /usr/local/lib/python3.9/site-packages (from ipython->caveclient) (0.1.6)\n",
      "Requirement already satisfied: pygments>=2.4.0 in /usr/local/lib/python3.9/site-packages (from ipython->caveclient) (2.15.1)\n",
      "Requirement already satisfied: jedi>=0.16 in /usr/local/lib/python3.9/site-packages (from ipython->caveclient) (0.18.2)\n",
      "Requirement already satisfied: stack-data in /usr/local/lib/python3.9/site-packages (from ipython->caveclient) (0.6.2)\n",
      "Requirement already satisfied: prompt-toolkit!=3.0.37,<3.1.0,>=3.0.30 in /usr/local/lib/python3.9/site-packages (from ipython->caveclient) (3.0.39)\n",
      "Requirement already satisfied: traitlets>=5 in /usr/local/lib/python3.9/site-packages (from ipython->caveclient) (5.9.0)\n",
      "Requirement already satisfied: typing-extensions in /usr/local/lib/python3.9/site-packages (from ipython->caveclient) (4.7.1)\n",
      "Requirement already satisfied: pexpect>4.3 in /usr/local/lib/python3.9/site-packages (from ipython->caveclient) (4.8.0)\n",
      "Requirement already satisfied: decorator in /usr/local/lib/python3.9/site-packages (from ipython->caveclient) (5.1.1)\n",
      "Requirement already satisfied: referencing>=0.28.4 in /usr/local/lib/python3.9/site-packages (from jsonschema->caveclient) (0.29.1)\n",
      "Requirement already satisfied: jsonschema-specifications>=2023.03.6 in /usr/local/lib/python3.9/site-packages (from jsonschema->caveclient) (2023.6.1)\n",
      "Requirement already satisfied: rpds-py>=0.7.1 in /usr/local/lib/python3.9/site-packages (from jsonschema->caveclient) (0.8.8)\n",
      "Requirement already satisfied: pytz>=2020.1 in /usr/local/lib/python3.9/site-packages (from pandas->caveclient) (2023.3)\n",
      "Requirement already satisfied: python-dateutil>=2.8.2 in /usr/local/lib/python3.9/site-packages (from pandas->caveclient) (2.8.2)\n",
      "Requirement already satisfied: tzdata>=2022.1 in /usr/local/lib/python3.9/site-packages (from pandas->caveclient) (2023.3)\n",
      "Requirement already satisfied: idna<4,>=2.5 in /usr/local/lib/python3.9/site-packages (from requests->caveclient) (3.4)\n",
      "Requirement already satisfied: charset-normalizer<4,>=2 in /usr/local/lib/python3.9/site-packages (from requests->caveclient) (3.2.0)\n",
      "Requirement already satisfied: certifi>=2017.4.17 in /usr/local/lib/python3.9/site-packages (from requests->caveclient) (2023.5.7)\n",
      "Requirement already satisfied: parso<0.9.0,>=0.8.0 in /usr/local/lib/python3.9/site-packages (from jedi>=0.16->ipython->caveclient) (0.8.3)\n",
      "Requirement already satisfied: ptyprocess>=0.5 in /usr/local/lib/python3.9/site-packages (from pexpect>4.3->ipython->caveclient) (0.7.0)\n",
      "Requirement already satisfied: wcwidth in /usr/local/lib/python3.9/site-packages (from prompt-toolkit!=3.0.37,<3.1.0,>=3.0.30->ipython->caveclient) (0.2.6)\n",
      "Requirement already satisfied: six>=1.5 in /usr/local/lib/python3.9/site-packages (from python-dateutil>=2.8.2->pandas->caveclient) (1.16.0)\n",
      "Requirement already satisfied: pure-eval in /usr/local/lib/python3.9/site-packages (from stack-data->ipython->caveclient) (0.2.2)\n",
      "Requirement already satisfied: asttokens>=2.1.0 in /usr/local/lib/python3.9/site-packages (from stack-data->ipython->caveclient) (2.2.1)\n",
      "Requirement already satisfied: executing>=1.2.0 in /usr/local/lib/python3.9/site-packages (from stack-data->ipython->caveclient) (1.2.0)\n",
      "Building wheels for collected packages: caveclient\n",
      "  Building wheel for caveclient (setup.py) ... \u001b[?25ldone\n",
      "\u001b[?25h  Created wheel for caveclient: filename=caveclient-5.13.1-py3-none-any.whl size=73839 sha256=3ef0332162122e4d51673e281c3c89b071d654f09576d3cf2796f2e4eac39c74\n",
      "  Stored in directory: /home/vscode/.cache/pip/wheels/43/fe/e9/cb5337e8fc6c865378718cbe15ef54569ab6b9fce329f33849\n",
      "Successfully built caveclient\n",
      "Installing collected packages: caveclient\n",
      "\u001b[31mERROR: pip's dependency resolver does not currently take into account all the packages that are installed. This behaviour is the source of the following dependency conflicts.\n",
      "microns-phase3 0.8.0 requires caveclient==5.7.0, but you have caveclient 5.13.1 which is incompatible.\u001b[0m\u001b[31m\n",
      "\u001b[0mSuccessfully installed caveclient-5.13.1\n",
      "\n",
      "\u001b[1m[\u001b[0m\u001b[34;49mnotice\u001b[0m\u001b[1;39;49m]\u001b[0m\u001b[39;49m A new release of pip is available: \u001b[0m\u001b[31;49m23.0.1\u001b[0m\u001b[39;49m -> \u001b[0m\u001b[32;49m23.3.1\u001b[0m\n",
      "\u001b[1m[\u001b[0m\u001b[34;49mnotice\u001b[0m\u001b[1;39;49m]\u001b[0m\u001b[39;49m To update, run: \u001b[0m\u001b[32;49mpip install --upgrade pip\u001b[0m\n"
     ]
    }
   ],
   "source": [
    "! pip install standard-transform\n",
    "! pip install --upgrade caveclient"
   ]
  },
  {
   "cell_type": "code",
   "execution_count": 2,
   "metadata": {},
   "outputs": [
    {
     "name": "stdout",
     "output_type": "stream",
     "text": [
      "Connecting microns@db.datajoint.com:3306\n"
     ]
    },
    {
     "name": "stderr",
     "output_type": "stream",
     "text": [
      "Could not create the ~log table\n",
      "Could not access table `microns_phase3_nda`.`~log`\n"
     ]
    }
   ],
   "source": [
    "import numpy as np\n",
    "import pandas as pd\n",
    "from caveclient import CAVEclient\n",
    "from microns_phase3 import nda\n",
    "from standard_transform import minnie_transform_vx"
   ]
  },
  {
   "cell_type": "markdown",
   "metadata": {},
   "source": [
    "## Preparation"
   ]
  },
  {
   "cell_type": "markdown",
   "metadata": {},
   "source": [
    "Function that transforms the voxel coorindate into a depth coordinate (function given to us by the authors of the Microns Project)"
   ]
  },
  {
   "cell_type": "code",
   "execution_count": 3,
   "metadata": {},
   "outputs": [],
   "source": [
    "t_form_v = minnie_transform_vx()"
   ]
  },
  {
   "cell_type": "markdown",
   "metadata": {},
   "source": [
    "### Querying the data from CAVEclient"
   ]
  },
  {
   "cell_type": "code",
   "execution_count": 4,
   "metadata": {},
   "outputs": [],
   "source": [
    "client = CAVEclient()"
   ]
  },
  {
   "cell_type": "code",
   "execution_count": 5,
   "metadata": {},
   "outputs": [],
   "source": [
    "client.auth.save_token(\"64ea0271652fd86dc7fb6376cd9d52b9\")"
   ]
  },
  {
   "cell_type": "markdown",
   "metadata": {},
   "source": [
    "We will be using the latest public release of the dataset, i.e. version 661"
   ]
  },
  {
   "cell_type": "code",
   "execution_count": 6,
   "metadata": {},
   "outputs": [],
   "source": [
    "client = CAVEclient('minnie65_public')"
   ]
  },
  {
   "cell_type": "code",
   "execution_count": 7,
   "metadata": {},
   "outputs": [],
   "source": [
    "client.materialize.version = 661"
   ]
  },
  {
   "cell_type": "code",
   "execution_count": 8,
   "metadata": {},
   "outputs": [
    {
     "data": {
      "text/plain": [
       "['synapses_pni_2',\n",
       " 'baylor_gnn_cell_type_fine_model_v2',\n",
       " 'nucleus_alternative_points',\n",
       " 'connectivity_groups_v507',\n",
       " 'proofreading_status_public_release',\n",
       " 'allen_column_mtypes_v1',\n",
       " 'allen_v1_column_types_slanted_ref',\n",
       " 'aibs_column_nonneuronal_ref',\n",
       " 'nucleus_ref_neuron_svm',\n",
       " 'aibs_soma_nuc_exc_mtype_preds_v117',\n",
       " 'baylor_log_reg_cell_type_coarse_v1',\n",
       " 'apl_functional_coreg_forward_v5',\n",
       " 'nucleus_detection_v0',\n",
       " 'aibs_soma_nuc_metamodel_preds_v117',\n",
       " 'coregistration_manual_v3']"
      ]
     },
     "execution_count": 8,
     "metadata": {},
     "output_type": "execute_result"
    }
   ],
   "source": [
    "client.materialize.get_tables()"
   ]
  },
  {
   "cell_type": "markdown",
   "metadata": {},
   "source": [
    "These are all the available tables, but we are interested in the *coregistration_manual_v3*, that is the one containing the information about the manually proofread neurons and in the *synapses_pni_2*, which contains all the traced synapses."
   ]
  },
  {
   "cell_type": "code",
   "execution_count": 9,
   "metadata": {},
   "outputs": [],
   "source": [
    "df = client.materialize.query_table('coregistration_manual_v3')"
   ]
  },
  {
   "cell_type": "markdown",
   "metadata": {},
   "source": [
    "We start by setting as the index he ID associated to the root of the synapse"
   ]
  },
  {
   "cell_type": "code",
   "execution_count": 10,
   "metadata": {},
   "outputs": [],
   "source": [
    "df = df.set_index('pt_root_id')"
   ]
  },
  {
   "cell_type": "code",
   "execution_count": 11,
   "metadata": {},
   "outputs": [
    {
     "data": {
      "text/html": [
       "<div>\n",
       "<style scoped>\n",
       "    .dataframe tbody tr th:only-of-type {\n",
       "        vertical-align: middle;\n",
       "    }\n",
       "\n",
       "    .dataframe tbody tr th {\n",
       "        vertical-align: top;\n",
       "    }\n",
       "\n",
       "    .dataframe thead th {\n",
       "        text-align: right;\n",
       "    }\n",
       "</style>\n",
       "<table border=\"1\" class=\"dataframe\">\n",
       "  <thead>\n",
       "    <tr style=\"text-align: right;\">\n",
       "      <th></th>\n",
       "      <th>id</th>\n",
       "      <th>created</th>\n",
       "      <th>valid</th>\n",
       "      <th>target_id</th>\n",
       "      <th>session</th>\n",
       "      <th>scan_idx</th>\n",
       "      <th>unit_id</th>\n",
       "      <th>field</th>\n",
       "      <th>residual</th>\n",
       "      <th>score</th>\n",
       "      <th>id_ref</th>\n",
       "      <th>created_ref</th>\n",
       "      <th>valid_ref</th>\n",
       "      <th>volume</th>\n",
       "      <th>pt_supervoxel_id</th>\n",
       "      <th>pt_position</th>\n",
       "      <th>bb_start_position</th>\n",
       "      <th>bb_end_position</th>\n",
       "    </tr>\n",
       "    <tr>\n",
       "      <th>pt_root_id</th>\n",
       "      <th></th>\n",
       "      <th></th>\n",
       "      <th></th>\n",
       "      <th></th>\n",
       "      <th></th>\n",
       "      <th></th>\n",
       "      <th></th>\n",
       "      <th></th>\n",
       "      <th></th>\n",
       "      <th></th>\n",
       "      <th></th>\n",
       "      <th></th>\n",
       "      <th></th>\n",
       "      <th></th>\n",
       "      <th></th>\n",
       "      <th></th>\n",
       "      <th></th>\n",
       "      <th></th>\n",
       "    </tr>\n",
       "  </thead>\n",
       "  <tbody>\n",
       "    <tr>\n",
       "      <th>864691135738685297</th>\n",
       "      <td>13434</td>\n",
       "      <td>2023-04-05 22:39:53.474202+00:00</td>\n",
       "      <td>t</td>\n",
       "      <td>582276</td>\n",
       "      <td>7</td>\n",
       "      <td>5</td>\n",
       "      <td>4909</td>\n",
       "      <td>4</td>\n",
       "      <td>6.10722</td>\n",
       "      <td>9.568690</td>\n",
       "      <td>582276</td>\n",
       "      <td>2020-09-28 22:41:42.536121+00:00</td>\n",
       "      <td>t</td>\n",
       "      <td>274.291589</td>\n",
       "      <td>111332012547320963</td>\n",
       "      <td>[338720, 125232, 19589]</td>\n",
       "      <td>[nan, nan, nan]</td>\n",
       "      <td>[nan, nan, nan]</td>\n",
       "    </tr>\n",
       "    <tr>\n",
       "      <th>864691135614842827</th>\n",
       "      <td>3045</td>\n",
       "      <td>2023-04-05 22:39:03.110911+00:00</td>\n",
       "      <td>t</td>\n",
       "      <td>194144</td>\n",
       "      <td>7</td>\n",
       "      <td>4</td>\n",
       "      <td>9575</td>\n",
       "      <td>6</td>\n",
       "      <td>8.55708</td>\n",
       "      <td>-0.714900</td>\n",
       "      <td>194144</td>\n",
       "      <td>2020-09-28 22:42:01.511773+00:00</td>\n",
       "      <td>t</td>\n",
       "      <td>213.307228</td>\n",
       "      <td>83542405709639148</td>\n",
       "      <td>[136400, 170640, 17951]</td>\n",
       "      <td>[nan, nan, nan]</td>\n",
       "      <td>[nan, nan, nan]</td>\n",
       "    </tr>\n",
       "    <tr>\n",
       "      <th>864691135502985397</th>\n",
       "      <td>1474</td>\n",
       "      <td>2023-04-05 22:36:19.477499+00:00</td>\n",
       "      <td>t</td>\n",
       "      <td>293318</td>\n",
       "      <td>9</td>\n",
       "      <td>4</td>\n",
       "      <td>8066</td>\n",
       "      <td>6</td>\n",
       "      <td>5.63758</td>\n",
       "      <td>8.915025</td>\n",
       "      <td>293318</td>\n",
       "      <td>2020-09-28 22:45:23.572432+00:00</td>\n",
       "      <td>t</td>\n",
       "      <td>430.108180</td>\n",
       "      <td>90783515419343652</td>\n",
       "      <td>[189472, 119296, 26037]</td>\n",
       "      <td>[nan, nan, nan]</td>\n",
       "      <td>[nan, nan, nan]</td>\n",
       "    </tr>\n",
       "    <tr>\n",
       "      <th>864691135387371905</th>\n",
       "      <td>7915</td>\n",
       "      <td>2023-04-05 22:39:15.451639+00:00</td>\n",
       "      <td>t</td>\n",
       "      <td>332833</td>\n",
       "      <td>6</td>\n",
       "      <td>7</td>\n",
       "      <td>6413</td>\n",
       "      <td>6</td>\n",
       "      <td>5.27806</td>\n",
       "      <td>7.808064</td>\n",
       "      <td>332833</td>\n",
       "      <td>2020-09-28 22:44:41.864456+00:00</td>\n",
       "      <td>t</td>\n",
       "      <td>274.418729</td>\n",
       "      <td>93535317407139914</td>\n",
       "      <td>[209328, 174304, 20004]</td>\n",
       "      <td>[nan, nan, nan]</td>\n",
       "      <td>[nan, nan, nan]</td>\n",
       "    </tr>\n",
       "    <tr>\n",
       "      <th>864691135661410544</th>\n",
       "      <td>11589</td>\n",
       "      <td>2023-04-05 22:39:47.420305+00:00</td>\n",
       "      <td>t</td>\n",
       "      <td>295460</td>\n",
       "      <td>9</td>\n",
       "      <td>3</td>\n",
       "      <td>7748</td>\n",
       "      <td>6</td>\n",
       "      <td>5.20837</td>\n",
       "      <td>2.999543</td>\n",
       "      <td>295460</td>\n",
       "      <td>2020-09-28 22:41:24.368712+00:00</td>\n",
       "      <td>t</td>\n",
       "      <td>208.616653</td>\n",
       "      <td>90225718084406516</td>\n",
       "      <td>[185088, 157776, 15691]</td>\n",
       "      <td>[nan, nan, nan]</td>\n",
       "      <td>[nan, nan, nan]</td>\n",
       "    </tr>\n",
       "  </tbody>\n",
       "</table>\n",
       "</div>"
      ],
      "text/plain": [
       "                       id                          created valid  target_id  \\\n",
       "pt_root_id                                                                    \n",
       "864691135738685297  13434 2023-04-05 22:39:53.474202+00:00     t     582276   \n",
       "864691135614842827   3045 2023-04-05 22:39:03.110911+00:00     t     194144   \n",
       "864691135502985397   1474 2023-04-05 22:36:19.477499+00:00     t     293318   \n",
       "864691135387371905   7915 2023-04-05 22:39:15.451639+00:00     t     332833   \n",
       "864691135661410544  11589 2023-04-05 22:39:47.420305+00:00     t     295460   \n",
       "\n",
       "                    session  scan_idx  unit_id  field  residual     score  \\\n",
       "pt_root_id                                                                  \n",
       "864691135738685297        7         5     4909      4   6.10722  9.568690   \n",
       "864691135614842827        7         4     9575      6   8.55708 -0.714900   \n",
       "864691135502985397        9         4     8066      6   5.63758  8.915025   \n",
       "864691135387371905        6         7     6413      6   5.27806  7.808064   \n",
       "864691135661410544        9         3     7748      6   5.20837  2.999543   \n",
       "\n",
       "                    id_ref                      created_ref valid_ref  \\\n",
       "pt_root_id                                                              \n",
       "864691135738685297  582276 2020-09-28 22:41:42.536121+00:00         t   \n",
       "864691135614842827  194144 2020-09-28 22:42:01.511773+00:00         t   \n",
       "864691135502985397  293318 2020-09-28 22:45:23.572432+00:00         t   \n",
       "864691135387371905  332833 2020-09-28 22:44:41.864456+00:00         t   \n",
       "864691135661410544  295460 2020-09-28 22:41:24.368712+00:00         t   \n",
       "\n",
       "                        volume    pt_supervoxel_id              pt_position  \\\n",
       "pt_root_id                                                                    \n",
       "864691135738685297  274.291589  111332012547320963  [338720, 125232, 19589]   \n",
       "864691135614842827  213.307228   83542405709639148  [136400, 170640, 17951]   \n",
       "864691135502985397  430.108180   90783515419343652  [189472, 119296, 26037]   \n",
       "864691135387371905  274.418729   93535317407139914  [209328, 174304, 20004]   \n",
       "864691135661410544  208.616653   90225718084406516  [185088, 157776, 15691]   \n",
       "\n",
       "                   bb_start_position  bb_end_position  \n",
       "pt_root_id                                             \n",
       "864691135738685297   [nan, nan, nan]  [nan, nan, nan]  \n",
       "864691135614842827   [nan, nan, nan]  [nan, nan, nan]  \n",
       "864691135502985397   [nan, nan, nan]  [nan, nan, nan]  \n",
       "864691135387371905   [nan, nan, nan]  [nan, nan, nan]  \n",
       "864691135661410544   [nan, nan, nan]  [nan, nan, nan]  "
      ]
     },
     "execution_count": 11,
     "metadata": {},
     "output_type": "execute_result"
    }
   ],
   "source": [
    "df.head()"
   ]
  },
  {
   "cell_type": "code",
   "execution_count": 12,
   "metadata": {},
   "outputs": [
    {
     "data": {
      "text/plain": [
       "(13925, 18)"
      ]
     },
     "execution_count": 12,
     "metadata": {},
     "output_type": "execute_result"
    }
   ],
   "source": [
    "df.shape"
   ]
  },
  {
   "cell_type": "code",
   "execution_count": 13,
   "metadata": {},
   "outputs": [],
   "source": [
    "unit_keys_1 = df.iloc[:5000, :][['session', 'scan_idx', 'unit_id']].to_dict(orient='records')\n",
    "unit_keys_2 = df.iloc[5000:10000, :][['session', 'scan_idx', 'unit_id']].to_dict(orient='records')\n",
    "unit_keys_3 = df.iloc[10000:13925, :][['session', 'scan_idx', 'unit_id']].to_dict(orient='records')"
   ]
  },
  {
   "cell_type": "code",
   "execution_count": 14,
   "metadata": {},
   "outputs": [
    {
     "name": "stdout",
     "output_type": "stream",
     "text": [
      "1/3 Completed!\n",
      "2/3 Completed!\n",
      "3/3 Completed!\n"
     ]
    }
   ],
   "source": [
    "temp_1 = (nda.AreaMembership & unit_keys_1).fetch('brain_area')\n",
    "print('1/3 Completed!')\n",
    "temp_2 = (nda.AreaMembership & unit_keys_2).fetch('brain_area')\n",
    "print('2/3 Completed!')\n",
    "temp_3 = (nda.AreaMembership & unit_keys_3).fetch('brain_area')\n",
    "print('3/3 Completed!')\n",
    "area_membership = np.concatenate((temp_1, temp_2, temp_3), axis=0)\n",
    "assert len(area_membership) == df.shape[0]"
   ]
  },
  {
   "cell_type": "code",
   "execution_count": 15,
   "metadata": {},
   "outputs": [
    {
     "data": {
      "text/html": [
       "<div>\n",
       "<style scoped>\n",
       "    .dataframe tbody tr th:only-of-type {\n",
       "        vertical-align: middle;\n",
       "    }\n",
       "\n",
       "    .dataframe tbody tr th {\n",
       "        vertical-align: top;\n",
       "    }\n",
       "\n",
       "    .dataframe thead th {\n",
       "        text-align: right;\n",
       "    }\n",
       "</style>\n",
       "<table border=\"1\" class=\"dataframe\">\n",
       "  <thead>\n",
       "    <tr style=\"text-align: right;\">\n",
       "      <th></th>\n",
       "      <th>id</th>\n",
       "      <th>created</th>\n",
       "      <th>valid</th>\n",
       "      <th>target_id</th>\n",
       "      <th>session</th>\n",
       "      <th>scan_idx</th>\n",
       "      <th>unit_id</th>\n",
       "      <th>field</th>\n",
       "      <th>residual</th>\n",
       "      <th>score</th>\n",
       "      <th>id_ref</th>\n",
       "      <th>created_ref</th>\n",
       "      <th>valid_ref</th>\n",
       "      <th>volume</th>\n",
       "      <th>pt_supervoxel_id</th>\n",
       "      <th>pt_position</th>\n",
       "      <th>bb_start_position</th>\n",
       "      <th>bb_end_position</th>\n",
       "      <th>Area Membership</th>\n",
       "    </tr>\n",
       "    <tr>\n",
       "      <th>pt_root_id</th>\n",
       "      <th></th>\n",
       "      <th></th>\n",
       "      <th></th>\n",
       "      <th></th>\n",
       "      <th></th>\n",
       "      <th></th>\n",
       "      <th></th>\n",
       "      <th></th>\n",
       "      <th></th>\n",
       "      <th></th>\n",
       "      <th></th>\n",
       "      <th></th>\n",
       "      <th></th>\n",
       "      <th></th>\n",
       "      <th></th>\n",
       "      <th></th>\n",
       "      <th></th>\n",
       "      <th></th>\n",
       "      <th></th>\n",
       "    </tr>\n",
       "  </thead>\n",
       "  <tbody>\n",
       "    <tr>\n",
       "      <th>864691135738685297</th>\n",
       "      <td>13434</td>\n",
       "      <td>2023-04-05 22:39:53.474202+00:00</td>\n",
       "      <td>t</td>\n",
       "      <td>582276</td>\n",
       "      <td>7</td>\n",
       "      <td>5</td>\n",
       "      <td>4909</td>\n",
       "      <td>4</td>\n",
       "      <td>6.10722</td>\n",
       "      <td>9.568690</td>\n",
       "      <td>582276</td>\n",
       "      <td>2020-09-28 22:41:42.536121+00:00</td>\n",
       "      <td>t</td>\n",
       "      <td>274.291589</td>\n",
       "      <td>111332012547320963</td>\n",
       "      <td>[338720, 125232, 19589]</td>\n",
       "      <td>[nan, nan, nan]</td>\n",
       "      <td>[nan, nan, nan]</td>\n",
       "      <td>V1</td>\n",
       "    </tr>\n",
       "    <tr>\n",
       "      <th>864691135614842827</th>\n",
       "      <td>3045</td>\n",
       "      <td>2023-04-05 22:39:03.110911+00:00</td>\n",
       "      <td>t</td>\n",
       "      <td>194144</td>\n",
       "      <td>7</td>\n",
       "      <td>4</td>\n",
       "      <td>9575</td>\n",
       "      <td>6</td>\n",
       "      <td>8.55708</td>\n",
       "      <td>-0.714900</td>\n",
       "      <td>194144</td>\n",
       "      <td>2020-09-28 22:42:01.511773+00:00</td>\n",
       "      <td>t</td>\n",
       "      <td>213.307228</td>\n",
       "      <td>83542405709639148</td>\n",
       "      <td>[136400, 170640, 17951]</td>\n",
       "      <td>[nan, nan, nan]</td>\n",
       "      <td>[nan, nan, nan]</td>\n",
       "      <td>V1</td>\n",
       "    </tr>\n",
       "    <tr>\n",
       "      <th>864691135502985397</th>\n",
       "      <td>1474</td>\n",
       "      <td>2023-04-05 22:36:19.477499+00:00</td>\n",
       "      <td>t</td>\n",
       "      <td>293318</td>\n",
       "      <td>9</td>\n",
       "      <td>4</td>\n",
       "      <td>8066</td>\n",
       "      <td>6</td>\n",
       "      <td>5.63758</td>\n",
       "      <td>8.915025</td>\n",
       "      <td>293318</td>\n",
       "      <td>2020-09-28 22:45:23.572432+00:00</td>\n",
       "      <td>t</td>\n",
       "      <td>430.108180</td>\n",
       "      <td>90783515419343652</td>\n",
       "      <td>[189472, 119296, 26037]</td>\n",
       "      <td>[nan, nan, nan]</td>\n",
       "      <td>[nan, nan, nan]</td>\n",
       "      <td>V1</td>\n",
       "    </tr>\n",
       "    <tr>\n",
       "      <th>864691135387371905</th>\n",
       "      <td>7915</td>\n",
       "      <td>2023-04-05 22:39:15.451639+00:00</td>\n",
       "      <td>t</td>\n",
       "      <td>332833</td>\n",
       "      <td>6</td>\n",
       "      <td>7</td>\n",
       "      <td>6413</td>\n",
       "      <td>6</td>\n",
       "      <td>5.27806</td>\n",
       "      <td>7.808064</td>\n",
       "      <td>332833</td>\n",
       "      <td>2020-09-28 22:44:41.864456+00:00</td>\n",
       "      <td>t</td>\n",
       "      <td>274.418729</td>\n",
       "      <td>93535317407139914</td>\n",
       "      <td>[209328, 174304, 20004]</td>\n",
       "      <td>[nan, nan, nan]</td>\n",
       "      <td>[nan, nan, nan]</td>\n",
       "      <td>V1</td>\n",
       "    </tr>\n",
       "    <tr>\n",
       "      <th>864691135661410544</th>\n",
       "      <td>11589</td>\n",
       "      <td>2023-04-05 22:39:47.420305+00:00</td>\n",
       "      <td>t</td>\n",
       "      <td>295460</td>\n",
       "      <td>9</td>\n",
       "      <td>3</td>\n",
       "      <td>7748</td>\n",
       "      <td>6</td>\n",
       "      <td>5.20837</td>\n",
       "      <td>2.999543</td>\n",
       "      <td>295460</td>\n",
       "      <td>2020-09-28 22:41:24.368712+00:00</td>\n",
       "      <td>t</td>\n",
       "      <td>208.616653</td>\n",
       "      <td>90225718084406516</td>\n",
       "      <td>[185088, 157776, 15691]</td>\n",
       "      <td>[nan, nan, nan]</td>\n",
       "      <td>[nan, nan, nan]</td>\n",
       "      <td>V1</td>\n",
       "    </tr>\n",
       "  </tbody>\n",
       "</table>\n",
       "</div>"
      ],
      "text/plain": [
       "                       id                          created valid  target_id  \\\n",
       "pt_root_id                                                                    \n",
       "864691135738685297  13434 2023-04-05 22:39:53.474202+00:00     t     582276   \n",
       "864691135614842827   3045 2023-04-05 22:39:03.110911+00:00     t     194144   \n",
       "864691135502985397   1474 2023-04-05 22:36:19.477499+00:00     t     293318   \n",
       "864691135387371905   7915 2023-04-05 22:39:15.451639+00:00     t     332833   \n",
       "864691135661410544  11589 2023-04-05 22:39:47.420305+00:00     t     295460   \n",
       "\n",
       "                    session  scan_idx  unit_id  field  residual     score  \\\n",
       "pt_root_id                                                                  \n",
       "864691135738685297        7         5     4909      4   6.10722  9.568690   \n",
       "864691135614842827        7         4     9575      6   8.55708 -0.714900   \n",
       "864691135502985397        9         4     8066      6   5.63758  8.915025   \n",
       "864691135387371905        6         7     6413      6   5.27806  7.808064   \n",
       "864691135661410544        9         3     7748      6   5.20837  2.999543   \n",
       "\n",
       "                    id_ref                      created_ref valid_ref  \\\n",
       "pt_root_id                                                              \n",
       "864691135738685297  582276 2020-09-28 22:41:42.536121+00:00         t   \n",
       "864691135614842827  194144 2020-09-28 22:42:01.511773+00:00         t   \n",
       "864691135502985397  293318 2020-09-28 22:45:23.572432+00:00         t   \n",
       "864691135387371905  332833 2020-09-28 22:44:41.864456+00:00         t   \n",
       "864691135661410544  295460 2020-09-28 22:41:24.368712+00:00         t   \n",
       "\n",
       "                        volume    pt_supervoxel_id              pt_position  \\\n",
       "pt_root_id                                                                    \n",
       "864691135738685297  274.291589  111332012547320963  [338720, 125232, 19589]   \n",
       "864691135614842827  213.307228   83542405709639148  [136400, 170640, 17951]   \n",
       "864691135502985397  430.108180   90783515419343652  [189472, 119296, 26037]   \n",
       "864691135387371905  274.418729   93535317407139914  [209328, 174304, 20004]   \n",
       "864691135661410544  208.616653   90225718084406516  [185088, 157776, 15691]   \n",
       "\n",
       "                   bb_start_position  bb_end_position Area Membership  \n",
       "pt_root_id                                                             \n",
       "864691135738685297   [nan, nan, nan]  [nan, nan, nan]              V1  \n",
       "864691135614842827   [nan, nan, nan]  [nan, nan, nan]              V1  \n",
       "864691135502985397   [nan, nan, nan]  [nan, nan, nan]              V1  \n",
       "864691135387371905   [nan, nan, nan]  [nan, nan, nan]              V1  \n",
       "864691135661410544   [nan, nan, nan]  [nan, nan, nan]              V1  "
      ]
     },
     "execution_count": 15,
     "metadata": {},
     "output_type": "execute_result"
    }
   ],
   "source": [
    "df['Area Membership'] = area_membership\n",
    "df.head()"
   ]
  },
  {
   "cell_type": "code",
   "execution_count": 16,
   "metadata": {},
   "outputs": [
    {
     "data": {
      "text/plain": [
       "13925"
      ]
     },
     "execution_count": 16,
     "metadata": {},
     "output_type": "execute_result"
    }
   ],
   "source": [
    "root_ids = df.index.tolist()\n",
    "len(root_ids)"
   ]
  },
  {
   "cell_type": "code",
   "execution_count": 18,
   "metadata": {},
   "outputs": [
    {
     "ename": "KeyboardInterrupt",
     "evalue": "",
     "output_type": "error",
     "traceback": [
      "\u001b[0;31m---------------------------------------------------------------------------\u001b[0m",
      "\u001b[0;31mKeyboardInterrupt\u001b[0m                         Traceback (most recent call last)",
      "\u001b[1;32m/workspaces/microns_phase3_nda/personal_notebooks/synapse_data_fetcher_v661.ipynb Cell 25\u001b[0m line \u001b[0;36m1\n\u001b[0;32m----> <a href='vscode-notebook-cell://codespaces%2Bcongenial-yodel-7q79wwgqgjwhxqw5/workspaces/microns_phase3_nda/personal_notebooks/synapse_data_fetcher_v661.ipynb#X33sdnNjb2RlLXJlbW90ZQ%3D%3D?line=0'>1</a>\u001b[0m input_dfs_1 \u001b[39m=\u001b[39m [client\u001b[39m.\u001b[39mmaterialize\u001b[39m.\u001b[39msynapse_query(post_ids\u001b[39m=\u001b[39mi) \u001b[39mfor\u001b[39;00m i \u001b[39min\u001b[39;00m root_ids[:\u001b[39m3000\u001b[39m]]\n",
      "\u001b[1;32m/workspaces/microns_phase3_nda/personal_notebooks/synapse_data_fetcher_v661.ipynb Cell 25\u001b[0m line \u001b[0;36m1\n\u001b[0;32m----> <a href='vscode-notebook-cell://codespaces%2Bcongenial-yodel-7q79wwgqgjwhxqw5/workspaces/microns_phase3_nda/personal_notebooks/synapse_data_fetcher_v661.ipynb#X33sdnNjb2RlLXJlbW90ZQ%3D%3D?line=0'>1</a>\u001b[0m input_dfs_1 \u001b[39m=\u001b[39m [client\u001b[39m.\u001b[39;49mmaterialize\u001b[39m.\u001b[39;49msynapse_query(post_ids\u001b[39m=\u001b[39;49mi) \u001b[39mfor\u001b[39;00m i \u001b[39min\u001b[39;00m root_ids[:\u001b[39m3000\u001b[39m]]\n",
      "File \u001b[0;32m~/.local/lib/python3.9/site-packages/caveclient/materializationengine.py:1664\u001b[0m, in \u001b[0;36mMaterializatonClientV2.synapse_query\u001b[0;34m(self, pre_ids, post_ids, bounding_box, bounding_box_column, timestamp, remove_autapses, include_zeros, limit, offset, split_positions, desired_resolution, materialization_version, synapse_table, datastack_name, metadata)\u001b[0m\n\u001b[1;32m   1661\u001b[0m \u001b[39mif\u001b[39;00m bounding_box \u001b[39mis\u001b[39;00m \u001b[39mnot\u001b[39;00m \u001b[39mNone\u001b[39;00m:\n\u001b[1;32m   1662\u001b[0m     filter_spatial_dict \u001b[39m=\u001b[39m {bounding_box_column: bounding_box}\n\u001b[0;32m-> 1664\u001b[0m df \u001b[39m=\u001b[39m \u001b[39mself\u001b[39;49m\u001b[39m.\u001b[39;49mquery_table(\n\u001b[1;32m   1665\u001b[0m     synapse_table,\n\u001b[1;32m   1666\u001b[0m     filter_in_dict\u001b[39m=\u001b[39;49mfilter_in_dict,\n\u001b[1;32m   1667\u001b[0m     filter_out_dict\u001b[39m=\u001b[39;49mfilter_out_dict,\n\u001b[1;32m   1668\u001b[0m     filter_equal_dict\u001b[39m=\u001b[39;49mfilter_equal_dict,\n\u001b[1;32m   1669\u001b[0m     filter_spatial_dict\u001b[39m=\u001b[39;49mfilter_spatial_dict,\n\u001b[1;32m   1670\u001b[0m     offset\u001b[39m=\u001b[39;49moffset,\n\u001b[1;32m   1671\u001b[0m     limit\u001b[39m=\u001b[39;49mlimit,\n\u001b[1;32m   1672\u001b[0m     split_positions\u001b[39m=\u001b[39;49msplit_positions,\n\u001b[1;32m   1673\u001b[0m     desired_resolution\u001b[39m=\u001b[39;49mdesired_resolution,\n\u001b[1;32m   1674\u001b[0m     materialization_version\u001b[39m=\u001b[39;49mmaterialization_version,\n\u001b[1;32m   1675\u001b[0m     timestamp\u001b[39m=\u001b[39;49mtimestamp,\n\u001b[1;32m   1676\u001b[0m     datastack_name\u001b[39m=\u001b[39;49mdatastack_name,\n\u001b[1;32m   1677\u001b[0m     metadata\u001b[39m=\u001b[39;49mmetadata,\n\u001b[1;32m   1678\u001b[0m     merge_reference\u001b[39m=\u001b[39;49m\u001b[39mFalse\u001b[39;49;00m,\n\u001b[1;32m   1679\u001b[0m )\n\u001b[1;32m   1681\u001b[0m \u001b[39mif\u001b[39;00m metadata:\n\u001b[1;32m   1682\u001b[0m     df\u001b[39m.\u001b[39mattrs[\u001b[39m\"\u001b[39m\u001b[39mremove_autapses\u001b[39m\u001b[39m\"\u001b[39m] \u001b[39m=\u001b[39m remove_autapses\n",
      "File \u001b[0;32m~/.local/lib/python3.9/site-packages/caveclient/materializationengine.py:735\u001b[0m, in \u001b[0;36mMaterializatonClientV2.query_table\u001b[0;34m(self, table, filter_in_dict, filter_out_dict, filter_equal_dict, filter_spatial_dict, filter_regex_dict, select_columns, offset, limit, datastack_name, return_df, split_positions, materialization_version, timestamp, metadata, merge_reference, desired_resolution, get_counts, random_sample)\u001b[0m\n\u001b[1;32m    731\u001b[0m     query_args[\u001b[39m\"\u001b[39m\u001b[39mcount\u001b[39m\u001b[39m\"\u001b[39m] \u001b[39m=\u001b[39m \u001b[39mTrue\u001b[39;00m\n\u001b[1;32m    733\u001b[0m headers \u001b[39m=\u001b[39m {\u001b[39m\"\u001b[39m\u001b[39mContent-Type\u001b[39m\u001b[39m\"\u001b[39m: \u001b[39m\"\u001b[39m\u001b[39mapplication/json\u001b[39m\u001b[39m\"\u001b[39m, \u001b[39m\"\u001b[39m\u001b[39mAccept-Encoding\u001b[39m\u001b[39m\"\u001b[39m: encoding}\n\u001b[0;32m--> 735\u001b[0m response \u001b[39m=\u001b[39m \u001b[39mself\u001b[39;49m\u001b[39m.\u001b[39;49msession\u001b[39m.\u001b[39;49mpost(\n\u001b[1;32m    736\u001b[0m     url,\n\u001b[1;32m    737\u001b[0m     data\u001b[39m=\u001b[39;49mjson\u001b[39m.\u001b[39;49mdumps(data, \u001b[39mcls\u001b[39;49m\u001b[39m=\u001b[39;49mBaseEncoder),\n\u001b[1;32m    738\u001b[0m     headers\u001b[39m=\u001b[39;49mheaders,\n\u001b[1;32m    739\u001b[0m     params\u001b[39m=\u001b[39;49mquery_args,\n\u001b[1;32m    740\u001b[0m     stream\u001b[39m=\u001b[39;49m\u001b[39m~\u001b[39;49mreturn_df,\n\u001b[1;32m    741\u001b[0m )\n\u001b[1;32m    742\u001b[0m \u001b[39mself\u001b[39m\u001b[39m.\u001b[39mraise_for_status(response)\n\u001b[1;32m    743\u001b[0m \u001b[39mif\u001b[39;00m return_df:\n",
      "File \u001b[0;32m/usr/local/lib/python3.9/site-packages/requests/sessions.py:637\u001b[0m, in \u001b[0;36mSession.post\u001b[0;34m(self, url, data, json, **kwargs)\u001b[0m\n\u001b[1;32m    626\u001b[0m \u001b[39mdef\u001b[39;00m \u001b[39mpost\u001b[39m(\u001b[39mself\u001b[39m, url, data\u001b[39m=\u001b[39m\u001b[39mNone\u001b[39;00m, json\u001b[39m=\u001b[39m\u001b[39mNone\u001b[39;00m, \u001b[39m*\u001b[39m\u001b[39m*\u001b[39mkwargs):\n\u001b[1;32m    627\u001b[0m \u001b[39m    \u001b[39m\u001b[39mr\u001b[39m\u001b[39m\"\"\"Sends a POST request. Returns :class:`Response` object.\u001b[39;00m\n\u001b[1;32m    628\u001b[0m \n\u001b[1;32m    629\u001b[0m \u001b[39m    :param url: URL for the new :class:`Request` object.\u001b[39;00m\n\u001b[0;32m   (...)\u001b[0m\n\u001b[1;32m    634\u001b[0m \u001b[39m    :rtype: requests.Response\u001b[39;00m\n\u001b[1;32m    635\u001b[0m \u001b[39m    \"\"\"\u001b[39;00m\n\u001b[0;32m--> 637\u001b[0m     \u001b[39mreturn\u001b[39;00m \u001b[39mself\u001b[39;49m\u001b[39m.\u001b[39;49mrequest(\u001b[39m\"\u001b[39;49m\u001b[39mPOST\u001b[39;49m\u001b[39m\"\u001b[39;49m, url, data\u001b[39m=\u001b[39;49mdata, json\u001b[39m=\u001b[39;49mjson, \u001b[39m*\u001b[39;49m\u001b[39m*\u001b[39;49mkwargs)\n",
      "File \u001b[0;32m/usr/local/lib/python3.9/site-packages/requests/sessions.py:589\u001b[0m, in \u001b[0;36mSession.request\u001b[0;34m(self, method, url, params, data, headers, cookies, files, auth, timeout, allow_redirects, proxies, hooks, stream, verify, cert, json)\u001b[0m\n\u001b[1;32m    584\u001b[0m send_kwargs \u001b[39m=\u001b[39m {\n\u001b[1;32m    585\u001b[0m     \u001b[39m\"\u001b[39m\u001b[39mtimeout\u001b[39m\u001b[39m\"\u001b[39m: timeout,\n\u001b[1;32m    586\u001b[0m     \u001b[39m\"\u001b[39m\u001b[39mallow_redirects\u001b[39m\u001b[39m\"\u001b[39m: allow_redirects,\n\u001b[1;32m    587\u001b[0m }\n\u001b[1;32m    588\u001b[0m send_kwargs\u001b[39m.\u001b[39mupdate(settings)\n\u001b[0;32m--> 589\u001b[0m resp \u001b[39m=\u001b[39m \u001b[39mself\u001b[39;49m\u001b[39m.\u001b[39;49msend(prep, \u001b[39m*\u001b[39;49m\u001b[39m*\u001b[39;49msend_kwargs)\n\u001b[1;32m    591\u001b[0m \u001b[39mreturn\u001b[39;00m resp\n",
      "File \u001b[0;32m/usr/local/lib/python3.9/site-packages/requests/sessions.py:703\u001b[0m, in \u001b[0;36mSession.send\u001b[0;34m(self, request, **kwargs)\u001b[0m\n\u001b[1;32m    700\u001b[0m start \u001b[39m=\u001b[39m preferred_clock()\n\u001b[1;32m    702\u001b[0m \u001b[39m# Send the request\u001b[39;00m\n\u001b[0;32m--> 703\u001b[0m r \u001b[39m=\u001b[39m adapter\u001b[39m.\u001b[39;49msend(request, \u001b[39m*\u001b[39;49m\u001b[39m*\u001b[39;49mkwargs)\n\u001b[1;32m    705\u001b[0m \u001b[39m# Total elapsed time of the request (approximately)\u001b[39;00m\n\u001b[1;32m    706\u001b[0m elapsed \u001b[39m=\u001b[39m preferred_clock() \u001b[39m-\u001b[39m start\n",
      "File \u001b[0;32m/usr/local/lib/python3.9/site-packages/requests/adapters.py:486\u001b[0m, in \u001b[0;36mHTTPAdapter.send\u001b[0;34m(self, request, stream, timeout, verify, cert, proxies)\u001b[0m\n\u001b[1;32m    483\u001b[0m     timeout \u001b[39m=\u001b[39m TimeoutSauce(connect\u001b[39m=\u001b[39mtimeout, read\u001b[39m=\u001b[39mtimeout)\n\u001b[1;32m    485\u001b[0m \u001b[39mtry\u001b[39;00m:\n\u001b[0;32m--> 486\u001b[0m     resp \u001b[39m=\u001b[39m conn\u001b[39m.\u001b[39;49murlopen(\n\u001b[1;32m    487\u001b[0m         method\u001b[39m=\u001b[39;49mrequest\u001b[39m.\u001b[39;49mmethod,\n\u001b[1;32m    488\u001b[0m         url\u001b[39m=\u001b[39;49murl,\n\u001b[1;32m    489\u001b[0m         body\u001b[39m=\u001b[39;49mrequest\u001b[39m.\u001b[39;49mbody,\n\u001b[1;32m    490\u001b[0m         headers\u001b[39m=\u001b[39;49mrequest\u001b[39m.\u001b[39;49mheaders,\n\u001b[1;32m    491\u001b[0m         redirect\u001b[39m=\u001b[39;49m\u001b[39mFalse\u001b[39;49;00m,\n\u001b[1;32m    492\u001b[0m         assert_same_host\u001b[39m=\u001b[39;49m\u001b[39mFalse\u001b[39;49;00m,\n\u001b[1;32m    493\u001b[0m         preload_content\u001b[39m=\u001b[39;49m\u001b[39mFalse\u001b[39;49;00m,\n\u001b[1;32m    494\u001b[0m         decode_content\u001b[39m=\u001b[39;49m\u001b[39mFalse\u001b[39;49;00m,\n\u001b[1;32m    495\u001b[0m         retries\u001b[39m=\u001b[39;49m\u001b[39mself\u001b[39;49m\u001b[39m.\u001b[39;49mmax_retries,\n\u001b[1;32m    496\u001b[0m         timeout\u001b[39m=\u001b[39;49mtimeout,\n\u001b[1;32m    497\u001b[0m         chunked\u001b[39m=\u001b[39;49mchunked,\n\u001b[1;32m    498\u001b[0m     )\n\u001b[1;32m    500\u001b[0m \u001b[39mexcept\u001b[39;00m (ProtocolError, \u001b[39mOSError\u001b[39;00m) \u001b[39mas\u001b[39;00m err:\n\u001b[1;32m    501\u001b[0m     \u001b[39mraise\u001b[39;00m \u001b[39mConnectionError\u001b[39;00m(err, request\u001b[39m=\u001b[39mrequest)\n",
      "File \u001b[0;32m/usr/local/lib/python3.9/site-packages/urllib3/connectionpool.py:790\u001b[0m, in \u001b[0;36mHTTPConnectionPool.urlopen\u001b[0;34m(self, method, url, body, headers, retries, redirect, assert_same_host, timeout, pool_timeout, release_conn, chunked, body_pos, preload_content, decode_content, **response_kw)\u001b[0m\n\u001b[1;32m    787\u001b[0m response_conn \u001b[39m=\u001b[39m conn \u001b[39mif\u001b[39;00m \u001b[39mnot\u001b[39;00m release_conn \u001b[39melse\u001b[39;00m \u001b[39mNone\u001b[39;00m\n\u001b[1;32m    789\u001b[0m \u001b[39m# Make the request on the HTTPConnection object\u001b[39;00m\n\u001b[0;32m--> 790\u001b[0m response \u001b[39m=\u001b[39m \u001b[39mself\u001b[39;49m\u001b[39m.\u001b[39;49m_make_request(\n\u001b[1;32m    791\u001b[0m     conn,\n\u001b[1;32m    792\u001b[0m     method,\n\u001b[1;32m    793\u001b[0m     url,\n\u001b[1;32m    794\u001b[0m     timeout\u001b[39m=\u001b[39;49mtimeout_obj,\n\u001b[1;32m    795\u001b[0m     body\u001b[39m=\u001b[39;49mbody,\n\u001b[1;32m    796\u001b[0m     headers\u001b[39m=\u001b[39;49mheaders,\n\u001b[1;32m    797\u001b[0m     chunked\u001b[39m=\u001b[39;49mchunked,\n\u001b[1;32m    798\u001b[0m     retries\u001b[39m=\u001b[39;49mretries,\n\u001b[1;32m    799\u001b[0m     response_conn\u001b[39m=\u001b[39;49mresponse_conn,\n\u001b[1;32m    800\u001b[0m     preload_content\u001b[39m=\u001b[39;49mpreload_content,\n\u001b[1;32m    801\u001b[0m     decode_content\u001b[39m=\u001b[39;49mdecode_content,\n\u001b[1;32m    802\u001b[0m     \u001b[39m*\u001b[39;49m\u001b[39m*\u001b[39;49mresponse_kw,\n\u001b[1;32m    803\u001b[0m )\n\u001b[1;32m    805\u001b[0m \u001b[39m# Everything went great!\u001b[39;00m\n\u001b[1;32m    806\u001b[0m clean_exit \u001b[39m=\u001b[39m \u001b[39mTrue\u001b[39;00m\n",
      "File \u001b[0;32m/usr/local/lib/python3.9/site-packages/urllib3/connectionpool.py:536\u001b[0m, in \u001b[0;36mHTTPConnectionPool._make_request\u001b[0;34m(self, conn, method, url, body, headers, retries, timeout, chunked, response_conn, preload_content, decode_content, enforce_content_length)\u001b[0m\n\u001b[1;32m    534\u001b[0m \u001b[39m# Receive the response from the server\u001b[39;00m\n\u001b[1;32m    535\u001b[0m \u001b[39mtry\u001b[39;00m:\n\u001b[0;32m--> 536\u001b[0m     response \u001b[39m=\u001b[39m conn\u001b[39m.\u001b[39;49mgetresponse()\n\u001b[1;32m    537\u001b[0m \u001b[39mexcept\u001b[39;00m (BaseSSLError, \u001b[39mOSError\u001b[39;00m) \u001b[39mas\u001b[39;00m e:\n\u001b[1;32m    538\u001b[0m     \u001b[39mself\u001b[39m\u001b[39m.\u001b[39m_raise_timeout(err\u001b[39m=\u001b[39me, url\u001b[39m=\u001b[39murl, timeout_value\u001b[39m=\u001b[39mread_timeout)\n",
      "File \u001b[0;32m/usr/local/lib/python3.9/site-packages/urllib3/connection.py:454\u001b[0m, in \u001b[0;36mHTTPConnection.getresponse\u001b[0;34m(self)\u001b[0m\n\u001b[1;32m    451\u001b[0m \u001b[39mfrom\u001b[39;00m \u001b[39m.\u001b[39;00m\u001b[39mresponse\u001b[39;00m \u001b[39mimport\u001b[39;00m HTTPResponse\n\u001b[1;32m    453\u001b[0m \u001b[39m# Get the response from http.client.HTTPConnection\u001b[39;00m\n\u001b[0;32m--> 454\u001b[0m httplib_response \u001b[39m=\u001b[39m \u001b[39msuper\u001b[39;49m()\u001b[39m.\u001b[39;49mgetresponse()\n\u001b[1;32m    456\u001b[0m \u001b[39mtry\u001b[39;00m:\n\u001b[1;32m    457\u001b[0m     assert_header_parsing(httplib_response\u001b[39m.\u001b[39mmsg)\n",
      "File \u001b[0;32m/usr/local/lib/python3.9/http/client.py:1377\u001b[0m, in \u001b[0;36mHTTPConnection.getresponse\u001b[0;34m(self)\u001b[0m\n\u001b[1;32m   1375\u001b[0m \u001b[39mtry\u001b[39;00m:\n\u001b[1;32m   1376\u001b[0m     \u001b[39mtry\u001b[39;00m:\n\u001b[0;32m-> 1377\u001b[0m         response\u001b[39m.\u001b[39;49mbegin()\n\u001b[1;32m   1378\u001b[0m     \u001b[39mexcept\u001b[39;00m \u001b[39mConnectionError\u001b[39;00m:\n\u001b[1;32m   1379\u001b[0m         \u001b[39mself\u001b[39m\u001b[39m.\u001b[39mclose()\n",
      "File \u001b[0;32m/usr/local/lib/python3.9/http/client.py:320\u001b[0m, in \u001b[0;36mHTTPResponse.begin\u001b[0;34m(self)\u001b[0m\n\u001b[1;32m    318\u001b[0m \u001b[39m# read until we get a non-100 response\u001b[39;00m\n\u001b[1;32m    319\u001b[0m \u001b[39mwhile\u001b[39;00m \u001b[39mTrue\u001b[39;00m:\n\u001b[0;32m--> 320\u001b[0m     version, status, reason \u001b[39m=\u001b[39m \u001b[39mself\u001b[39;49m\u001b[39m.\u001b[39;49m_read_status()\n\u001b[1;32m    321\u001b[0m     \u001b[39mif\u001b[39;00m status \u001b[39m!=\u001b[39m CONTINUE:\n\u001b[1;32m    322\u001b[0m         \u001b[39mbreak\u001b[39;00m\n",
      "File \u001b[0;32m/usr/local/lib/python3.9/http/client.py:281\u001b[0m, in \u001b[0;36mHTTPResponse._read_status\u001b[0;34m(self)\u001b[0m\n\u001b[1;32m    280\u001b[0m \u001b[39mdef\u001b[39;00m \u001b[39m_read_status\u001b[39m(\u001b[39mself\u001b[39m):\n\u001b[0;32m--> 281\u001b[0m     line \u001b[39m=\u001b[39m \u001b[39mstr\u001b[39m(\u001b[39mself\u001b[39;49m\u001b[39m.\u001b[39;49mfp\u001b[39m.\u001b[39;49mreadline(_MAXLINE \u001b[39m+\u001b[39;49m \u001b[39m1\u001b[39;49m), \u001b[39m\"\u001b[39m\u001b[39miso-8859-1\u001b[39m\u001b[39m\"\u001b[39m)\n\u001b[1;32m    282\u001b[0m     \u001b[39mif\u001b[39;00m \u001b[39mlen\u001b[39m(line) \u001b[39m>\u001b[39m _MAXLINE:\n\u001b[1;32m    283\u001b[0m         \u001b[39mraise\u001b[39;00m LineTooLong(\u001b[39m\"\u001b[39m\u001b[39mstatus line\u001b[39m\u001b[39m\"\u001b[39m)\n",
      "File \u001b[0;32m/usr/local/lib/python3.9/socket.py:704\u001b[0m, in \u001b[0;36mSocketIO.readinto\u001b[0;34m(self, b)\u001b[0m\n\u001b[1;32m    702\u001b[0m \u001b[39mwhile\u001b[39;00m \u001b[39mTrue\u001b[39;00m:\n\u001b[1;32m    703\u001b[0m     \u001b[39mtry\u001b[39;00m:\n\u001b[0;32m--> 704\u001b[0m         \u001b[39mreturn\u001b[39;00m \u001b[39mself\u001b[39;49m\u001b[39m.\u001b[39;49m_sock\u001b[39m.\u001b[39;49mrecv_into(b)\n\u001b[1;32m    705\u001b[0m     \u001b[39mexcept\u001b[39;00m timeout:\n\u001b[1;32m    706\u001b[0m         \u001b[39mself\u001b[39m\u001b[39m.\u001b[39m_timeout_occurred \u001b[39m=\u001b[39m \u001b[39mTrue\u001b[39;00m\n",
      "File \u001b[0;32m/usr/local/lib/python3.9/ssl.py:1242\u001b[0m, in \u001b[0;36mSSLSocket.recv_into\u001b[0;34m(self, buffer, nbytes, flags)\u001b[0m\n\u001b[1;32m   1238\u001b[0m     \u001b[39mif\u001b[39;00m flags \u001b[39m!=\u001b[39m \u001b[39m0\u001b[39m:\n\u001b[1;32m   1239\u001b[0m         \u001b[39mraise\u001b[39;00m \u001b[39mValueError\u001b[39;00m(\n\u001b[1;32m   1240\u001b[0m           \u001b[39m\"\u001b[39m\u001b[39mnon-zero flags not allowed in calls to recv_into() on \u001b[39m\u001b[39m%s\u001b[39;00m\u001b[39m\"\u001b[39m \u001b[39m%\u001b[39m\n\u001b[1;32m   1241\u001b[0m           \u001b[39mself\u001b[39m\u001b[39m.\u001b[39m\u001b[39m__class__\u001b[39m)\n\u001b[0;32m-> 1242\u001b[0m     \u001b[39mreturn\u001b[39;00m \u001b[39mself\u001b[39;49m\u001b[39m.\u001b[39;49mread(nbytes, buffer)\n\u001b[1;32m   1243\u001b[0m \u001b[39melse\u001b[39;00m:\n\u001b[1;32m   1244\u001b[0m     \u001b[39mreturn\u001b[39;00m \u001b[39msuper\u001b[39m()\u001b[39m.\u001b[39mrecv_into(buffer, nbytes, flags)\n",
      "File \u001b[0;32m/usr/local/lib/python3.9/ssl.py:1100\u001b[0m, in \u001b[0;36mSSLSocket.read\u001b[0;34m(self, len, buffer)\u001b[0m\n\u001b[1;32m   1098\u001b[0m \u001b[39mtry\u001b[39;00m:\n\u001b[1;32m   1099\u001b[0m     \u001b[39mif\u001b[39;00m buffer \u001b[39mis\u001b[39;00m \u001b[39mnot\u001b[39;00m \u001b[39mNone\u001b[39;00m:\n\u001b[0;32m-> 1100\u001b[0m         \u001b[39mreturn\u001b[39;00m \u001b[39mself\u001b[39;49m\u001b[39m.\u001b[39;49m_sslobj\u001b[39m.\u001b[39;49mread(\u001b[39mlen\u001b[39;49m, buffer)\n\u001b[1;32m   1101\u001b[0m     \u001b[39melse\u001b[39;00m:\n\u001b[1;32m   1102\u001b[0m         \u001b[39mreturn\u001b[39;00m \u001b[39mself\u001b[39m\u001b[39m.\u001b[39m_sslobj\u001b[39m.\u001b[39mread(\u001b[39mlen\u001b[39m)\n",
      "\u001b[0;31mKeyboardInterrupt\u001b[0m: "
     ]
    }
   ],
   "source": [
    "input_dfs_1 = [client.materialize.synapse_query(post_ids=i) for i in root_ids[:3000]]"
   ]
  },
  {
   "cell_type": "code",
   "execution_count": null,
   "metadata": {},
   "outputs": [],
   "source": [
    "input_dfs_2 = [client.materialize.synapse_query(post_ids=i) for i in root_ids[3000:6000]]"
   ]
  },
  {
   "cell_type": "code",
   "execution_count": null,
   "metadata": {},
   "outputs": [],
   "source": [
    "input_dfs_3 = [client.materialize.synapse_query(post_ids=i) for i in root_ids[6000:9000]]"
   ]
  }
 ],
 "metadata": {
  "kernelspec": {
   "display_name": "Python 3",
   "language": "python",
   "name": "python3"
  },
  "language_info": {
   "codemirror_mode": {
    "name": "ipython",
    "version": 3
   },
   "file_extension": ".py",
   "mimetype": "text/x-python",
   "name": "python",
   "nbconvert_exporter": "python",
   "pygments_lexer": "ipython3",
   "version": "3.9.17"
  }
 },
 "nbformat": 4,
 "nbformat_minor": 2
}
