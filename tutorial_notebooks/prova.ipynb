{
 "cells": [
  {
   "cell_type": "markdown",
   "metadata": {},
   "source": [
    "# Fetching data from the Dataset"
   ]
  },
  {
   "cell_type": "markdown",
   "metadata": {},
   "source": [
    "## Importing libraries"
   ]
  },
  {
   "cell_type": "code",
   "execution_count": 1,
   "metadata": {},
   "outputs": [],
   "source": [
    "# ! pip install standard-transform\n",
    "# ! pip install caveclient --upgrade"
   ]
  },
  {
   "cell_type": "code",
   "execution_count": 2,
   "metadata": {},
   "outputs": [
    {
     "name": "stdout",
     "output_type": "stream",
     "text": [
      "Connecting microns@db.datajoint.com:3306\n"
     ]
    },
    {
     "name": "stderr",
     "output_type": "stream",
     "text": [
      "Could not create the ~log table\n",
      "Could not access table `microns_phase3_nda`.`~log`\n"
     ]
    }
   ],
   "source": [
    "import numpy as np\n",
    "import pandas as pd\n",
    "import seaborn as sns\n",
    "from caveclient import CAVEclient\n",
    "import matplotlib.pyplot as plt\n",
    "from microns_phase3 import nda\n",
    "from standard_transform import minnie_transform_vx"
   ]
  },
  {
   "cell_type": "code",
   "execution_count": 3,
   "metadata": {},
   "outputs": [],
   "source": [
    "tform_vx = minnie_transform_vx()"
   ]
  },
  {
   "cell_type": "markdown",
   "metadata": {},
   "source": [
    "## Query data"
   ]
  },
  {
   "cell_type": "code",
   "execution_count": 4,
   "metadata": {},
   "outputs": [],
   "source": [
    "client = CAVEclient()"
   ]
  },
  {
   "cell_type": "code",
   "execution_count": 5,
   "metadata": {},
   "outputs": [],
   "source": [
    "# client.auth.get_new_token()"
   ]
  },
  {
   "cell_type": "code",
   "execution_count": 6,
   "metadata": {},
   "outputs": [],
   "source": [
    "#client.auth.save_token(\"64ea0271652fd86dc7fb6376cd9d52b9\")"
   ]
  },
  {
   "cell_type": "code",
   "execution_count": 7,
   "metadata": {},
   "outputs": [],
   "source": [
    "client = CAVEclient('minnie65_public_v343')"
   ]
  },
  {
   "cell_type": "code",
   "execution_count": 8,
   "metadata": {},
   "outputs": [
    {
     "data": {
      "text/plain": [
       "['synapses_pni_2',\n",
       " 'nucleus_neuron_svm',\n",
       " 'nucleus_detection_v0',\n",
       " 'functional_coreg',\n",
       " 'allen_v1_column_types_slanted',\n",
       " 'aibs_column_nonneuronal',\n",
       " 'func_unit_em_match_release',\n",
       " 'proofreading_status_public_release',\n",
       " 'aibs_soma_nuc_metamodel_preds_v117']"
      ]
     },
     "execution_count": 8,
     "metadata": {},
     "output_type": "execute_result"
    }
   ],
   "source": [
    "client.materialize.get_tables()"
   ]
  },
  {
   "cell_type": "markdown",
   "metadata": {},
   "source": [
    "## Filtering data"
   ]
  },
  {
   "cell_type": "code",
   "execution_count": 9,
   "metadata": {},
   "outputs": [],
   "source": [
    "df = client.materialize.query_table('functional_coreg')\n",
    "df.set_index('pt_root_id', inplace=True)"
   ]
  },
  {
   "cell_type": "code",
   "execution_count": 10,
   "metadata": {},
   "outputs": [
    {
     "data": {
      "text/html": [
       "<div>\n",
       "<style scoped>\n",
       "    .dataframe tbody tr th:only-of-type {\n",
       "        vertical-align: middle;\n",
       "    }\n",
       "\n",
       "    .dataframe tbody tr th {\n",
       "        vertical-align: top;\n",
       "    }\n",
       "\n",
       "    .dataframe thead th {\n",
       "        text-align: right;\n",
       "    }\n",
       "</style>\n",
       "<table border=\"1\" class=\"dataframe\">\n",
       "  <thead>\n",
       "    <tr style=\"text-align: right;\">\n",
       "      <th></th>\n",
       "      <th>id</th>\n",
       "      <th>valid</th>\n",
       "      <th>pt_supervoxel_id</th>\n",
       "      <th>session</th>\n",
       "      <th>scan_idx</th>\n",
       "      <th>unit_id</th>\n",
       "      <th>pt_position</th>\n",
       "    </tr>\n",
       "    <tr>\n",
       "      <th>pt_root_id</th>\n",
       "      <th></th>\n",
       "      <th></th>\n",
       "      <th></th>\n",
       "      <th></th>\n",
       "      <th></th>\n",
       "      <th></th>\n",
       "      <th></th>\n",
       "    </tr>\n",
       "  </thead>\n",
       "  <tbody>\n",
       "    <tr>\n",
       "      <th>864691136136642173</th>\n",
       "      <td>1</td>\n",
       "      <td>t</td>\n",
       "      <td>102531727972419182</td>\n",
       "      <td>4</td>\n",
       "      <td>7</td>\n",
       "      <td>665</td>\n",
       "      <td>[274864, 94064, 22046]</td>\n",
       "    </tr>\n",
       "    <tr>\n",
       "      <th>864691136208993724</th>\n",
       "      <td>2</td>\n",
       "      <td>t</td>\n",
       "      <td>94792540099826672</td>\n",
       "      <td>4</td>\n",
       "      <td>7</td>\n",
       "      <td>740</td>\n",
       "      <td>[218320, 104320, 19016]</td>\n",
       "    </tr>\n",
       "    <tr>\n",
       "      <th>864691135683934135</th>\n",
       "      <td>4</td>\n",
       "      <td>t</td>\n",
       "      <td>93946810036875732</td>\n",
       "      <td>4</td>\n",
       "      <td>7</td>\n",
       "      <td>782</td>\n",
       "      <td>[212128, 94544, 23423]</td>\n",
       "    </tr>\n",
       "    <tr>\n",
       "      <th>864691135334528233</th>\n",
       "      <td>5</td>\n",
       "      <td>t</td>\n",
       "      <td>84730565597057981</td>\n",
       "      <td>4</td>\n",
       "      <td>7</td>\n",
       "      <td>855</td>\n",
       "      <td>[145158, 110036, 19355]</td>\n",
       "    </tr>\n",
       "    <tr>\n",
       "      <th>864691136309730650</th>\n",
       "      <td>6</td>\n",
       "      <td>t</td>\n",
       "      <td>110905058841147285</td>\n",
       "      <td>4</td>\n",
       "      <td>7</td>\n",
       "      <td>921</td>\n",
       "      <td>[335744, 90128, 22805]</td>\n",
       "    </tr>\n",
       "  </tbody>\n",
       "</table>\n",
       "</div>"
      ],
      "text/plain": [
       "                    id valid    pt_supervoxel_id  session  scan_idx  unit_id  \\\n",
       "pt_root_id                                                                     \n",
       "864691136136642173   1     t  102531727972419182        4         7      665   \n",
       "864691136208993724   2     t   94792540099826672        4         7      740   \n",
       "864691135683934135   4     t   93946810036875732        4         7      782   \n",
       "864691135334528233   5     t   84730565597057981        4         7      855   \n",
       "864691136309730650   6     t  110905058841147285        4         7      921   \n",
       "\n",
       "                                pt_position  \n",
       "pt_root_id                                   \n",
       "864691136136642173   [274864, 94064, 22046]  \n",
       "864691136208993724  [218320, 104320, 19016]  \n",
       "864691135683934135   [212128, 94544, 23423]  \n",
       "864691135334528233  [145158, 110036, 19355]  \n",
       "864691136309730650   [335744, 90128, 22805]  "
      ]
     },
     "execution_count": 10,
     "metadata": {},
     "output_type": "execute_result"
    }
   ],
   "source": [
    "df.head()"
   ]
  },
  {
   "cell_type": "code",
   "execution_count": 31,
   "metadata": {},
   "outputs": [
    {
     "data": {
      "text/plain": [
       "(9518, 7)"
      ]
     },
     "execution_count": 31,
     "metadata": {},
     "output_type": "execute_result"
    }
   ],
   "source": [
    "df.shape"
   ]
  },
  {
   "cell_type": "code",
   "execution_count": 11,
   "metadata": {},
   "outputs": [],
   "source": [
    "root_ids = df.index.tolist()"
   ]
  },
  {
   "cell_type": "code",
   "execution_count": 22,
   "metadata": {},
   "outputs": [
    {
     "data": {
      "text/plain": [
       "133252.0"
      ]
     },
     "execution_count": 22,
     "metadata": {},
     "output_type": "execute_result"
    }
   ],
   "source": [
    "len(root_ids)/10*140"
   ]
  },
  {
   "cell_type": "code",
   "execution_count": 12,
   "metadata": {},
   "outputs": [],
   "source": [
    "subset_ids = root_ids[:10]"
   ]
  },
  {
   "cell_type": "code",
   "execution_count": 13,
   "metadata": {},
   "outputs": [],
   "source": [
    "x_values = []\n",
    "y_values = []\n",
    "for i in subset_ids:\n",
    "    input_df = client.materialize.synapse_query(post_ids=i)\n",
    "    \n",
    "    input_df.rename(columns = {'pre_pt_root_id':'pt_root_id'}, inplace = True) \n",
    "   \n",
    "    df_functional_matched = pd.merge(input_df,df,on='pt_root_id',how='inner')\n",
    "    if df_functional_matched.empty:\n",
    "        continue\n",
    "        \n",
    "    #This is the correct depth value that is retrieved by a special function created by the MICrONS team    \n",
    "    input_vertices_list = tform_vx.apply(df_functional_matched['pt_position'])\n",
    "    graph_x_stack = np.vstack(input_vertices_list)\n",
    "    graph_x_values = graph_x_stack[:,1]\n",
    "\n",
    "    output_vertices = tform_vx.apply(df.at[i,'pt_position'])\n",
    "    graph_y_value = output_vertices[1]\n",
    "    if type(graph_y_value) != np.float64:\n",
    "        continue\n",
    "    \n",
    "    num_points = len(graph_x_values)\n",
    "    x_values.extend(graph_x_values)\n",
    "    y_values.extend([graph_y_value]*num_points)\n",
    "    "
   ]
  },
  {
   "cell_type": "code",
   "execution_count": 14,
   "metadata": {},
   "outputs": [],
   "source": [
    "f_export = pd.DataFrame(list(zip(x_values, y_values)),\n",
    "               columns =['X Values', 'Y Values'])"
   ]
  },
  {
   "cell_type": "code",
   "execution_count": 19,
   "metadata": {},
   "outputs": [
    {
     "data": {
      "text/plain": [
       "(140, 2)"
      ]
     },
     "execution_count": 19,
     "metadata": {},
     "output_type": "execute_result"
    }
   ],
   "source": [
    "f_export.shape"
   ]
  },
  {
   "cell_type": "code",
   "execution_count": 16,
   "metadata": {},
   "outputs": [
    {
     "data": {
      "text/plain": [
       "<seaborn.axisgrid.JointGrid at 0x7fbc6ec52970>"
      ]
     },
     "execution_count": 16,
     "metadata": {},
     "output_type": "execute_result"
    },
    {
     "data": {
      "image/png": "[encoded data removed]",
      "text/plain": [
       "<Figure size 600x600 with 3 Axes>"
      ]
     },
     "metadata": {},
     "output_type": "display_data"
    }
   ],
   "source": [
    "sns.jointplot(x=x_values, y=y_values, kind=\"hex\", color=\"#4CB391\")"
   ]
  }
 ],
 "metadata": {
  "kernelspec": {
   "display_name": "Python 3 (ipykernel)",
   "language": "python",
   "name": "python3"
  },
  "language_info": {
   "codemirror_mode": {
    "name": "ipython",
    "version": 3
   },
   "file_extension": ".py",
   "mimetype": "text/x-python",
   "name": "python",
   "nbconvert_exporter": "python",
   "pygments_lexer": "ipython3",
   "version": "3.9.17"
  }
 },
 "nbformat": 4,
 "nbformat_minor": 2
}
